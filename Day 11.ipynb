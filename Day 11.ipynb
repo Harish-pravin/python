{
 "cells": [
  {
   "cell_type": "code",
   "execution_count": null,
   "id": "c0e28b04",
   "metadata": {},
   "outputs": [
    {
     "name": "stdout",
     "output_type": "stream",
     "text": [
      "enter the number2\n"
     ]
    }
   ],
   "source": [
    "n=int(input(\"enter the number\"))\n",
    "while True:\n",
    "    if(n%3==0 and n%5==0):\n",
    "        print(\"FizzBuzz\")\n",
    "        break\n",
    "    elif(n%3==0):\n",
    "        print(\"Fizz\")\n",
    "        break\n",
    "    elif(n%5==0):\n",
    "        print(\"Buzz\")\n",
    "        break\n",
    "    elif(n%2==0):\n",
    "        continue"
   ]
  },
  {
   "cell_type": "code",
   "execution_count": null,
   "id": "19adae5a",
   "metadata": {},
   "outputs": [],
   "source": []
  },
  {
   "cell_type": "code",
   "execution_count": null,
   "id": "d9ad796c",
   "metadata": {},
   "outputs": [],
   "source": [
    "\n"
   ]
  }
 ],
 "metadata": {
  "kernelspec": {
   "display_name": "Python 3 (ipykernel)",
   "language": "python",
   "name": "python3"
  },
  "language_info": {
   "codemirror_mode": {
    "name": "ipython",
    "version": 3
   },
   "file_extension": ".py",
   "mimetype": "text/x-python",
   "name": "python",
   "nbconvert_exporter": "python",
   "pygments_lexer": "ipython3",
   "version": "3.11.5"
  }
 },
 "nbformat": 4,
 "nbformat_minor": 5
}
