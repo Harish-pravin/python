{
 "cells": [
  {
   "cell_type": "code",
   "execution_count": 2,
   "id": "4488c5ef",
   "metadata": {},
   "outputs": [],
   "source": [
    "with open(\"C:/Users/Harish/OneDrive/Documents/flask/flask/data.txt\") as f:\n",
    "    d = f.read()"
   ]
  },
  {
   "cell_type": "code",
   "execution_count": 4,
   "id": "621a2a19",
   "metadata": {},
   "outputs": [],
   "source": [
    "app = d.split(\"\\n\")"
   ]
  },
  {
   "cell_type": "code",
   "execution_count": 5,
   "id": "1db74f26",
   "metadata": {},
   "outputs": [
    {
     "data": {
      "text/plain": [
       "['python:py1', 'java:jav1', 'kamesh:kamesh1']"
      ]
     },
     "execution_count": 5,
     "metadata": {},
     "output_type": "execute_result"
    }
   ],
   "source": [
    "app"
   ]
  },
  {
   "cell_type": "code",
   "execution_count": 8,
   "id": "f3c72223",
   "metadata": {},
   "outputs": [],
   "source": [
    "new = []\n",
    "for i in app:\n",
    "    new.append(i.split(\":\"))"
   ]
  },
  {
   "cell_type": "code",
   "execution_count": 9,
   "id": "8274acfd",
   "metadata": {},
   "outputs": [
    {
     "data": {
      "text/plain": [
       "[['python', 'py1'], ['java', 'jav1'], ['kamesh', 'kamesh1']]"
      ]
     },
     "execution_count": 9,
     "metadata": {},
     "output_type": "execute_result"
    }
   ],
   "source": [
    "new"
   ]
  },
  {
   "cell_type": "code",
   "execution_count": 11,
   "id": "6935f3f7",
   "metadata": {},
   "outputs": [
    {
     "name": "stdout",
     "output_type": "stream",
     "text": [
      "py1\n",
      "jav1\n",
      "kamesh1\n"
     ]
    }
   ],
   "source": [
    "for i in new:\n",
    "    print(i[1])"
   ]
  },
  {
   "cell_type": "code",
   "execution_count": 12,
   "id": "5c504f58",
   "metadata": {},
   "outputs": [],
   "source": [
    "a = {\"name\":\"kamesh\"}"
   ]
  },
  {
   "cell_type": "code",
   "execution_count": 13,
   "id": "1860a238",
   "metadata": {},
   "outputs": [
    {
     "data": {
      "text/plain": [
       "'kamesh'"
      ]
     },
     "execution_count": 13,
     "metadata": {},
     "output_type": "execute_result"
    }
   ],
   "source": [
    "a.get(\"name\")"
   ]
  },
  {
   "cell_type": "code",
   "execution_count": 14,
   "id": "39b01fb3",
   "metadata": {},
   "outputs": [
    {
     "data": {
      "text/plain": [
       "'kamesh'"
      ]
     },
     "execution_count": 14,
     "metadata": {},
     "output_type": "execute_result"
    }
   ],
   "source": [
    "a[\"name\"]"
   ]
  },
  {
   "cell_type": "code",
   "execution_count": null,
   "id": "4a039a5a",
   "metadata": {},
   "outputs": [],
   "source": []
  }
 ],
 "metadata": {
  "kernelspec": {
   "display_name": "Python 3 (ipykernel)",
   "language": "python",
   "name": "python3"
  },
  "language_info": {
   "codemirror_mode": {
    "name": "ipython",
    "version": 3
   },
   "file_extension": ".py",
   "mimetype": "text/x-python",
   "name": "python",
   "nbconvert_exporter": "python",
   "pygments_lexer": "ipython3",
   "version": "3.11.5"
  }
 },
 "nbformat": 4,
 "nbformat_minor": 5
}
