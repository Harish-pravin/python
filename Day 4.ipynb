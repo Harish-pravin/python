{
 "cells": [
  {
   "cell_type": "code",
   "execution_count": 11,
   "id": "8ed50669",
   "metadata": {},
   "outputs": [
    {
     "name": "stdout",
     "output_type": "stream",
     "text": [
      "First number:52\n",
      "Second number:5\n",
      "5\n",
      "52\n"
     ]
    }
   ],
   "source": [
    "a=int(input(\"First number:\"))\n",
    "b=int(input(\"Second number:\"))\n",
    "if(a>b):\n",
    "    print(b)\n",
    "    print(a)\n",
    "else:\n",
    "    print(a)\n",
    "    print(b)"
   ]
  },
  {
   "cell_type": "code",
   "execution_count": 12,
   "id": "e57c8602",
   "metadata": {},
   "outputs": [
    {
     "name": "stdout",
     "output_type": "stream",
     "text": [
      "Enter the number:12\n",
      "Thank you\n"
     ]
    }
   ],
   "source": [
    "a=int(input(\"Enter the number:\"))\n",
    "if(a<20):\n",
    "    print(\"Thank you\")\n",
    "else:\n",
    "    print(\"Its too high\")"
   ]
  },
  {
   "cell_type": "code",
   "execution_count": 1,
   "id": "9459c684",
   "metadata": {},
   "outputs": [
    {
     "name": "stdout",
     "output_type": "stream",
     "text": [
      "Enter the number16\n",
      "Thank you\n"
     ]
    }
   ],
   "source": [
    "a=int(input(\"Enter the number:\"))\n",
    "if(10<a<20):\n",
    "    print(\"Thank you\")\n",
    "else:\n",
    "    print(\"Incorrect answer\")\n"
   ]
  },
  {
   "cell_type": "code",
   "execution_count": 21,
   "id": "f3af0fb3",
   "metadata": {},
   "outputs": [
    {
     "name": "stdout",
     "output_type": "stream",
     "text": [
      "Enter the colour:red\n",
      "I Like Red\n"
     ]
    }
   ],
   "source": [
    "colour=input(\"Enter the colour:\")\n",
    "if(colour==\"RED\" or colour==\"Red\" or colour==\"red\"):\n",
    "    print(\"I Like Red\")\n",
    "else:\n",
    "    print(\"I Dont like Colour,I Prefer Red\")"
   ]
  },
  {
   "cell_type": "code",
   "execution_count": 5,
   "id": "995a7142",
   "metadata": {},
   "outputs": [
    {
     "name": "stdout",
     "output_type": "stream",
     "text": [
      "Its raining:yes\n",
      "Its windly?:no\n",
      "go to shop\n"
     ]
    }
   ],
   "source": [
    "user=input(\"Its raining:\")\n",
    "a=user.lower()\n",
    "if(a==\"yes\"):\n",
    "    wind=input(\"Its windly?:\")\n",
    "    b=wind.lower()\n",
    "    if(wind==\"yes\"):\n",
    "        print(\"Take an umbrella\")\n",
    "    else:\n",
    "        print(\"go to shop\")\n",
    "else:\n",
    "    print(\"Enjoy your day\")\n",
    "    \n"
   ]
  },
  {
   "cell_type": "code",
   "execution_count": 13,
   "id": "08613121",
   "metadata": {},
   "outputs": [
    {
     "name": "stdout",
     "output_type": "stream",
     "text": [
      "your age?:18\n",
      "You can vote\n"
     ]
    }
   ],
   "source": [
    "age=int(input(\"your age?:\"))\n",
    "if(age>=18):\n",
    "    print(\"You can vote\")\n",
    "elif(age==17):\n",
    "    print(\"You can leam to drive\")\n",
    "elif(age==16):\n",
    "    print(\"You can buy a lottery ticket\")\n",
    "elif(age<16):\n",
    "    print(\"You can go trick or treating\")"
   ]
  },
  {
   "cell_type": "code",
   "execution_count": 23,
   "id": "5c9c184f",
   "metadata": {},
   "outputs": [
    {
     "name": "stdout",
     "output_type": "stream",
     "text": [
      "number:21\n",
      "Too High\n"
     ]
    }
   ],
   "source": [
    "num=int(input(\"number:\"))\n",
    "if(num<10):\n",
    "    print(\"Too Low\")\n",
    "elif(10<=num<=20):\n",
    "    print(\"correct\")\n",
    "else:\n",
    "    print(\"Too High\")\n"
   ]
  },
  {
   "cell_type": "code",
   "execution_count": 28,
   "id": "0ff9c02a",
   "metadata": {},
   "outputs": [
    {
     "name": "stdout",
     "output_type": "stream",
     "text": [
      "enter anyone of the number between 1 to 32\n",
      "Well done\n"
     ]
    }
   ],
   "source": [
    "num=int(input(\"enter anyone of the number between 1 to 3\"))\n",
    "if(num==1):\n",
    "    print(\"Thank you\")\n",
    "elif(num==2):\n",
    "    print(\"Well done\")\n",
    "elif(num==3):\n",
    "    print(\"Correct\")\n",
    "else:\n",
    "    print(\"Error\")"
   ]
  },
  {
   "cell_type": "code",
   "execution_count": null,
   "id": "89bb93ec",
   "metadata": {},
   "outputs": [],
   "source": []
  }
 ],
 "metadata": {
  "kernelspec": {
   "display_name": "Python 3 (ipykernel)",
   "language": "python",
   "name": "python3"
  },
  "language_info": {
   "codemirror_mode": {
    "name": "ipython",
    "version": 3
   },
   "file_extension": ".py",
   "mimetype": "text/x-python",
   "name": "python",
   "nbconvert_exporter": "python",
   "pygments_lexer": "ipython3",
   "version": "3.11.5"
  }
 },
 "nbformat": 4,
 "nbformat_minor": 5
}
