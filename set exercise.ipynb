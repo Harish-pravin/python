{
 "cells": [
  {
   "cell_type": "code",
   "execution_count": 48,
   "id": "d21a501a",
   "metadata": {},
   "outputs": [
    {
     "name": "stdout",
     "output_type": "stream",
     "text": [
      "test case:2\n",
      "enter the paragraph:iiyh ygy hgyug hguyg\n",
      "{'hgyug', 'iiyh', 'hguyg', 'ygy'}\n",
      "4\n",
      "enter the paragraph:hgh hgh hgub hgu\n",
      "{'hgh', 'hgub', 'hgu'}\n",
      "3\n",
      "7\n"
     ]
    }
   ],
   "source": [
    "a=int(input(\"test case:\"))\n",
    "c=0\n",
    "for i in range(a):\n",
    "    b=input(\"enter the paragraph:\").split()\n",
    "    print(set(b))\n",
    "    b=set(b)\n",
    "    print(len(b))\n",
    "    d=len(b)\n",
    "    c+=d\n",
    "print(c)"
   ]
  },
  {
   "cell_type": "code",
   "execution_count": null,
   "id": "d219233c",
   "metadata": {},
   "outputs": [],
   "source": []
  },
  {
   "cell_type": "code",
   "execution_count": null,
   "id": "c2a3a747",
   "metadata": {},
   "outputs": [],
   "source": []
  }
 ],
 "metadata": {
  "kernelspec": {
   "display_name": "Python 3 (ipykernel)",
   "language": "python",
   "name": "python3"
  },
  "language_info": {
   "codemirror_mode": {
    "name": "ipython",
    "version": 3
   },
   "file_extension": ".py",
   "mimetype": "text/x-python",
   "name": "python",
   "nbconvert_exporter": "python",
   "pygments_lexer": "ipython3",
   "version": "3.11.5"
  }
 },
 "nbformat": 4,
 "nbformat_minor": 5
}
