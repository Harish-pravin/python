{
 "cells": [
  {
   "cell_type": "code",
   "execution_count": null,
   "id": "9241a8df",
   "metadata": {},
   "outputs": [],
   "source": [
    "first_name=input()\n",
    "print('Hello',first_name)"
   ]
  },
  {
   "cell_type": "code",
   "execution_count": null,
   "id": "fac08b3e",
   "metadata": {},
   "outputs": [],
   "source": []
  },
  {
   "cell_type": "code",
   "execution_count": null,
   "id": "3f9cd6df",
   "metadata": {},
   "outputs": [],
   "source": [
    "first_name=input()\n",
    "surname=input()\n",
    "fullname='Hello'+' '+first_name+' '+surname\n",
    "print(fullname)"
   ]
  },
  {
   "cell_type": "code",
   "execution_count": null,
   "id": "292094ea",
   "metadata": {},
   "outputs": [],
   "source": [
    "print(\"joke:what do you call a bear with no teeth?\\nanswer:A Gummy bear\")"
   ]
  },
  {
   "cell_type": "code",
   "execution_count": null,
   "id": "5063412e",
   "metadata": {},
   "outputs": [],
   "source": [
    "a=int(input())\n",
    "b=int(input())\n",
    "c=a+b\n",
    "print(\"The total answer is\",c)"
   ]
  },
  {
   "cell_type": "code",
   "execution_count": null,
   "id": "c4455976",
   "metadata": {},
   "outputs": [],
   "source": [
    "a=int(input())\n",
    "b=int(input())\n",
    "c=int(input())\n",
    "print('the answer is',a+b*c)"
   ]
  },
  {
   "cell_type": "code",
   "execution_count": null,
   "id": "e6fbce14",
   "metadata": {},
   "outputs": [],
   "source": [
    "pizza=int(input())\n",
    "eat_pizza=int(input())\n",
    "remaining=pizza-eat_pizza\n",
    "print('the remaining pizza:',remaining)\n"
   ]
  },
  {
   "cell_type": "code",
   "execution_count": null,
   "id": "030c5e4b",
   "metadata": {},
   "outputs": [],
   "source": [
    "name=input()\n",
    "age=int(input())\n",
    "print(name,\"next birthday you will be\",age+1)"
   ]
  },
  {
   "cell_type": "code",
   "execution_count": null,
   "id": "092b712a",
   "metadata": {},
   "outputs": [],
   "source": [
    "total_bill=int(input())\n",
    "diners=int(input())\n",
    "pay=total_bill/diners\n",
    "print(\"each must pay:\",pay)"
   ]
  },
  {
   "cell_type": "code",
   "execution_count": 3,
   "id": "1caed8f1",
   "metadata": {},
   "outputs": [
    {
     "name": "stdout",
     "output_type": "stream",
     "text": [
      "5\n",
      "120 hrs 7200 minutes 432000 seconds\n"
     ]
    }
   ],
   "source": [
    "days=int(input())\n",
    "hour=days*24\n",
    "minutes=days*1440\n",
    "sec=days*86400\n",
    "print(hour,'hrs',minutes,'minutes',sec,'seconds')"
   ]
  },
  {
   "cell_type": "code",
   "execution_count": 4,
   "id": "3ce452be",
   "metadata": {},
   "outputs": [
    {
     "name": "stdout",
     "output_type": "stream",
     "text": [
      "Enter the KG5\n",
      "The pounds are: 11.025\n"
     ]
    }
   ],
   "source": [
    "user=int(input(\"Enter the KG\"))\n",
    "pounds=user*2.205\n",
    "print(\"The pounds are:\",pounds)"
   ]
  },
  {
   "cell_type": "code",
   "execution_count": null,
   "id": "222d00f6",
   "metadata": {},
   "outputs": [],
   "source": [
    "large=int(input('enter the number over 100:'))\n",
    "small=int(input('enter the number under 10:'))\n",
    "ans=large//small\n",
    "print(ans)"
   ]
  },
  {
   "cell_type": "code",
   "execution_count": null,
   "id": "8e91da3a",
   "metadata": {},
   "outputs": [],
   "source": []
  }
 ],
 "metadata": {
  "kernelspec": {
   "display_name": "Python 3 (ipykernel)",
   "language": "python",
   "name": "python3"
  },
  "language_info": {
   "codemirror_mode": {
    "name": "ipython",
    "version": 3
   },
   "file_extension": ".py",
   "mimetype": "text/x-python",
   "name": "python",
   "nbconvert_exporter": "python",
   "pygments_lexer": "ipython3",
   "version": "3.11.5"
  }
 },
 "nbformat": 4,
 "nbformat_minor": 5
}
