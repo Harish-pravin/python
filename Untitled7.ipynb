{
 "cells": [
  {
   "cell_type": "code",
   "execution_count": 6,
   "id": "418df904",
   "metadata": {},
   "outputs": [],
   "source": [
    "a = {\"ch to co\":{\"bus1\":[*range(1,26)],\"bus2\":[*range(1,26)]}}"
   ]
  },
  {
   "cell_type": "code",
   "execution_count": 8,
   "id": "625a4f20",
   "metadata": {},
   "outputs": [
    {
     "data": {
      "text/plain": [
       "dict_keys(['sjdnjs', 'djnfjdc'])"
      ]
     },
     "execution_count": 8,
     "metadata": {},
     "output_type": "execute_result"
    }
   ],
   "source": [
    "a={\"sjdnjs\":1000,\"djnfjdc\":100}\n",
    "a.keys()\n"
   ]
  },
  {
   "cell_type": "code",
   "execution_count": 14,
   "id": "d5e6d049",
   "metadata": {},
   "outputs": [
    {
     "data": {
      "text/plain": [
       "dict_keys(['ch to co'])"
      ]
     },
     "execution_count": 14,
     "metadata": {},
     "output_type": "execute_result"
    }
   ],
   "source": [
    "a = {\"ch to co\":{\"bus1\":[*range(1,26)],\"bus2\":[*range(1,26)]}}\n",
    "a.keys()"
   ]
  },
  {
   "cell_type": "code",
   "execution_count": 14,
   "id": "bb1c2828",
   "metadata": {},
   "outputs": [
    {
     "name": "stdout",
     "output_type": "stream",
     "text": [
      "enter t2\n"
     ]
    },
    {
     "ename": "TypeError",
     "evalue": "Ice.add() missing 1 required positional argument: 'b'",
     "output_type": "error",
     "traceback": [
      "\u001b[1;31m---------------------------------------------------------------------------\u001b[0m",
      "\u001b[1;31mTypeError\u001b[0m                                 Traceback (most recent call last)",
      "Cell \u001b[1;32mIn[14], line 6\u001b[0m\n\u001b[0;32m      4\u001b[0m         \u001b[38;5;28mprint\u001b[39m(x)\n\u001b[0;32m      5\u001b[0m c1\u001b[38;5;241m=\u001b[39mIce()\n\u001b[1;32m----> 6\u001b[0m c1\u001b[38;5;241m.\u001b[39madd(\u001b[38;5;28mint\u001b[39m(\u001b[38;5;28minput\u001b[39m(\u001b[38;5;124m\"\u001b[39m\u001b[38;5;124menter t\u001b[39m\u001b[38;5;124m\"\u001b[39m)))\n\u001b[0;32m      7\u001b[0m c2\u001b[38;5;241m=\u001b[39mIce()\n\u001b[0;32m      8\u001b[0m c2\u001b[38;5;241m.\u001b[39madd(\u001b[38;5;241m8\u001b[39m,\u001b[38;5;241m10\u001b[39m)\n",
      "\u001b[1;31mTypeError\u001b[0m: Ice.add() missing 1 required positional argument: 'b'"
     ]
    }
   ],
   "source": [
    "class Ice:\n",
    "    def add(self,a,b):\n",
    "        x=a+b\n",
    "        print(x)\n",
    "c1=Ice()\n",
    "c1.add(int(input(\"enter t\")))\n",
    "c2=Ice()\n",
    "c2.add(8,10)"
   ]
  },
  {
   "cell_type": "code",
   "execution_count": null,
   "id": "ae3ca432",
   "metadata": {},
   "outputs": [],
   "source": []
  },
  {
   "cell_type": "code",
   "execution_count": null,
   "id": "1c8c7fe6",
   "metadata": {},
   "outputs": [],
   "source": [
    "es\n"
   ]
  }
 ],
 "metadata": {
  "kernelspec": {
   "display_name": "Python 3 (ipykernel)",
   "language": "python",
   "name": "python3"
  },
  "language_info": {
   "codemirror_mode": {
    "name": "ipython",
    "version": 3
   },
   "file_extension": ".py",
   "mimetype": "text/x-python",
   "name": "python",
   "nbconvert_exporter": "python",
   "pygments_lexer": "ipython3",
   "version": "3.11.5"
  }
 },
 "nbformat": 4,
 "nbformat_minor": 5
}
