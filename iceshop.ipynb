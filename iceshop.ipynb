{
 "cells": [
  {
   "cell_type": "code",
   "execution_count": null,
   "id": "dd317b68",
   "metadata": {},
   "outputs": [
    {
     "name": "stdout",
     "output_type": "stream",
     "text": [
      "do you want to purchase or update:1.update\n",
      " 2.purchase1\n",
      "enter the id:5\n",
      "enter the user name:dnfjndf\n",
      "enter the ice name:dmnfjdf\n",
      "enter the flavour name:jhdfnjdf\n",
      "enter the qty price:6\n",
      "how many qty:4\n",
      "inserted\n",
      "  id  name     icename    flavour      perqtyprice    qty    totalamount\n",
      "----  -------  ---------  ---------  -------------  -----  -------------\n",
      "   2  arun     arun       vennila               40      4            160\n",
      "   1  Harish   ibaco      choco                 60      3            180\n",
      "   5  dnfjndf  dmnfjdf    jhdfnjdf               6      4             24\n",
      "do you want to continue?:1.yes\n",
      " 2.noyes\n",
      "do you want to purchase or update:1.update\n",
      " 2.purchase2\n",
      "enter the id no:5\n",
      "purchased\n"
     ]
    }
   ],
   "source": [
    "import mysql.connector\n",
    "con=mysql.connector.connect(host=\"localhost\",user=\"root\",password=\"Harish@879\",database=\"icecream\")\n",
    "res=con.cursor()\n",
    "from tabulate import tabulate\n",
    "def insert():\n",
    "    id=int(input(\"enter the id:\"))\n",
    "    name=input(\"enter the user name:\")\n",
    "    icename=input(\"enter the ice name:\")\n",
    "    flavour=input(\"enter the flavour name:\")\n",
    "    perqtyprice=int(input(\"enter the qty price:\"))\n",
    "    qty=int(input(\"how many qty:\"))\n",
    "    \n",
    "    totalamount=(qty*perqtyprice)\n",
    "    qry=\"insert into shop values(%s,%s,%s,%s,%s,%s,%s)\"\n",
    "    val=(id,name,icename,flavour,perqtyprice,qty,totalamount)\n",
    "    res.execute(qry,val)\n",
    "    con.commit()\n",
    "    print(\"inserted\")\n",
    "    qry=\"select * from shop\"\n",
    "    res.execute(qry)\n",
    "    data=res.fetchall()\n",
    "    print(tabulate(data,headers=[\"id\",\"name\",\"icename\",\"flavour\",\"perqtyprice\",\"qty\",\"totalamount\"]))\n",
    "def delete():\n",
    "    id=int(input(\"enter the id no:\"))\n",
    "    qry=\"delete from shop where(id=%s)\"\n",
    "    val=(id,)\n",
    "    res.execute(qry,val)\n",
    "    con.commit()\n",
    "    print(\"data deleted\")\n",
    "n=\"yes\"\n",
    "while n==\"yes\":\n",
    "    p=input(\"do you want to purchase:1.yes\\n 2.no\")\n",
    "    if(p==\"yes\" or p==\"1\"):\n",
    "        insert()\n",
    "    else:\n",
    "        delete()\n",
    "    n=input(\"do you want to continue?:1.yes\\n 2.no\").lower()"
   ]
  },
  {
   "cell_type": "code",
   "execution_count": 2,
   "id": "8cf5b5d2",
   "metadata": {},
   "outputs": [
    {
     "name": "stdout",
     "output_type": "stream",
     "text": [
      "dict_keys(['arun', 'ibaco'])\n",
      "enter the id name1\n",
      "enter the nameHarish\n",
      "enter icenamearun\n",
      "['choco', 'vennila']\n",
      "enter the flavourchoco\n",
      "50\n",
      "enter the qty2\n",
      "purchased\n",
      "name    icename    flavour      qty    totalamount\n",
      "------  ---------  ---------  -----  -------------\n",
      "harish  arun       choco          3            150\n",
      "Harish  arun       choco          2            100\n"
     ]
    }
   ],
   "source": [
    "import mysql.connector\n",
    "con=mysql.connector.connect(host=\"localhost\",user=\"root\",password=\"Harish@879\",database=\"icecream\")\n",
    "res=con.cursor()\n",
    "from tabulate import tabulate\n",
    "def purchase():\n",
    "    storage={\"arun\":{\"choco\":50,\"vennila\":70},\"ibaco\":{\"choco\":90,\"vennila\":100}}\n",
    "    print(storage.keys())\n",
    "    id=int(input(\"enter the id name\"))\n",
    "    name=input(\"enter the name\")\n",
    "    icename=input(\"enter icename\")\n",
    "    print(list(storage[icename].keys()))\n",
    "    flavour=input(\"enter the flavour\")\n",
    "    print(storage[icename][flavour])\n",
    "    perpriceqty=storage[icename][flavour]\n",
    "    qty=int(input(\"enter the qty\"))\n",
    "    totalamount=perpriceqty*qty\n",
    "    qry=\"insert into shop values(%s,%s,%s,%s,%s,%s,%s)\"\n",
    "    val=(id,name,icename,flavour,perpriceqty,qty,totalamount)\n",
    "    res.execute(qry,val)\n",
    "    con.commit()\n",
    "    print(\"purchased\")\n",
    "    qry=\"select name,icename,flavour,qty,totalamount from shop where id=%s\"\n",
    "    val=(id,)\n",
    "    res.execute(qry,val)\n",
    "    data=res.fetchall()\n",
    "    print(tabulate(data,headers=[\"name\",\"icename\",\"flavour\",\"qty\",\"totalamount\"]))\n",
    "purchase()"
   ]
  },
  {
   "cell_type": "code",
   "execution_count": 13,
   "id": "0e9c7744",
   "metadata": {},
   "outputs": [
    {
     "data": {
      "text/plain": [
       "50"
      ]
     },
     "execution_count": 13,
     "metadata": {},
     "output_type": "execute_result"
    }
   ],
   "source": [
    "storage={\"arun\":{\"choco\":50,\"vennila\":70},\"ibaco\":{\"choco\":90,\"vennila\":100}}\n",
    "storage[\"arun\"][\"choco\"]"
   ]
  },
  {
   "cell_type": "code",
   "execution_count": 1,
   "id": "946fce54",
   "metadata": {},
   "outputs": [
    {
     "name": "stdout",
     "output_type": "stream",
     "text": [
      "hii\n"
     ]
    }
   ],
   "source": []
  },
  {
   "cell_type": "code",
   "execution_count": 3,
   "id": "934c3fec",
   "metadata": {},
   "outputs": [],
   "source": [
    "import mysql.connector\n",
    "con=mysql.connector.connect(host=\"localhost\",user=\"root\",password=\"Harish@879\",database=\"icecream\")\n",
    "res=con.cursor()\n",
    "from tabulate import tabulate"
   ]
  },
  {
   "cell_type": "code",
   "execution_count": 5,
   "id": "820f3e3c",
   "metadata": {},
   "outputs": [
    {
     "name": "stdout",
     "output_type": "stream",
     "text": [
      "  id  name    icename    flavour      perqtyprice    qty    totalamount\n",
      "----  ------  ---------  ---------  -------------  -----  -------------\n",
      "   2  arun    arun       vennila               40      4            160\n",
      "   1  harish  arun       choco                 50      3            150\n",
      "   3  arun    ibaco      vennila              100      4            400\n",
      "   5  kag     arun       vennila               70      8            560\n",
      "   7  virat   ibaco      vennila              100      6            600\n",
      "  17  lsjhas  arun       choco                 50      6            300\n",
      "  99  jut     arun       vennila               70     13            910\n",
      "   1  Harish  arun       choco                 50      2            100\n"
     ]
    }
   ],
   "source": [
    "qry=\"select * from shop\"\n",
    "res.execute(qry)\n",
    "data=res.fetchall()\n",
    "print(tabulate(data,headers=[\"id\",\"name\",\"icename\",\"flavour\",\"perqtyprice\",\"qty\",\"totalamount\"]))"
   ]
  },
  {
   "cell_type": "code",
   "execution_count": 5,
   "id": "d6583f4e",
   "metadata": {},
   "outputs": [
    {
     "name": "stdout",
     "output_type": "stream",
     "text": [
      "1\n",
      "97900\n",
      "log in sucessfully\n"
     ]
    }
   ],
   "source": [
    "import mysql.connector\n",
    "con=mysql.connector.connect(host=\"localhost\",user=\"root\",password=\"Harish@879\",database=\"harish\")\n",
    "res=con.cursor()\n",
    "from tabulate import tabulate\n",
    "cus_id=int(input())\n",
    "password=int(input())\n",
    "qry1=\"select cus_id from user_register where cus_id=%s\"\n",
    "val=(cus_id,)\n",
    "res.execute(qry1,val)\n",
    "data=res.fetchall()\n",
    "dcus_id=data[0][0]\n",
    "qry2=\"select password from user_register where cus_id=%s\"\n",
    "val=(cus_id,)\n",
    "res.execute(qry2,val)\n",
    "data=res.fetchall()\n",
    "dpass=data[0][0]\n",
    "if(cus_id==dcus_id and password==dpass):\n",
    "    print(\"log in sucessfully\")\n",
    "else:\n",
    "    print(\"error\")"
   ]
  },
  {
   "cell_type": "code",
   "execution_count": null,
   "id": "3cb9d5eb",
   "metadata": {},
   "outputs": [],
   "source": []
  }
 ],
 "metadata": {
  "kernelspec": {
   "display_name": "Python 3 (ipykernel)",
   "language": "python",
   "name": "python3"
  },
  "language_info": {
   "codemirror_mode": {
    "name": "ipython",
    "version": 3
   },
   "file_extension": ".py",
   "mimetype": "text/x-python",
   "name": "python",
   "nbconvert_exporter": "python",
   "pygments_lexer": "ipython3",
   "version": "3.11.5"
  }
 },
 "nbformat": 4,
 "nbformat_minor": 5
}
