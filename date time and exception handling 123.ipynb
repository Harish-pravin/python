{
 "cells": [
  {
   "cell_type": "markdown",
   "id": "fbacc3e4",
   "metadata": {},
   "source": [
    "# polymorphism"
   ]
  },
  {
   "cell_type": "code",
   "execution_count": 1,
   "id": "7c453ba5",
   "metadata": {},
   "outputs": [
    {
     "data": {
      "text/plain": [
       "10"
      ]
     },
     "execution_count": 1,
     "metadata": {},
     "output_type": "execute_result"
    }
   ],
   "source": [
    "5+5"
   ]
  },
  {
   "cell_type": "code",
   "execution_count": 2,
   "id": "cd4f3121",
   "metadata": {},
   "outputs": [
    {
     "data": {
      "text/plain": [
       "'theend'"
      ]
     },
     "execution_count": 2,
     "metadata": {},
     "output_type": "execute_result"
    }
   ],
   "source": [
    "\"the\" + \"end\""
   ]
  },
  {
   "cell_type": "code",
   "execution_count": 6,
   "id": "9043823e",
   "metadata": {},
   "outputs": [],
   "source": [
    "def add(a,b=0):\n",
    "    return a+b"
   ]
  },
  {
   "cell_type": "code",
   "execution_count": 8,
   "id": "01b44808",
   "metadata": {},
   "outputs": [
    {
     "data": {
      "text/plain": [
       "5"
      ]
     },
     "execution_count": 8,
     "metadata": {},
     "output_type": "execute_result"
    }
   ],
   "source": [
    "add(5)"
   ]
  },
  {
   "cell_type": "markdown",
   "id": "d5fb787c",
   "metadata": {},
   "source": [
    "Membership operators in Python\n",
    "Membership operators are used to test if a sequence is presented in an object. The use membership operators to check whether a value or variable exists in a sequence (string, list, tuples, sets, dictionary) or not. They are two membership python operators in and not in. The in Operator is checks if a value is a member of a sequence. The not in Operator is checks if a value is not a member of a sequence."
   ]
  },
  {
   "cell_type": "code",
   "execution_count": 12,
   "id": "f386b4b9",
   "metadata": {},
   "outputs": [
    {
     "name": "stdout",
     "output_type": "stream",
     "text": [
      "True\n",
      "False\n"
     ]
    }
   ],
   "source": [
    "a=[10,25,45,88]\n",
    "print(25 in a)\n",
    "print(25 not in a)"
   ]
  },
  {
   "cell_type": "markdown",
   "id": "e866d534",
   "metadata": {},
   "source": [
    "usage of membership function"
   ]
  },
  {
   "cell_type": "code",
   "execution_count": 154,
   "id": "4a153f30",
   "metadata": {},
   "outputs": [
    {
     "name": "stdout",
     "output_type": "stream",
     "text": [
      "enter the product :munch\n",
      "available\n",
      "['dairy milk', 'kit kat']\n"
     ]
    }
   ],
   "source": [
    "cat = input(\"enter the product :\").lower()\n",
    "store_product = [\"dairy milk\",\"kit kat\",\"munch\"]\n",
    "if cat not in store_product:\n",
    "    print(\"stock not availble\")\n",
    "    print(\"just try one of this\")\n",
    "    print(store_product)\n",
    "elif cat in store_product:\n",
    "    print(\"available\")\n",
    "    store_product.remove(cat)\n",
    "print(store_product)"
   ]
  },
  {
   "cell_type": "code",
   "execution_count": 1,
   "id": "2f1c32b5",
   "metadata": {},
   "outputs": [
    {
     "name": "stdout",
     "output_type": "stream",
     "text": [
      "Current Date :  2024-02-29\n"
     ]
    }
   ],
   "source": [
    "# Date Time in Python\n",
    "import datetime as dt\n",
    " \n",
    "current_date = dt.date.today()\n",
    "print(\"Current Date : \", current_date)"
   ]
  },
  {
   "cell_type": "code",
   "execution_count": 4,
   "id": "96cd9eb6",
   "metadata": {},
   "outputs": [
    {
     "name": "stdout",
     "output_type": "stream",
     "text": [
      "2021-10-25\n"
     ]
    }
   ],
   "source": [
    "new = dt.date(2021, 10, 25)\n",
    "print(new)"
   ]
  },
  {
   "cell_type": "code",
   "execution_count": 5,
   "id": "4d5c1492",
   "metadata": {},
   "outputs": [
    {
     "name": "stdout",
     "output_type": "stream",
     "text": [
      "Year :  2021\n",
      "Month :  10\n",
      "Day :  25\n"
     ]
    }
   ],
   "source": [
    "print(\"Year : \", new.year)\n",
    "print(\"Month : \", new.month)\n",
    "print(\"Day : \", new.day)\n"
   ]
  },
  {
   "cell_type": "code",
   "execution_count": 7,
   "id": "8c028cce",
   "metadata": {},
   "outputs": [
    {
     "name": "stdout",
     "output_type": "stream",
     "text": [
      "10:45:00\n",
      "Hour :  10\n",
      "minute :  45\n",
      "second :  0\n",
      "microsecond :  0\n"
     ]
    }
   ],
   "source": [
    "a = dt.time(10, 45)\n",
    "print(a)\n",
    "print(\"Hour : \", a.hour)\n",
    "print(\"minute : \", a.minute)\n",
    "print(\"second : \", a.second)\n",
    "print(\"microsecond : \", a.microsecond)"
   ]
  },
  {
   "cell_type": "code",
   "execution_count": 8,
   "id": "8ce55d64",
   "metadata": {},
   "outputs": [
    {
     "name": "stdout",
     "output_type": "stream",
     "text": [
      "Current Time :  2024-02-29 11:28:07.260914\n"
     ]
    }
   ],
   "source": [
    "current_time = dt.datetime.now()\n",
    "print(\"Current Time : \", current_time)"
   ]
  },
  {
   "cell_type": "code",
   "execution_count": 10,
   "id": "4d0186f2",
   "metadata": {},
   "outputs": [
    {
     "name": "stdout",
     "output_type": "stream",
     "text": [
      "2021-05-31 12:02:10.000342\n",
      "2021-05-31\n",
      "12:02:10.000342\n"
     ]
    }
   ],
   "source": [
    "new = dt.datetime(2021, 5, 31, 12, 2, 10,342)\n",
    "print(new)\n",
    "print(new.date())\n",
    "print(new.time())"
   ]
  },
  {
   "cell_type": "code",
   "execution_count": 11,
   "id": "5243a014",
   "metadata": {},
   "outputs": [
    {
     "name": "stdout",
     "output_type": "stream",
     "text": [
      "306 days, 12:30:29.191832\n"
     ]
    }
   ],
   "source": [
    "current = dt.datetime.now()\n",
    "new_year = dt.datetime(2025, 1, 1)\n",
    "difference = new_year - current\n",
    "print(difference)"
   ]
  },
  {
   "cell_type": "code",
   "execution_count": 14,
   "id": "5cc05caa",
   "metadata": {},
   "outputs": [
    {
     "name": "stdout",
     "output_type": "stream",
     "text": [
      "2024-02-29 11:31:06.965305\n",
      "Thursday Feb 29 24\n"
     ]
    }
   ],
   "source": [
    "current = dt.datetime.now()\n",
    "print(current)\n",
    "s=current.strftime(\"%A %b %d %y\")\n",
    "print(s)"
   ]
  },
  {
   "cell_type": "markdown",
   "id": "a985f5c6",
   "metadata": {},
   "source": [
    "Math Functions in Python\n",
    "The Python Math Library provides us access to some common math functions and constants in Python. The math module is used to access mathematical functions in the Python. Some of the most popular mathematical functions are defined in the math module. All methods of this functions are used for integer or real type objects, not for complex numbers.\n",
    "\n",
    "sqrt ( ) => The square root of the argument\n",
    "ceil ( ) => Rounds float value up to an integer value\n",
    "floor ( ) => Rounds float value down to an integer value\n",
    "fabs ( ) => Value is return to the absolute ( positive ) value\n",
    "pow ( ) => Returns the value of the first parameter raised to the second parameter\n",
    "factorial ( ) => Returns the factorial of a number"
   ]
  },
  {
   "cell_type": "code",
   "execution_count": 34,
   "id": "27aee39b",
   "metadata": {},
   "outputs": [
    {
     "name": "stdout",
     "output_type": "stream",
     "text": [
      "2.0\n",
      "2\n",
      "1\n",
      "120\n",
      "8.0\n",
      "3.141592653589793\n",
      "2.718281828459045\n"
     ]
    }
   ],
   "source": [
    "import math\n",
    " \n",
    "print(math.sqrt(4))\n",
    "print(math.ceil(1.55555))\n",
    "print(math.floor(1.55555))\n",
    "# 5! => 1*2*3*4*5\n",
    "print(math.factorial(5))\n",
    "print(math.pow(2, 3))\n",
    "print(math.pi)\n",
    "print(math.e)\n",
    " "
   ]
  },
  {
   "cell_type": "code",
   "execution_count": 37,
   "id": "9c651aee",
   "metadata": {},
   "outputs": [
    {
     "name": "stdout",
     "output_type": "stream",
     "text": [
      "the name  kamesh  and age is  24\n"
     ]
    }
   ],
   "source": [
    "print(\"the name \",name ,\" and age is \",age)"
   ]
  },
  {
   "cell_type": "code",
   "execution_count": 38,
   "id": "5361f09f",
   "metadata": {},
   "outputs": [
    {
     "name": "stdout",
     "output_type": "stream",
     "text": [
      "the name kamesh and age is 24\n"
     ]
    }
   ],
   "source": [
    "name = \"kamesh\"\n",
    "age = 24\n",
    "print(f'the name {name} and age is {age}')"
   ]
  },
  {
   "cell_type": "code",
   "execution_count": 39,
   "id": "aecdff0a",
   "metadata": {},
   "outputs": [
    {
     "name": "stdout",
     "output_type": "stream",
     "text": [
      "the value of c is 15\n"
     ]
    }
   ],
   "source": [
    "a = 5\n",
    "b = 10\n",
    "c = a+b\n",
    "print(f'the value of c is {c}')"
   ]
  },
  {
   "cell_type": "code",
   "execution_count": 40,
   "id": "9e8c27f0",
   "metadata": {},
   "outputs": [],
   "source": [
    "def add(a=10,b=5):\n",
    "    return f'the added value is {a+b}'"
   ]
  },
  {
   "cell_type": "code",
   "execution_count": 41,
   "id": "22ba9430",
   "metadata": {},
   "outputs": [
    {
     "data": {
      "text/plain": [
       "'the added value is 15'"
      ]
     },
     "execution_count": 41,
     "metadata": {},
     "output_type": "execute_result"
    }
   ],
   "source": [
    "add()"
   ]
  },
  {
   "cell_type": "code",
   "execution_count": 42,
   "id": "60a92998",
   "metadata": {},
   "outputs": [],
   "source": [
    "name1,name2,name3 = \"kamesh\",\"kannan\",\"hello\""
   ]
  },
  {
   "cell_type": "code",
   "execution_count": 46,
   "id": "de134212",
   "metadata": {},
   "outputs": [
    {
     "name": "stdout",
     "output_type": "stream",
     "text": [
      "kamesh kannan hello\n",
      "kamesh            kannan            hello\n"
     ]
    }
   ],
   "source": [
    "print(name1,name2,name3)\n",
    "print(name1,name2,name3,sep=\"            \")"
   ]
  },
  {
   "cell_type": "code",
   "execution_count": 52,
   "id": "8c0f9d60",
   "metadata": {},
   "outputs": [
    {
     "name": "stdout",
     "output_type": "stream",
     "text": [
      "['hello', 'hii', 'west', 'east']\n"
     ]
    }
   ],
   "source": [
    "a = [\"hello\",\"hii\",\"west\",\"east\"]\n",
    "#print(a)\n",
    "b=\" \".join(a)\n",
    "print(b.split())\n",
    "#type(b)"
   ]
  },
  {
   "cell_type": "markdown",
   "id": "707a3c04",
   "metadata": {},
   "source": [
    "python have three type of errors.they are compile time error,logical error,run time"
   ]
  },
  {
   "cell_type": "code",
   "execution_count": 15,
   "id": "8bc7d547",
   "metadata": {},
   "outputs": [
    {
     "name": "stdout",
     "output_type": "stream",
     "text": [
      "Enter a numbercvbn\n"
     ]
    },
    {
     "ename": "ValueError",
     "evalue": "invalid literal for int() with base 10: 'cvbn'",
     "output_type": "error",
     "traceback": [
      "\u001b[1;31m---------------------------------------------------------------------------\u001b[0m",
      "\u001b[1;31mValueError\u001b[0m                                Traceback (most recent call last)",
      "Cell \u001b[1;32mIn[15], line 1\u001b[0m\n\u001b[1;32m----> 1\u001b[0m k \u001b[38;5;241m=\u001b[39m \u001b[38;5;28mint\u001b[39m(\u001b[38;5;28minput\u001b[39m(\u001b[38;5;124m\"\u001b[39m\u001b[38;5;124mEnter a number\u001b[39m\u001b[38;5;124m\"\u001b[39m))\n\u001b[0;32m      2\u001b[0m \u001b[38;5;28mprint\u001b[39m(k)\n",
      "\u001b[1;31mValueError\u001b[0m: invalid literal for int() with base 10: 'cvbn'"
     ]
    }
   ],
   "source": [
    "k = int(input(\"Enter a number\"))\n",
    "print(k)"
   ]
  },
  {
   "cell_type": "code",
   "execution_count": 16,
   "id": "15a6669f",
   "metadata": {},
   "outputs": [
    {
     "ename": "ZeroDivisionError",
     "evalue": "division by zero",
     "output_type": "error",
     "traceback": [
      "\u001b[1;31m---------------------------------------------------------------------------\u001b[0m",
      "\u001b[1;31mZeroDivisionError\u001b[0m                         Traceback (most recent call last)",
      "Cell \u001b[1;32mIn[16], line 1\u001b[0m\n\u001b[1;32m----> 1\u001b[0m \u001b[38;5;241m5\u001b[39m\u001b[38;5;241m/\u001b[39m\u001b[38;5;241m0\u001b[39m\n",
      "\u001b[1;31mZeroDivisionError\u001b[0m: division by zero"
     ]
    }
   ],
   "source": [
    "5/0"
   ]
  },
  {
   "cell_type": "code",
   "execution_count": 29,
   "id": "b92cc961",
   "metadata": {},
   "outputs": [
    {
     "name": "stdout",
     "output_type": "stream",
     "text": [
      "start\n",
      "1.6666666666666667\n",
      "Enter a agethgfdsaa\n",
      "invalid literal for int() with base 10: 'thgfdsaa'\n",
      "end\n"
     ]
    }
   ],
   "source": [
    "a = 5\n",
    "b = 3\n",
    "\n",
    "try:\n",
    "    print(\"start\")\n",
    "    print(a/b)\n",
    "    age = int(input(\"Enter a age\"))\n",
    "    print(age)\n",
    "\n",
    "#except ZeroDivisionError as e:\n",
    "    #print(\"Hey, You cannot divide a Number by Zero\")\n",
    "\n",
    "#except ValueError as e:\n",
    "    #print(e)\n",
    "\n",
    "except Exception as e:\n",
    "    print(e)\n",
    "else:\n",
    "    for i in range(1,10):\n",
    "        print(i)\n",
    "finally:\n",
    "    print(\"end\")"
   ]
  },
  {
   "cell_type": "code",
   "execution_count": 32,
   "id": "3e1fa7bd",
   "metadata": {},
   "outputs": [
    {
     "name": "stdout",
     "output_type": "stream",
     "text": [
      "division by zero\n",
      "1\n",
      "2\n",
      "3\n",
      "4\n"
     ]
    }
   ],
   "source": [
    "try:\n",
    "    a = 10 / 0\n",
    "except Exception as e:\n",
    "    print(e)\n",
    "else:\n",
    "    print(\"A Value : \",a)\n",
    "for i in range(1,5):\n",
    "    print(i)"
   ]
  },
  {
   "cell_type": "code",
   "execution_count": 34,
   "id": "893b9ce6",
   "metadata": {},
   "outputs": [
    {
     "name": "stdout",
     "output_type": "stream",
     "text": [
      "A Value :  5.0\n",
      "Thank You\n"
     ]
    }
   ],
   "source": [
    "try:\n",
    "    a = 10 / 2\n",
    "except Exception as e:\n",
    "    print(e)\n",
    "else:\n",
    "    print(\"A Value : \",a)\n",
    "finally:\n",
    "    print(\"Thank You\")"
   ]
  },
  {
   "cell_type": "code",
   "execution_count": 37,
   "id": "4a77b324",
   "metadata": {},
   "outputs": [],
   "source": [
    "f=10"
   ]
  },
  {
   "cell_type": "code",
   "execution_count": 38,
   "id": "bc211ebd",
   "metadata": {},
   "outputs": [
    {
     "name": "stdout",
     "output_type": "stream",
     "text": [
      "10\n"
     ]
    }
   ],
   "source": [
    "try:\n",
    "    print(f)\n",
    "except NameError as e:\n",
    "    print(e)"
   ]
  },
  {
   "cell_type": "code",
   "execution_count": 39,
   "id": "bf4a622d",
   "metadata": {},
   "outputs": [
    {
     "name": "stdout",
     "output_type": "stream",
     "text": [
      "denominator cant be zero\n"
     ]
    }
   ],
   "source": [
    "try:\n",
    "    print(10 / 0)\n",
    "except ZeroDivisionError as e:\n",
    "    print(\"denominator cant be zero\")"
   ]
  },
  {
   "cell_type": "code",
   "execution_count": 41,
   "id": "fca9fbf5",
   "metadata": {},
   "outputs": [
    {
     "name": "stdout",
     "output_type": "stream",
     "text": [
      "Please Enter Numbers only\n"
     ]
    }
   ],
   "source": [
    "try:\n",
    "    a = int(\"fhgdfx\")\n",
    "except ValueError as e:\n",
    "    print(\"Please Enter Numbers only\")\n",
    "else:\n",
    "    print(a)"
   ]
  },
  {
   "cell_type": "code",
   "execution_count": 42,
   "id": "a37578c7",
   "metadata": {},
   "outputs": [],
   "source": [
    "a = [2,3,45,6,6,7]"
   ]
  },
  {
   "cell_type": "code",
   "execution_count": 43,
   "id": "bf4c7833",
   "metadata": {},
   "outputs": [
    {
     "ename": "IndexError",
     "evalue": "list index out of range",
     "output_type": "error",
     "traceback": [
      "\u001b[1;31m---------------------------------------------------------------------------\u001b[0m",
      "\u001b[1;31mIndexError\u001b[0m                                Traceback (most recent call last)",
      "Cell \u001b[1;32mIn[43], line 1\u001b[0m\n\u001b[1;32m----> 1\u001b[0m a[\u001b[38;5;241m10\u001b[39m]\n",
      "\u001b[1;31mIndexError\u001b[0m: list index out of range"
     ]
    }
   ],
   "source": [
    "a[10]"
   ]
  },
  {
   "cell_type": "code",
   "execution_count": 50,
   "id": "5ddd3c88",
   "metadata": {},
   "outputs": [
    {
     "name": "stdout",
     "output_type": "stream",
     "text": [
      "end\n"
     ]
    },
    {
     "ename": "IndexError",
     "evalue": "list index out of range",
     "output_type": "error",
     "traceback": [
      "\u001b[1;31m---------------------------------------------------------------------------\u001b[0m",
      "\u001b[1;31mIndexError\u001b[0m                                Traceback (most recent call last)",
      "Cell \u001b[1;32mIn[50], line 6\u001b[0m\n\u001b[0;32m      4\u001b[0m     \u001b[38;5;28mprint\u001b[39m(\u001b[38;5;124m\"\u001b[39m\u001b[38;5;124mInvalid Index\u001b[39m\u001b[38;5;124m\"\u001b[39m)\n\u001b[0;32m      5\u001b[0m \u001b[38;5;28;01melse\u001b[39;00m:\n\u001b[1;32m----> 6\u001b[0m      \u001b[38;5;28mprint\u001b[39m(a[\u001b[38;5;241m20\u001b[39m])\n\u001b[0;32m      7\u001b[0m \u001b[38;5;28;01mfinally\u001b[39;00m:\n\u001b[0;32m      8\u001b[0m     \u001b[38;5;28mprint\u001b[39m(\u001b[38;5;124m\"\u001b[39m\u001b[38;5;124mend\u001b[39m\u001b[38;5;124m\"\u001b[39m)\n",
      "\u001b[1;31mIndexError\u001b[0m: list index out of range"
     ]
    }
   ],
   "source": [
    "try:\n",
    "    a = [10, 20, 30, 40]\n",
    "except IndexError as e:\n",
    "    print(\"Invalid Index\")\n",
    "else:\n",
    "     print(a[20])\n",
    "finally:\n",
    "    print(\"end\")"
   ]
  },
  {
   "cell_type": "code",
   "execution_count": 46,
   "id": "1a74b332",
   "metadata": {},
   "outputs": [
    {
     "name": "stdout",
     "output_type": "stream",
     "text": [
      "File Not Found\n"
     ]
    }
   ],
   "source": [
    "try:\n",
    "    f = open(\"tesot.txt\")\n",
    "except FileNotFoundError:\n",
    "    print(\"File Not Found\")\n",
    "else:\n",
    "    print(f.read())"
   ]
  },
  {
   "cell_type": "code",
   "execution_count": 82,
   "id": "77649084",
   "metadata": {},
   "outputs": [],
   "source": [
    "def add(*val):\n",
    "    name=[]\n",
    "    age = []\n",
    "    employee_id = []\n",
    "    for i in val:\n",
    "        if type(i)==str:\n",
    "            if i.startswith(\"id\"):\n",
    "                employee_id.append(i)\n",
    "            else:\n",
    "                name.append(i)\n",
    "        elif type(i)==int:\n",
    "            age.append(i)\n",
    "    #return name,age,employee_id\n",
    "    return f'student name {name} and the age is {age} and employee id {employee_id}'"
   ]
  },
  {
   "cell_type": "code",
   "execution_count": 83,
   "id": "c18b4b24",
   "metadata": {},
   "outputs": [
    {
     "data": {
      "text/plain": [
       "\"student name ['sdf', 'ergh'] and the age is [45, 45] and employee id ['id23456', 'id34556']\""
      ]
     },
     "execution_count": 83,
     "metadata": {},
     "output_type": "execute_result"
    }
   ],
   "source": [
    "add(\"sdf\",45,\"ergh\",45,\"id23456\",\"id34556\")"
   ]
  },
  {
   "cell_type": "code",
   "execution_count": 86,
   "id": "c59df7c3",
   "metadata": {},
   "outputs": [],
   "source": [
    "def na(**data):\n",
    "    d = data\n",
    "    age = data[\"age\"]\n",
    "    print(age)\n",
    "    for i in d.keys():\n",
    "        print(i)\n",
    "    for i in d.values():\n",
    "        print(i)\n",
    "    print(data)"
   ]
  },
  {
   "cell_type": "code",
   "execution_count": 87,
   "id": "3c6d5dd9",
   "metadata": {},
   "outputs": [
    {
     "name": "stdout",
     "output_type": "stream",
     "text": [
      "[13, 34, 46, 87]\n",
      "name\n",
      "age\n",
      "[1, 3, 4, 5, 6, 6]\n",
      "[13, 34, 46, 87]\n",
      "{'name': [1, 3, 4, 5, 6, 6], 'age': [13, 34, 46, 87]}\n"
     ]
    }
   ],
   "source": [
    "na(name=[1,3,4,5,6,6],age=[13,34,46,87])"
   ]
  },
  {
   "cell_type": "code",
   "execution_count": null,
   "id": "bf0026c1",
   "metadata": {},
   "outputs": [],
   "source": []
  }
 ],
 "metadata": {
  "kernelspec": {
   "display_name": "Python 3 (ipykernel)",
   "language": "python",
   "name": "python3"
  },
  "language_info": {
   "codemirror_mode": {
    "name": "ipython",
    "version": 3
   },
   "file_extension": ".py",
   "mimetype": "text/x-python",
   "name": "python",
   "nbconvert_exporter": "python",
   "pygments_lexer": "ipython3",
   "version": "3.11.5"
  }
 },
 "nbformat": 4,
 "nbformat_minor": 5
}
