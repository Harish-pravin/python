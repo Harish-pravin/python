{
 "cells": [
  {
   "cell_type": "code",
   "execution_count": 26,
   "id": "7f50c036",
   "metadata": {},
   "outputs": [],
   "source": [
    "import selenium.webdriver as webdriver\n",
    "#from selenium.webdriver.chrome.service import Service\n",
    "#from selenium.webdriver.chrome.options import Options\n",
    "from webdriver_manager.chrome import ChromeDriverManager\n",
    "from selenium.webdriver.support.ui import WebDriverWait\n",
    "from selenium.webdriver.support import expected_conditions as EC\n",
    "#import streamlit as st \n",
    "\n",
    "# Import additional libraries\n",
    "import pandas as pd\n",
    "from selenium.webdriver.common.by import By\n",
    "from time import sleep\n",
    "chrome_driver = ChromeDriverManager().install()\n",
    "driver = webdriver.Chrome()"
   ]
  },
  {
   "cell_type": "code",
   "execution_count": 27,
   "id": "36a52630",
   "metadata": {},
   "outputs": [],
   "source": [
    "movie_name=[]\n",
    "def movies_name():\n",
    "    driver.get('https://www.imdb.com/chart/top/')\n",
    "    movies=driver.find_elements(By.XPATH, '//h3[@class=\"ipc-title__text\"]')\n",
    "    for movies in  movies:\n",
    "        movie_name.append(movies.text)\n",
    "movies_name()\n",
    "        "
   ]
  },
  {
   "cell_type": "code",
   "execution_count": 28,
   "id": "264d66db",
   "metadata": {},
   "outputs": [
    {
     "data": {
      "text/plain": [
       "['IMDb Charts',\n",
       " '1. The Shawshank Redemption',\n",
       " '2. The Godfather',\n",
       " '3. The Dark Knight',\n",
       " '4. The Godfather Part II',\n",
       " '5. 12 Angry Men',\n",
       " \"6. Schindler's List\",\n",
       " '7. The Lord of the Rings: The Return of the King',\n",
       " '8. Pulp Fiction',\n",
       " '9. The Lord of the Rings: The Fellowship of the Ring',\n",
       " '10. The Good, the Bad and the Ugly',\n",
       " '11. Forrest Gump',\n",
       " '12. Fight Club',\n",
       " '13. The Lord of the Rings: The Two Towers',\n",
       " '14. Inception',\n",
       " '15. Star Wars: Episode V - The Empire Strikes Back',\n",
       " '16. The Matrix',\n",
       " '17. Goodfellas',\n",
       " \"18. One Flew Over the Cuckoo's Nest\",\n",
       " '19. Se7en',\n",
       " \"20. It's a Wonderful Life\",\n",
       " '21. Seven Samurai',\n",
       " '22. Interstellar',\n",
       " '23. The Silence of the Lambs',\n",
       " '24. Saving Private Ryan',\n",
       " '25. City of God',\n",
       " '26. Life Is Beautiful',\n",
       " '27. The Green Mile',\n",
       " '28. Spider-Man: Across the Spider-Verse',\n",
       " '29. Star Wars: Episode IV - A New Hope',\n",
       " '30. Terminator 2: Judgment Day',\n",
       " '31. Back to the Future',\n",
       " '32. Spirited Away',\n",
       " '33. The Pianist',\n",
       " '34. Psycho',\n",
       " '35. Parasite',\n",
       " '36. Gladiator',\n",
       " '37. The Lion King',\n",
       " '38. Léon: The Professional',\n",
       " '39. American History X',\n",
       " '40. The Departed',\n",
       " '41. Whiplash',\n",
       " '42. The Prestige',\n",
       " '43. The Usual Suspects',\n",
       " '44. Grave of the Fireflies',\n",
       " '45. Harakiri',\n",
       " '46. Casablanca',\n",
       " '47. The Intouchables',\n",
       " '48. Modern Times',\n",
       " '49. Cinema Paradiso',\n",
       " '50. Once Upon a Time in the West',\n",
       " '51. Rear Window',\n",
       " '52. Alien',\n",
       " '53. City Lights',\n",
       " '54. Apocalypse Now',\n",
       " '55. Django Unchained',\n",
       " '56. Memento',\n",
       " '57. Raiders of the Lost Ark',\n",
       " '58. WALL·E',\n",
       " '59. The Lives of Others',\n",
       " '60. Oppenheimer',\n",
       " '61. Sunset Blvd.',\n",
       " '62. Paths of Glory',\n",
       " '63. Avengers: Infinity War',\n",
       " '64. The Shining',\n",
       " '65. The Great Dictator',\n",
       " '66. Spider-Man: Into the Spider-Verse',\n",
       " '67. Witness for the Prosecution',\n",
       " '68. Aliens',\n",
       " '69. Inglourious Basterds',\n",
       " '70. The Dark Knight Rises',\n",
       " '71. American Beauty',\n",
       " '72. Dr. Strangelove or: How I Learned to Stop Worrying and Love the Bomb',\n",
       " '73. Oldboy',\n",
       " '74. Coco',\n",
       " '75. Amadeus',\n",
       " '76. Toy Story',\n",
       " '77. Das Boot',\n",
       " '78. Braveheart',\n",
       " '79. Avengers: Endgame',\n",
       " '80. Joker',\n",
       " '81. Princess Mononoke',\n",
       " '82. Good Will Hunting',\n",
       " '83. Your Name.',\n",
       " '84. Once Upon a Time in America',\n",
       " '85. High and Low',\n",
       " '86. 3 Idiots',\n",
       " \"87. Singin' in the Rain\",\n",
       " '88. Capernaum',\n",
       " '89. Requiem for a Dream',\n",
       " '90. Come and See',\n",
       " '91. Toy Story 3',\n",
       " '92. Star Wars: Episode VI - Return of the Jedi',\n",
       " '93. Eternal Sunshine of the Spotless Mind',\n",
       " '94. 2001: A Space Odyssey',\n",
       " '95. The Hunt',\n",
       " '96. Reservoir Dogs',\n",
       " '97. Ikiru',\n",
       " '98. Lawrence of Arabia',\n",
       " '99. The Apartment',\n",
       " '100. Citizen Kane',\n",
       " '101. M',\n",
       " '102. North by Northwest',\n",
       " '103. Vertigo',\n",
       " '104. Double Indemnity',\n",
       " '105. Amélie',\n",
       " '106. Scarface',\n",
       " '107. Full Metal Jacket',\n",
       " '108. Incendies',\n",
       " '109. A Clockwork Orange',\n",
       " '110. Heat',\n",
       " '111. Up',\n",
       " '112. To Kill a Mockingbird',\n",
       " '113. Hamilton',\n",
       " '114. The Sting',\n",
       " '115. A Separation',\n",
       " '116. Indiana Jones and the Last Crusade',\n",
       " '117. Metropolis',\n",
       " '118. Die Hard',\n",
       " '119. Like Stars on Earth',\n",
       " '120. Snatch',\n",
       " '121. Bicycle Thieves',\n",
       " '122. L.A. Confidential',\n",
       " '123. Taxi Driver',\n",
       " '124. 1917',\n",
       " '125. Downfall',\n",
       " '126. Dangal',\n",
       " '127. For a Few Dollars More',\n",
       " '128. Batman Begins',\n",
       " '129. Top Gun: Maverick',\n",
       " '130. Some Like It Hot',\n",
       " '131. The Kid',\n",
       " '132. The Wolf of Wall Street',\n",
       " '133. The Father',\n",
       " '134. Green Book',\n",
       " '135. All About Eve',\n",
       " '136. Judgment at Nuremberg',\n",
       " '137. The Truman Show',\n",
       " '138. There Will Be Blood',\n",
       " '139. Casino',\n",
       " '140. Shutter Island',\n",
       " '141. Ran',\n",
       " \"142. Pan's Labyrinth\",\n",
       " '143. Jurassic Park',\n",
       " '144. The Sixth Sense',\n",
       " '145. Unforgiven',\n",
       " '146. A Beautiful Mind',\n",
       " '147. No Country for Old Men',\n",
       " '148. Yojimbo',\n",
       " '149. The Treasure of the Sierra Madre',\n",
       " '150. Kill Bill: Vol. 1',\n",
       " '151. The Thing',\n",
       " '152. Monty Python and the Holy Grail',\n",
       " '153. The Great Escape',\n",
       " '154. Finding Nemo',\n",
       " '155. Rashomon',\n",
       " '156. The Elephant Man',\n",
       " '157. Chinatown',\n",
       " \"158. Howl's Moving Castle\",\n",
       " '159. Dial M for Murder',\n",
       " '160. Gone with the Wind',\n",
       " '161. V for Vendetta',\n",
       " '162. Prisoners',\n",
       " '163. Raging Bull',\n",
       " '164. Lock, Stock and Two Smoking Barrels',\n",
       " '165. The Secret in Their Eyes',\n",
       " '166. Inside Out',\n",
       " '167. Spider-Man: No Way Home',\n",
       " '168. Three Billboards Outside Ebbing, Missouri',\n",
       " '169. Trainspotting',\n",
       " '170. The Bridge on the River Kwai',\n",
       " '171. Fargo',\n",
       " '172. Warrior',\n",
       " '173. Catch Me If You Can',\n",
       " '174. Gran Torino',\n",
       " '175. My Neighbor Totoro',\n",
       " '176. Klaus',\n",
       " '177. Million Dollar Baby',\n",
       " '178. Harry Potter and the Deathly Hallows: Part 2',\n",
       " '179. Children of Heaven',\n",
       " '180. Blade Runner',\n",
       " '181. 12 Years a Slave',\n",
       " '182. Before Sunrise',\n",
       " '183. The Grand Budapest Hotel',\n",
       " '184. Ben-Hur',\n",
       " '185. The Gold Rush',\n",
       " '186. Gone Girl',\n",
       " '187. Barry Lyndon',\n",
       " '188. Hacksaw Ridge',\n",
       " '189. In the Name of the Father',\n",
       " '190. On the Waterfront',\n",
       " '191. Memories of Murder',\n",
       " '192. The General',\n",
       " '193. The Deer Hunter',\n",
       " '194. Wild Strawberries',\n",
       " '195. Wild Tales',\n",
       " '196. The Third Man',\n",
       " '197. Dead Poets Society',\n",
       " '198. The Wages of Fear',\n",
       " '199. Sherlock Jr.',\n",
       " '200. Mad Max: Fury Road',\n",
       " '201. Monsters, Inc.',\n",
       " '202. Mr. Smith Goes to Washington',\n",
       " '203. Jaws',\n",
       " '204. How to Train Your Dragon',\n",
       " '205. Mary and Max',\n",
       " '206. Ford v Ferrari',\n",
       " '207. The Seventh Seal',\n",
       " '208. Room',\n",
       " '209. The Big Lebowski',\n",
       " '210. Ratatouille',\n",
       " '211. Tokyo Story',\n",
       " '212. Rocky',\n",
       " '213. Hotel Rwanda',\n",
       " '214. Logan',\n",
       " '215. Spotlight',\n",
       " '216. Platoon',\n",
       " '217. The Passion of Joan of Arc',\n",
       " '218. The Terminator',\n",
       " '219. Jai Bhim',\n",
       " '220. Before Sunset',\n",
       " '221. Rush',\n",
       " '222. Network',\n",
       " '223. The Best Years of Our Lives',\n",
       " '224. The Exorcist',\n",
       " '225. Stand by Me',\n",
       " '226. La haine',\n",
       " '227. Pirates of the Caribbean: The Curse of the Black Pearl',\n",
       " '228. The Wizard of Oz',\n",
       " '229. The Incredibles',\n",
       " '230. Into the Wild',\n",
       " \"231. Hachi: A Dog's Tale\",\n",
       " '232. To Be or Not to Be',\n",
       " '233. The Handmaiden',\n",
       " '234. My Father and My Son',\n",
       " '235. The Battle of Algiers',\n",
       " '236. Groundhog Day',\n",
       " '237. The Grapes of Wrath',\n",
       " '238. Amores Perros',\n",
       " '239. The Sound of Music',\n",
       " '240. Rebecca',\n",
       " '241. Cool Hand Luke',\n",
       " '242. The Iron Giant',\n",
       " '243. Pather Panchali',\n",
       " '244. It Happened One Night',\n",
       " '245. The Help',\n",
       " '246. The 400 Blows',\n",
       " '247. Aladdin',\n",
       " '248. Dances with Wolves',\n",
       " '249. Life of Brian',\n",
       " '250. Persona',\n",
       " 'You have rated',\n",
       " 'More to explore',\n",
       " 'Charts',\n",
       " 'Top Box Office (US)',\n",
       " 'Most Popular Movies',\n",
       " 'Top Rated English Movies',\n",
       " 'Most Popular TV Shows',\n",
       " 'Top 250 TV Shows',\n",
       " 'Lowest Rated Movies',\n",
       " 'Most Popular Celebs',\n",
       " 'Movie News',\n",
       " 'Top Rated Movies by Genre',\n",
       " 'Recently viewed']"
      ]
     },
     "execution_count": 28,
     "metadata": {},
     "output_type": "execute_result"
    }
   ],
   "source": [
    "movie_name"
   ]
  },
  {
   "cell_type": "code",
   "execution_count": 29,
   "id": "f73efbae",
   "metadata": {},
   "outputs": [],
   "source": [
    "a=[]\n",
    "\n",
    "for i in range(len(movie_name)):\n",
    "    a.append(movie_name[i].split(\".\"))\n",
    "    #b.append(a[i][1])\n",
    "    #c.append(b[i][0])\n",
    "\n",
    "    "
   ]
  },
  {
   "cell_type": "code",
   "execution_count": 30,
   "id": "1f0f38ea",
   "metadata": {},
   "outputs": [],
   "source": [
    "b=[]\n",
    "for i  in range (len(a)):\n",
    "    if i==0 or i > 250:\n",
    "        pass\n",
    "    elif i >0 and i<=250:\n",
    "        b.append(a[i][1])\n"
   ]
  },
  {
   "cell_type": "code",
   "execution_count": 7,
   "id": "1a15f35e",
   "metadata": {},
   "outputs": [
    {
     "data": {
      "text/plain": [
       "250"
      ]
     },
     "execution_count": 7,
     "metadata": {},
     "output_type": "execute_result"
    }
   ],
   "source": [
    "len(b)"
   ]
  },
  {
   "cell_type": "code",
   "execution_count": 31,
   "id": "5000ebea",
   "metadata": {},
   "outputs": [],
   "source": [
    "movies=b"
   ]
  },
  {
   "cell_type": "code",
   "execution_count": 14,
   "id": "67fd4a0f",
   "metadata": {},
   "outputs": [],
   "source": [
    "dire=[]\n",
    "rat=[]\n",
    "realease_year=[]\n",
    "\n",
    "for i in movies:\n",
    "    driver.find_element(By.XPATH, '//input[@type=\"text\"]').send_keys(i)\n",
    "    driver.find_element(By.XPATH, '//button[@id=\"suggestion-search-button\"]').click()\n",
    "    driver.find_element(By.XPATH, '//a[@class=\"ipc-metadata-list-summary-item__t\"]').click()\n",
    "    directors=driver.find_elements(By.XPATH, '//*[@id=\"__next\"]/main/div/section[1]/section/div[3]/section/section/div[3]/div[2]/div[1]/section/div[2]/div/ul/li[1]/div/ul')\n",
    "    rating= driver.find_elements(By.XPATH, '//*[@id=\"__next\"]/main/div/section[1]/section/div[3]/section/section/div[2]/div[2]/div/div[1]/a/span/div/div[2]/div[1]/span[1]')\n",
    "    #cast=driver.find_elements(By.XPATH,'//a[@data-testid=\"title-cast-item__actor\"]')\n",
    "    year= driver.find_elements(By.XPATH,'//*[@id=\"__next\"]/main/div/section[1]/section/div[3]/section/section/div[2]/div[1]/ul/li[1]/a')\n",
    "    for director,ratings,year in zip( directors,rating,year):\n",
    "        dire.append(director.text)\n",
    "        rat.append(ratings.text)\n",
    "        realease_year.append(int(year.text))\n",
    "\n",
    "    "
   ]
  },
  {
   "cell_type": "code",
   "execution_count": 9,
   "id": "2bce123a",
   "metadata": {},
   "outputs": [],
   "source": [
    "dire=[]\n",
    "rat=[]\n",
    "realease_year=[]\n",
    "caste=[]\n",
    "genre=[]\n",
    "title=[]\n",
    "budget=[]\n",
    "revenue=[]\n",
    "for i in range(10):\n",
    "    driver.find_element(By.XPATH, '//input[@type=\"text\"]').send_keys(movies[i])\n",
    "    driver.find_element(By.XPATH, '//button[@id=\"suggestion-search-button\"]').click()\n",
    "    driver.find_element(By.XPATH, '//a[@class=\"ipc-metadata-list-summary-item__t\"]').click()\n",
    "    directors=driver.find_elements(By.XPATH, '//*[@id=\"__next\"]/main/div/section[1]/section/div[3]/section/section/div[3]/div[2]/div[1]/section/div[2]/div/ul/li[1]/div/ul')\n",
    "    rating= driver.find_elements(By.XPATH, '//*[@id=\"__next\"]/main/div/section[1]/section/div[3]/section/section/div[2]/div[2]/div/div[1]/a/span/div/div[2]/div[1]/span[1]')\n",
    "    year= driver.find_elements(By.XPATH,'//*[@id=\"__next\"]/main/div/section[1]/section/div[3]/section/section/div[2]/div[1]/ul/li[1]/a')\n",
    "    cast=driver.find_elements(By.XPATH,'//a[@data-testid=\"title-cast-item__actor\"]')\n",
    "    gen=driver.find_elements(By.XPATH,'//a[@class=\"ipc-chip ipc-chip--on-baseAlt\"]')\n",
    "    bud=driver.find_elements(By.XPATH,'//span[@class=\"ipc-metadata-list-item__list-content-item\"]')\n",
    "    for director,ratings,year in zip(directors,rating,year):\n",
    "        dire.append(director.text)\n",
    "        rat.append(ratings.text)\n",
    "        realease_year.append(int(year.text))\n",
    "    a=[]\n",
    "    b=[]\n",
    "    for j in cast:\n",
    "        a.append(j.text)\n",
    "    for k in gen:\n",
    "        b.append(k.text)\n",
    "    caste.append(a)\n",
    "    genre.append(b)\n",
    "    for r in range(1) :\n",
    "        try:\n",
    "            budget.append(bud[2].text.split(\" \")[0])\n",
    "            revenue.append(bud[6].text)\n",
    "        except:\n",
    "            budget.append(\"nan\")\n",
    "            revenue.append(\"nan\")\n",
    "    title.append(movies[i])\n",
    "    "
   ]
  },
  {
   "cell_type": "code",
   "execution_count": 18,
   "id": "65dae964",
   "metadata": {},
   "outputs": [
    {
     "data": {
      "text/plain": [
       "['Frank Darabont',\n",
       " 'Francis Ford Coppola',\n",
       " 'Christopher Nolan',\n",
       " 'Francis Ford Coppola',\n",
       " 'Sidney Lumet',\n",
       " 'Steven Spielberg',\n",
       " 'Peter Jackson',\n",
       " 'Quentin Tarantino',\n",
       " 'Peter Jackson',\n",
       " 'Cal Evans']"
      ]
     },
     "execution_count": 18,
     "metadata": {},
     "output_type": "execute_result"
    }
   ],
   "source": [
    "dire"
   ]
  },
  {
   "cell_type": "code",
   "execution_count": 19,
   "id": "b10f1e2f",
   "metadata": {},
   "outputs": [
    {
     "data": {
      "text/plain": [
       "[['Drama'],\n",
       " ['Crime', 'Drama'],\n",
       " ['Action', 'Crime', 'Drama'],\n",
       " ['Crime', 'Drama'],\n",
       " ['Crime', 'Drama'],\n",
       " ['Biography', 'Drama', 'History'],\n",
       " ['Action', 'Adventure', 'Drama'],\n",
       " ['Crime', 'Drama'],\n",
       " ['Action', 'Adventure', 'Drama'],\n",
       " ['Short', 'Action', 'Fantasy']]"
      ]
     },
     "execution_count": 19,
     "metadata": {},
     "output_type": "execute_result"
    }
   ],
   "source": [
    "genre"
   ]
  },
  {
   "cell_type": "code",
   "execution_count": 20,
   "id": "200e9dbc",
   "metadata": {},
   "outputs": [
    {
     "data": {
      "text/plain": [
       "['$28,884,716',\n",
       " '$250,341,816',\n",
       " '$1,029,266,147',\n",
       " '$47,961,919',\n",
       " 'nan',\n",
       " '$322,161,245',\n",
       " '$1,155,870,721',\n",
       " '$213,928,762',\n",
       " '$898,523,656',\n",
       " 'nan']"
      ]
     },
     "execution_count": 20,
     "metadata": {},
     "output_type": "execute_result"
    }
   ],
   "source": [
    "revenue"
   ]
  },
  {
   "cell_type": "code",
   "execution_count": 13,
   "id": "4ef8be5e",
   "metadata": {},
   "outputs": [
    {
     "data": {
      "text/plain": [
       "11"
      ]
     },
     "execution_count": 13,
     "metadata": {},
     "output_type": "execute_result"
    }
   ],
   "source": [
    "len(budget)"
   ]
  },
  {
   "cell_type": "code",
   "execution_count": 21,
   "id": "6a2c5ea2",
   "metadata": {},
   "outputs": [
    {
     "data": {
      "text/plain": [
       "[['Tim Robbins',\n",
       "  'Morgan Freeman',\n",
       "  'Bob Gunton',\n",
       "  'William Sadler',\n",
       "  'Clancy Brown',\n",
       "  'Gil Bellows',\n",
       "  'Mark Rolston',\n",
       "  'James Whitmore',\n",
       "  'Jeffrey DeMunn',\n",
       "  'Larry Brandenburg',\n",
       "  'Neil Giuntoli',\n",
       "  'Brian Libby',\n",
       "  'David Proval',\n",
       "  'Joseph Ragno',\n",
       "  'Jude Ciccolella',\n",
       "  'Paul McCrane',\n",
       "  'Renee Blaine',\n",
       "  'Scott Mann'],\n",
       " ['Marlon Brando',\n",
       "  'Al Pacino',\n",
       "  'James Caan',\n",
       "  'Diane Keaton',\n",
       "  'Richard S. Castellano',\n",
       "  'Robert Duvall',\n",
       "  'Sterling Hayden',\n",
       "  'John Marley',\n",
       "  'Richard Conte',\n",
       "  'Al Lettieri',\n",
       "  'Abe Vigoda',\n",
       "  'Talia Shire',\n",
       "  'Gianni Russo',\n",
       "  'John Cazale',\n",
       "  'Rudy Bond',\n",
       "  'Al Martino',\n",
       "  'Morgana King',\n",
       "  'Lenny Montana'],\n",
       " ['Christian Bale',\n",
       "  'Heath Ledger',\n",
       "  'Aaron Eckhart',\n",
       "  'Michael Caine',\n",
       "  'Maggie Gyllenhaal',\n",
       "  'Gary Oldman',\n",
       "  'Morgan Freeman',\n",
       "  'Monique Gabriela Curnen',\n",
       "  'Ron Dean',\n",
       "  'Cillian Murphy',\n",
       "  'Chin Han',\n",
       "  'Nestor Carbonell',\n",
       "  'Eric Roberts',\n",
       "  'Ritchie Coster',\n",
       "  'Anthony Michael Hall',\n",
       "  'Keith Szarabajka',\n",
       "  'Colin McFarlane',\n",
       "  'Joshua Harto'],\n",
       " ['Al Pacino',\n",
       "  'Robert De Niro',\n",
       "  'Robert Duvall',\n",
       "  'Diane Keaton',\n",
       "  'John Cazale',\n",
       "  'Talia Shire',\n",
       "  'Lee Strasberg',\n",
       "  'Michael V. Gazzo',\n",
       "  'G.D. Spradlin',\n",
       "  'Richard Bright',\n",
       "  'Gastone Moschin',\n",
       "  'Tom Rosqui',\n",
       "  'Bruno Kirby',\n",
       "  'Frank Sivero',\n",
       "  'Francesca De Sapio',\n",
       "  'Morgana King',\n",
       "  'Marianna Hill',\n",
       "  'Leopoldo Trieste'],\n",
       " ['Henry Fonda',\n",
       "  'Lee J. Cobb',\n",
       "  'Martin Balsam',\n",
       "  'John Fiedler',\n",
       "  'E.G. Marshall',\n",
       "  'Jack Klugman',\n",
       "  'Edward Binns',\n",
       "  'Jack Warden',\n",
       "  'Joseph Sweeney',\n",
       "  'Ed Begley',\n",
       "  'George Voskovec',\n",
       "  'Robert Webber',\n",
       "  'Rudy Bond',\n",
       "  'Tom Gorman',\n",
       "  'James Kelly',\n",
       "  'Billy Nelson',\n",
       "  'John Savoca',\n",
       "  'Walter Stocker'],\n",
       " ['Liam Neeson',\n",
       "  'Ralph Fiennes',\n",
       "  'Ben Kingsley',\n",
       "  'Caroline Goodall',\n",
       "  'Jonathan Sagall',\n",
       "  'Embeth Davidtz',\n",
       "  'Malgorzata Gebel',\n",
       "  'Shmuel Levy',\n",
       "  'Mark Ivanir',\n",
       "  'Béatrice Macola',\n",
       "  'Andrzej Seweryn',\n",
       "  'Friedrich von Thun',\n",
       "  'Krzysztof Luft',\n",
       "  'Harry Nehring',\n",
       "  'Norbert Weisser',\n",
       "  'Adi Nitzan',\n",
       "  'Michael Schneider',\n",
       "  'Miri Fabian'],\n",
       " ['Elijah Wood',\n",
       "  'Viggo Mortensen',\n",
       "  'Ian McKellen',\n",
       "  'Orlando Bloom',\n",
       "  'Noel Appleby',\n",
       "  'Ali Astin',\n",
       "  'Sean Astin',\n",
       "  'David Aston',\n",
       "  'John Bach',\n",
       "  'Sean Bean',\n",
       "  'Cate Blanchett',\n",
       "  'Billy Boyd',\n",
       "  'Sadwyn Brophy',\n",
       "  'Alistair Browning',\n",
       "  'Marton Csokas',\n",
       "  'Richard Edge',\n",
       "  'Jason Fitch',\n",
       "  'Bernard Hill'],\n",
       " ['John Travolta',\n",
       "  'Uma Thurman',\n",
       "  'Samuel L. Jackson',\n",
       "  'Bruce Willis',\n",
       "  'Tim Roth',\n",
       "  'Amanda Plummer',\n",
       "  'Laura Lovelace',\n",
       "  'Phil LaMarr',\n",
       "  'Frank Whaley',\n",
       "  'Burr Steers',\n",
       "  'Ving Rhames',\n",
       "  'Paul Calderon',\n",
       "  'Bronagh Gallagher',\n",
       "  'Rosanna Arquette',\n",
       "  'Eric Stoltz',\n",
       "  'Jerome Patrick Hoban',\n",
       "  'Michael Gilden',\n",
       "  'Gary Shorelle'],\n",
       " ['Elijah Wood',\n",
       "  'Ian McKellen',\n",
       "  'Orlando Bloom',\n",
       "  'Sean Bean',\n",
       "  'Alan Howard',\n",
       "  'Noel Appleby',\n",
       "  'Sean Astin',\n",
       "  'Sala Baker',\n",
       "  'Billy Boyd',\n",
       "  'Andy Serkis',\n",
       "  'Marton Csokas',\n",
       "  'Viggo Mortensen',\n",
       "  'Megan Edwards',\n",
       "  'Michael Elsworth',\n",
       "  'Cate Blanchett',\n",
       "  'Mark Ferguson',\n",
       "  'Ian Holm',\n",
       "  'Christopher Lee'],\n",
       " ['Troy Manning',\n",
       "  'Wolfgang Moser',\n",
       "  'Joe Palermo',\n",
       "  'Vidal Parker-Caldera',\n",
       "  'Mel Turner']]"
      ]
     },
     "execution_count": 21,
     "metadata": {},
     "output_type": "execute_result"
    }
   ],
   "source": [
    "caste"
   ]
  },
  {
   "cell_type": "code",
   "execution_count": 22,
   "id": "13874c22",
   "metadata": {},
   "outputs": [
    {
     "data": {
      "text/plain": [
       "['9.3', '9.2', '9.0', '9.0', '9.0', '9.0', '9.0', '8.9', '8.8', '7.4']"
      ]
     },
     "execution_count": 22,
     "metadata": {},
     "output_type": "execute_result"
    }
   ],
   "source": [
    "rat"
   ]
  },
  {
   "cell_type": "code",
   "execution_count": 23,
   "id": "5b77f634",
   "metadata": {},
   "outputs": [
    {
     "data": {
      "text/plain": [
       "[1994, 1972, 2008, 1974, 1957, 1993, 2003, 1994, 2001, 2015]"
      ]
     },
     "execution_count": 23,
     "metadata": {},
     "output_type": "execute_result"
    }
   ],
   "source": [
    "realease_year"
   ]
  },
  {
   "cell_type": "code",
   "execution_count": 17,
   "id": "8408cc18",
   "metadata": {},
   "outputs": [
    {
     "data": {
      "text/plain": [
       "['$25,000,000',\n",
       " '$6,000,000',\n",
       " '$185,000,000',\n",
       " '$13,000,000',\n",
       " '$350,000',\n",
       " 'nan',\n",
       " '$22,000,000',\n",
       " '$94,000,000',\n",
       " '$8,000,000',\n",
       " '$93,000,000',\n",
       " 'nan']"
      ]
     },
     "execution_count": 17,
     "metadata": {},
     "output_type": "execute_result"
    }
   ],
   "source": [
    "budget"
   ]
  },
  {
   "cell_type": "code",
   "execution_count": 39,
   "id": "25f3f487",
   "metadata": {},
   "outputs": [
    {
     "ename": "KeyboardInterrupt",
     "evalue": "",
     "output_type": "error",
     "traceback": [
      "\u001b[1;31m---------------------------------------------------------------------------\u001b[0m",
      "\u001b[1;31mKeyboardInterrupt\u001b[0m                         Traceback (most recent call last)",
      "Cell \u001b[1;32mIn[39], line 12\u001b[0m\n\u001b[0;32m     10\u001b[0m driver\u001b[38;5;241m.\u001b[39mfind_element(By\u001b[38;5;241m.\u001b[39mXPATH, \u001b[38;5;124m'\u001b[39m\u001b[38;5;124m//input[@type=\u001b[39m\u001b[38;5;124m\"\u001b[39m\u001b[38;5;124mtext\u001b[39m\u001b[38;5;124m\"\u001b[39m\u001b[38;5;124m]\u001b[39m\u001b[38;5;124m'\u001b[39m)\u001b[38;5;241m.\u001b[39msend_keys(movies[i])\n\u001b[0;32m     11\u001b[0m driver\u001b[38;5;241m.\u001b[39mfind_element(By\u001b[38;5;241m.\u001b[39mXPATH, \u001b[38;5;124m'\u001b[39m\u001b[38;5;124m//button[@id=\u001b[39m\u001b[38;5;124m\"\u001b[39m\u001b[38;5;124msuggestion-search-button\u001b[39m\u001b[38;5;124m\"\u001b[39m\u001b[38;5;124m]\u001b[39m\u001b[38;5;124m'\u001b[39m)\u001b[38;5;241m.\u001b[39mclick()\n\u001b[1;32m---> 12\u001b[0m driver\u001b[38;5;241m.\u001b[39mfind_element(By\u001b[38;5;241m.\u001b[39mXPATH, \u001b[38;5;124m'\u001b[39m\u001b[38;5;124m//a[@class=\u001b[39m\u001b[38;5;124m\"\u001b[39m\u001b[38;5;124mipc-metadata-list-summary-item__t\u001b[39m\u001b[38;5;124m\"\u001b[39m\u001b[38;5;124m]\u001b[39m\u001b[38;5;124m'\u001b[39m)\u001b[38;5;241m.\u001b[39mclick()\n\u001b[0;32m     13\u001b[0m directors\u001b[38;5;241m=\u001b[39mdriver\u001b[38;5;241m.\u001b[39mfind_elements(By\u001b[38;5;241m.\u001b[39mXPATH, \u001b[38;5;124m'\u001b[39m\u001b[38;5;124m//*[@id=\u001b[39m\u001b[38;5;124m\"\u001b[39m\u001b[38;5;124m__next\u001b[39m\u001b[38;5;124m\"\u001b[39m\u001b[38;5;124m]/main/div/section[1]/section/div[3]/section/section/div[3]/div[2]/div[1]/section/div[2]/div/ul/li[1]/div/ul\u001b[39m\u001b[38;5;124m'\u001b[39m)\n\u001b[0;32m     14\u001b[0m rating\u001b[38;5;241m=\u001b[39m driver\u001b[38;5;241m.\u001b[39mfind_elements(By\u001b[38;5;241m.\u001b[39mXPATH, \u001b[38;5;124m'\u001b[39m\u001b[38;5;124m//*[@id=\u001b[39m\u001b[38;5;124m\"\u001b[39m\u001b[38;5;124m__next\u001b[39m\u001b[38;5;124m\"\u001b[39m\u001b[38;5;124m]/main/div/section[1]/section/div[3]/section/section/div[2]/div[2]/div/div[1]/a/span/div/div[2]/div[1]/span[1]\u001b[39m\u001b[38;5;124m'\u001b[39m)\n",
      "File \u001b[1;32m~\\anaconda3\\Lib\\site-packages\\selenium\\webdriver\\remote\\webelement.py:93\u001b[0m, in \u001b[0;36mWebElement.click\u001b[1;34m(self)\u001b[0m\n\u001b[0;32m     91\u001b[0m \u001b[38;5;28;01mdef\u001b[39;00m \u001b[38;5;21mclick\u001b[39m(\u001b[38;5;28mself\u001b[39m) \u001b[38;5;241m-\u001b[39m\u001b[38;5;241m>\u001b[39m \u001b[38;5;28;01mNone\u001b[39;00m:\n\u001b[0;32m     92\u001b[0m \u001b[38;5;250m    \u001b[39m\u001b[38;5;124;03m\"\"\"Clicks the element.\"\"\"\u001b[39;00m\n\u001b[1;32m---> 93\u001b[0m     \u001b[38;5;28mself\u001b[39m\u001b[38;5;241m.\u001b[39m_execute(Command\u001b[38;5;241m.\u001b[39mCLICK_ELEMENT)\n",
      "File \u001b[1;32m~\\anaconda3\\Lib\\site-packages\\selenium\\webdriver\\remote\\webelement.py:394\u001b[0m, in \u001b[0;36mWebElement._execute\u001b[1;34m(self, command, params)\u001b[0m\n\u001b[0;32m    392\u001b[0m     params \u001b[38;5;241m=\u001b[39m {}\n\u001b[0;32m    393\u001b[0m params[\u001b[38;5;124m\"\u001b[39m\u001b[38;5;124mid\u001b[39m\u001b[38;5;124m\"\u001b[39m] \u001b[38;5;241m=\u001b[39m \u001b[38;5;28mself\u001b[39m\u001b[38;5;241m.\u001b[39m_id\n\u001b[1;32m--> 394\u001b[0m \u001b[38;5;28;01mreturn\u001b[39;00m \u001b[38;5;28mself\u001b[39m\u001b[38;5;241m.\u001b[39m_parent\u001b[38;5;241m.\u001b[39mexecute(command, params)\n",
      "File \u001b[1;32m~\\anaconda3\\Lib\\site-packages\\selenium\\webdriver\\remote\\webdriver.py:342\u001b[0m, in \u001b[0;36mWebDriver.execute\u001b[1;34m(self, driver_command, params)\u001b[0m\n\u001b[0;32m    339\u001b[0m     \u001b[38;5;28;01melif\u001b[39;00m \u001b[38;5;124m\"\u001b[39m\u001b[38;5;124msessionId\u001b[39m\u001b[38;5;124m\"\u001b[39m \u001b[38;5;129;01mnot\u001b[39;00m \u001b[38;5;129;01min\u001b[39;00m params:\n\u001b[0;32m    340\u001b[0m         params[\u001b[38;5;124m\"\u001b[39m\u001b[38;5;124msessionId\u001b[39m\u001b[38;5;124m\"\u001b[39m] \u001b[38;5;241m=\u001b[39m \u001b[38;5;28mself\u001b[39m\u001b[38;5;241m.\u001b[39msession_id\n\u001b[1;32m--> 342\u001b[0m response \u001b[38;5;241m=\u001b[39m \u001b[38;5;28mself\u001b[39m\u001b[38;5;241m.\u001b[39mcommand_executor\u001b[38;5;241m.\u001b[39mexecute(driver_command, params)\n\u001b[0;32m    343\u001b[0m \u001b[38;5;28;01mif\u001b[39;00m response:\n\u001b[0;32m    344\u001b[0m     \u001b[38;5;28mself\u001b[39m\u001b[38;5;241m.\u001b[39merror_handler\u001b[38;5;241m.\u001b[39mcheck_response(response)\n",
      "File \u001b[1;32m~\\anaconda3\\Lib\\site-packages\\selenium\\webdriver\\remote\\remote_connection.py:297\u001b[0m, in \u001b[0;36mRemoteConnection.execute\u001b[1;34m(self, command, params)\u001b[0m\n\u001b[0;32m    295\u001b[0m data \u001b[38;5;241m=\u001b[39m utils\u001b[38;5;241m.\u001b[39mdump_json(params)\n\u001b[0;32m    296\u001b[0m url \u001b[38;5;241m=\u001b[39m \u001b[38;5;124mf\u001b[39m\u001b[38;5;124m\"\u001b[39m\u001b[38;5;132;01m{\u001b[39;00m\u001b[38;5;28mself\u001b[39m\u001b[38;5;241m.\u001b[39m_url\u001b[38;5;132;01m}\u001b[39;00m\u001b[38;5;132;01m{\u001b[39;00mpath\u001b[38;5;132;01m}\u001b[39;00m\u001b[38;5;124m\"\u001b[39m\n\u001b[1;32m--> 297\u001b[0m \u001b[38;5;28;01mreturn\u001b[39;00m \u001b[38;5;28mself\u001b[39m\u001b[38;5;241m.\u001b[39m_request(command_info[\u001b[38;5;241m0\u001b[39m], url, body\u001b[38;5;241m=\u001b[39mdata)\n",
      "File \u001b[1;32m~\\anaconda3\\Lib\\site-packages\\selenium\\webdriver\\remote\\remote_connection.py:318\u001b[0m, in \u001b[0;36mRemoteConnection._request\u001b[1;34m(self, method, url, body)\u001b[0m\n\u001b[0;32m    315\u001b[0m     body \u001b[38;5;241m=\u001b[39m \u001b[38;5;28;01mNone\u001b[39;00m\n\u001b[0;32m    317\u001b[0m \u001b[38;5;28;01mif\u001b[39;00m \u001b[38;5;28mself\u001b[39m\u001b[38;5;241m.\u001b[39mkeep_alive:\n\u001b[1;32m--> 318\u001b[0m     response \u001b[38;5;241m=\u001b[39m \u001b[38;5;28mself\u001b[39m\u001b[38;5;241m.\u001b[39m_conn\u001b[38;5;241m.\u001b[39mrequest(method, url, body\u001b[38;5;241m=\u001b[39mbody, headers\u001b[38;5;241m=\u001b[39mheaders)\n\u001b[0;32m    319\u001b[0m     statuscode \u001b[38;5;241m=\u001b[39m response\u001b[38;5;241m.\u001b[39mstatus\n\u001b[0;32m    320\u001b[0m \u001b[38;5;28;01melse\u001b[39;00m:\n",
      "File \u001b[1;32m~\\anaconda3\\Lib\\site-packages\\urllib3\\request.py:78\u001b[0m, in \u001b[0;36mRequestMethods.request\u001b[1;34m(self, method, url, fields, headers, **urlopen_kw)\u001b[0m\n\u001b[0;32m     74\u001b[0m     \u001b[38;5;28;01mreturn\u001b[39;00m \u001b[38;5;28mself\u001b[39m\u001b[38;5;241m.\u001b[39mrequest_encode_url(\n\u001b[0;32m     75\u001b[0m         method, url, fields\u001b[38;5;241m=\u001b[39mfields, headers\u001b[38;5;241m=\u001b[39mheaders, \u001b[38;5;241m*\u001b[39m\u001b[38;5;241m*\u001b[39murlopen_kw\n\u001b[0;32m     76\u001b[0m     )\n\u001b[0;32m     77\u001b[0m \u001b[38;5;28;01melse\u001b[39;00m:\n\u001b[1;32m---> 78\u001b[0m     \u001b[38;5;28;01mreturn\u001b[39;00m \u001b[38;5;28mself\u001b[39m\u001b[38;5;241m.\u001b[39mrequest_encode_body(\n\u001b[0;32m     79\u001b[0m         method, url, fields\u001b[38;5;241m=\u001b[39mfields, headers\u001b[38;5;241m=\u001b[39mheaders, \u001b[38;5;241m*\u001b[39m\u001b[38;5;241m*\u001b[39murlopen_kw\n\u001b[0;32m     80\u001b[0m     )\n",
      "File \u001b[1;32m~\\anaconda3\\Lib\\site-packages\\urllib3\\request.py:170\u001b[0m, in \u001b[0;36mRequestMethods.request_encode_body\u001b[1;34m(self, method, url, fields, headers, encode_multipart, multipart_boundary, **urlopen_kw)\u001b[0m\n\u001b[0;32m    167\u001b[0m extra_kw[\u001b[38;5;124m\"\u001b[39m\u001b[38;5;124mheaders\u001b[39m\u001b[38;5;124m\"\u001b[39m]\u001b[38;5;241m.\u001b[39mupdate(headers)\n\u001b[0;32m    168\u001b[0m extra_kw\u001b[38;5;241m.\u001b[39mupdate(urlopen_kw)\n\u001b[1;32m--> 170\u001b[0m \u001b[38;5;28;01mreturn\u001b[39;00m \u001b[38;5;28mself\u001b[39m\u001b[38;5;241m.\u001b[39murlopen(method, url, \u001b[38;5;241m*\u001b[39m\u001b[38;5;241m*\u001b[39mextra_kw)\n",
      "File \u001b[1;32m~\\anaconda3\\Lib\\site-packages\\urllib3\\poolmanager.py:376\u001b[0m, in \u001b[0;36mPoolManager.urlopen\u001b[1;34m(self, method, url, redirect, **kw)\u001b[0m\n\u001b[0;32m    374\u001b[0m     response \u001b[38;5;241m=\u001b[39m conn\u001b[38;5;241m.\u001b[39murlopen(method, url, \u001b[38;5;241m*\u001b[39m\u001b[38;5;241m*\u001b[39mkw)\n\u001b[0;32m    375\u001b[0m \u001b[38;5;28;01melse\u001b[39;00m:\n\u001b[1;32m--> 376\u001b[0m     response \u001b[38;5;241m=\u001b[39m conn\u001b[38;5;241m.\u001b[39murlopen(method, u\u001b[38;5;241m.\u001b[39mrequest_uri, \u001b[38;5;241m*\u001b[39m\u001b[38;5;241m*\u001b[39mkw)\n\u001b[0;32m    378\u001b[0m redirect_location \u001b[38;5;241m=\u001b[39m redirect \u001b[38;5;129;01mand\u001b[39;00m response\u001b[38;5;241m.\u001b[39mget_redirect_location()\n\u001b[0;32m    379\u001b[0m \u001b[38;5;28;01mif\u001b[39;00m \u001b[38;5;129;01mnot\u001b[39;00m redirect_location:\n",
      "File \u001b[1;32m~\\anaconda3\\Lib\\site-packages\\urllib3\\connectionpool.py:714\u001b[0m, in \u001b[0;36mHTTPConnectionPool.urlopen\u001b[1;34m(self, method, url, body, headers, retries, redirect, assert_same_host, timeout, pool_timeout, release_conn, chunked, body_pos, **response_kw)\u001b[0m\n\u001b[0;32m    711\u001b[0m     \u001b[38;5;28mself\u001b[39m\u001b[38;5;241m.\u001b[39m_prepare_proxy(conn)\n\u001b[0;32m    713\u001b[0m \u001b[38;5;66;03m# Make the request on the httplib connection object.\u001b[39;00m\n\u001b[1;32m--> 714\u001b[0m httplib_response \u001b[38;5;241m=\u001b[39m \u001b[38;5;28mself\u001b[39m\u001b[38;5;241m.\u001b[39m_make_request(\n\u001b[0;32m    715\u001b[0m     conn,\n\u001b[0;32m    716\u001b[0m     method,\n\u001b[0;32m    717\u001b[0m     url,\n\u001b[0;32m    718\u001b[0m     timeout\u001b[38;5;241m=\u001b[39mtimeout_obj,\n\u001b[0;32m    719\u001b[0m     body\u001b[38;5;241m=\u001b[39mbody,\n\u001b[0;32m    720\u001b[0m     headers\u001b[38;5;241m=\u001b[39mheaders,\n\u001b[0;32m    721\u001b[0m     chunked\u001b[38;5;241m=\u001b[39mchunked,\n\u001b[0;32m    722\u001b[0m )\n\u001b[0;32m    724\u001b[0m \u001b[38;5;66;03m# If we're going to release the connection in ``finally:``, then\u001b[39;00m\n\u001b[0;32m    725\u001b[0m \u001b[38;5;66;03m# the response doesn't need to know about the connection. Otherwise\u001b[39;00m\n\u001b[0;32m    726\u001b[0m \u001b[38;5;66;03m# it will also try to release it and we'll have a double-release\u001b[39;00m\n\u001b[0;32m    727\u001b[0m \u001b[38;5;66;03m# mess.\u001b[39;00m\n\u001b[0;32m    728\u001b[0m response_conn \u001b[38;5;241m=\u001b[39m conn \u001b[38;5;28;01mif\u001b[39;00m \u001b[38;5;129;01mnot\u001b[39;00m release_conn \u001b[38;5;28;01melse\u001b[39;00m \u001b[38;5;28;01mNone\u001b[39;00m\n",
      "File \u001b[1;32m~\\anaconda3\\Lib\\site-packages\\urllib3\\connectionpool.py:466\u001b[0m, in \u001b[0;36mHTTPConnectionPool._make_request\u001b[1;34m(self, conn, method, url, timeout, chunked, **httplib_request_kw)\u001b[0m\n\u001b[0;32m    461\u001b[0m             httplib_response \u001b[38;5;241m=\u001b[39m conn\u001b[38;5;241m.\u001b[39mgetresponse()\n\u001b[0;32m    462\u001b[0m         \u001b[38;5;28;01mexcept\u001b[39;00m \u001b[38;5;167;01mBaseException\u001b[39;00m \u001b[38;5;28;01mas\u001b[39;00m e:\n\u001b[0;32m    463\u001b[0m             \u001b[38;5;66;03m# Remove the TypeError from the exception chain in\u001b[39;00m\n\u001b[0;32m    464\u001b[0m             \u001b[38;5;66;03m# Python 3 (including for exceptions like SystemExit).\u001b[39;00m\n\u001b[0;32m    465\u001b[0m             \u001b[38;5;66;03m# Otherwise it looks like a bug in the code.\u001b[39;00m\n\u001b[1;32m--> 466\u001b[0m             six\u001b[38;5;241m.\u001b[39mraise_from(e, \u001b[38;5;28;01mNone\u001b[39;00m)\n\u001b[0;32m    467\u001b[0m \u001b[38;5;28;01mexcept\u001b[39;00m (SocketTimeout, BaseSSLError, SocketError) \u001b[38;5;28;01mas\u001b[39;00m e:\n\u001b[0;32m    468\u001b[0m     \u001b[38;5;28mself\u001b[39m\u001b[38;5;241m.\u001b[39m_raise_timeout(err\u001b[38;5;241m=\u001b[39me, url\u001b[38;5;241m=\u001b[39murl, timeout_value\u001b[38;5;241m=\u001b[39mread_timeout)\n",
      "File \u001b[1;32m<string>:3\u001b[0m, in \u001b[0;36mraise_from\u001b[1;34m(value, from_value)\u001b[0m\n",
      "File \u001b[1;32m~\\anaconda3\\Lib\\site-packages\\urllib3\\connectionpool.py:461\u001b[0m, in \u001b[0;36mHTTPConnectionPool._make_request\u001b[1;34m(self, conn, method, url, timeout, chunked, **httplib_request_kw)\u001b[0m\n\u001b[0;32m    458\u001b[0m \u001b[38;5;28;01mexcept\u001b[39;00m \u001b[38;5;167;01mTypeError\u001b[39;00m:\n\u001b[0;32m    459\u001b[0m     \u001b[38;5;66;03m# Python 3\u001b[39;00m\n\u001b[0;32m    460\u001b[0m     \u001b[38;5;28;01mtry\u001b[39;00m:\n\u001b[1;32m--> 461\u001b[0m         httplib_response \u001b[38;5;241m=\u001b[39m conn\u001b[38;5;241m.\u001b[39mgetresponse()\n\u001b[0;32m    462\u001b[0m     \u001b[38;5;28;01mexcept\u001b[39;00m \u001b[38;5;167;01mBaseException\u001b[39;00m \u001b[38;5;28;01mas\u001b[39;00m e:\n\u001b[0;32m    463\u001b[0m         \u001b[38;5;66;03m# Remove the TypeError from the exception chain in\u001b[39;00m\n\u001b[0;32m    464\u001b[0m         \u001b[38;5;66;03m# Python 3 (including for exceptions like SystemExit).\u001b[39;00m\n\u001b[0;32m    465\u001b[0m         \u001b[38;5;66;03m# Otherwise it looks like a bug in the code.\u001b[39;00m\n\u001b[0;32m    466\u001b[0m         six\u001b[38;5;241m.\u001b[39mraise_from(e, \u001b[38;5;28;01mNone\u001b[39;00m)\n",
      "File \u001b[1;32m~\\anaconda3\\Lib\\http\\client.py:1375\u001b[0m, in \u001b[0;36mHTTPConnection.getresponse\u001b[1;34m(self)\u001b[0m\n\u001b[0;32m   1373\u001b[0m \u001b[38;5;28;01mtry\u001b[39;00m:\n\u001b[0;32m   1374\u001b[0m     \u001b[38;5;28;01mtry\u001b[39;00m:\n\u001b[1;32m-> 1375\u001b[0m         response\u001b[38;5;241m.\u001b[39mbegin()\n\u001b[0;32m   1376\u001b[0m     \u001b[38;5;28;01mexcept\u001b[39;00m \u001b[38;5;167;01mConnectionError\u001b[39;00m:\n\u001b[0;32m   1377\u001b[0m         \u001b[38;5;28mself\u001b[39m\u001b[38;5;241m.\u001b[39mclose()\n",
      "File \u001b[1;32m~\\anaconda3\\Lib\\http\\client.py:318\u001b[0m, in \u001b[0;36mHTTPResponse.begin\u001b[1;34m(self)\u001b[0m\n\u001b[0;32m    316\u001b[0m \u001b[38;5;66;03m# read until we get a non-100 response\u001b[39;00m\n\u001b[0;32m    317\u001b[0m \u001b[38;5;28;01mwhile\u001b[39;00m \u001b[38;5;28;01mTrue\u001b[39;00m:\n\u001b[1;32m--> 318\u001b[0m     version, status, reason \u001b[38;5;241m=\u001b[39m \u001b[38;5;28mself\u001b[39m\u001b[38;5;241m.\u001b[39m_read_status()\n\u001b[0;32m    319\u001b[0m     \u001b[38;5;28;01mif\u001b[39;00m status \u001b[38;5;241m!=\u001b[39m CONTINUE:\n\u001b[0;32m    320\u001b[0m         \u001b[38;5;28;01mbreak\u001b[39;00m\n",
      "File \u001b[1;32m~\\anaconda3\\Lib\\http\\client.py:279\u001b[0m, in \u001b[0;36mHTTPResponse._read_status\u001b[1;34m(self)\u001b[0m\n\u001b[0;32m    278\u001b[0m \u001b[38;5;28;01mdef\u001b[39;00m \u001b[38;5;21m_read_status\u001b[39m(\u001b[38;5;28mself\u001b[39m):\n\u001b[1;32m--> 279\u001b[0m     line \u001b[38;5;241m=\u001b[39m \u001b[38;5;28mstr\u001b[39m(\u001b[38;5;28mself\u001b[39m\u001b[38;5;241m.\u001b[39mfp\u001b[38;5;241m.\u001b[39mreadline(_MAXLINE \u001b[38;5;241m+\u001b[39m \u001b[38;5;241m1\u001b[39m), \u001b[38;5;124m\"\u001b[39m\u001b[38;5;124miso-8859-1\u001b[39m\u001b[38;5;124m\"\u001b[39m)\n\u001b[0;32m    280\u001b[0m     \u001b[38;5;28;01mif\u001b[39;00m \u001b[38;5;28mlen\u001b[39m(line) \u001b[38;5;241m>\u001b[39m _MAXLINE:\n\u001b[0;32m    281\u001b[0m         \u001b[38;5;28;01mraise\u001b[39;00m LineTooLong(\u001b[38;5;124m\"\u001b[39m\u001b[38;5;124mstatus line\u001b[39m\u001b[38;5;124m\"\u001b[39m)\n",
      "File \u001b[1;32m~\\anaconda3\\Lib\\socket.py:706\u001b[0m, in \u001b[0;36mSocketIO.readinto\u001b[1;34m(self, b)\u001b[0m\n\u001b[0;32m    704\u001b[0m \u001b[38;5;28;01mwhile\u001b[39;00m \u001b[38;5;28;01mTrue\u001b[39;00m:\n\u001b[0;32m    705\u001b[0m     \u001b[38;5;28;01mtry\u001b[39;00m:\n\u001b[1;32m--> 706\u001b[0m         \u001b[38;5;28;01mreturn\u001b[39;00m \u001b[38;5;28mself\u001b[39m\u001b[38;5;241m.\u001b[39m_sock\u001b[38;5;241m.\u001b[39mrecv_into(b)\n\u001b[0;32m    707\u001b[0m     \u001b[38;5;28;01mexcept\u001b[39;00m timeout:\n\u001b[0;32m    708\u001b[0m         \u001b[38;5;28mself\u001b[39m\u001b[38;5;241m.\u001b[39m_timeout_occurred \u001b[38;5;241m=\u001b[39m \u001b[38;5;28;01mTrue\u001b[39;00m\n",
      "\u001b[1;31mKeyboardInterrupt\u001b[0m: "
     ]
    }
   ],
   "source": [
    "dire=[]\n",
    "rat=[]\n",
    "realease_year=[]\n",
    "caste=[]\n",
    "genre=[]\n",
    "title=[]\n",
    "budget=[]\n",
    "revenue=[]\n",
    "for i in range(len(movies)):\n",
    "    driver.find_element(By.XPATH, '//input[@type=\"text\"]').send_keys(movies[i])\n",
    "    driver.find_element(By.XPATH, '//button[@id=\"suggestion-search-button\"]').click()\n",
    "    driver.find_element(By.XPATH, '//a[@class=\"ipc-metadata-list-summary-item__t\"]').click()\n",
    "    directors=driver.find_elements(By.XPATH, '//*[@id=\"__next\"]/main/div/section[1]/section/div[3]/section/section/div[3]/div[2]/div[1]/section/div[2]/div/ul/li[1]/div/ul')\n",
    "    rating= driver.find_elements(By.XPATH, '//*[@id=\"__next\"]/main/div/section[1]/section/div[3]/section/section/div[2]/div[2]/div/div[1]/a/span/div/div[2]/div[1]/span[1]')\n",
    "    year= driver.find_elements(By.XPATH,'//*[@id=\"__next\"]/main/div/section[1]/section/div[3]/section/section/div[2]/div[1]/ul/li[1]/a')\n",
    "    cast=driver.find_elements(By.XPATH,'//a[@data-testid=\"title-cast-item__actor\"]')\n",
    "    gen=driver.find_elements(By.XPATH,'//a[@class=\"ipc-chip ipc-chip--on-baseAlt\"]')\n",
    "    bud=driver.find_elements(By.XPATH,'//span[@class=\"ipc-metadata-list-item__list-content-item\"]')\n",
    "    for director,ratings,year in zip(directors,rating,year):\n",
    "        dire.append(director.text)\n",
    "        rat.append(ratings.text)\n",
    "        realease_year.append(int(year.text))\n",
    "    a=[]\n",
    "    b=[]\n",
    "    for j in cast:\n",
    "        a.append(j.text)\n",
    "    for k in gen:\n",
    "        b.append(k.text)\n",
    "    caste.append(a)\n",
    "    genre.append(b)\n",
    "    for r in range(1) :\n",
    "        rev=[]\n",
    "        budg=[]\n",
    "        try:\n",
    "            budg.append(bud[2].text.split(\" \")[0])\n",
    "            budget.append(int(\"\".join(budg[0].split(\"$\")[1].split(\",\"))))\n",
    "            rev.append(bud[6].text)\n",
    "            revenue.append(int(\"\".join(rev[0].split(\"$\")[1].split(\",\"))))\n",
    "        except:\n",
    "            budget.append(\"nan\")\n",
    "            revenue.append(\"nan\")\n",
    "    title.append(movies[i])\n",
    "    "
   ]
  },
  {
   "cell_type": "code",
   "execution_count": 38,
   "id": "a7560fef",
   "metadata": {},
   "outputs": [
    {
     "data": {
      "text/plain": [
       "15"
      ]
     },
     "execution_count": 38,
     "metadata": {},
     "output_type": "execute_result"
    }
   ],
   "source": [
    "len(realease_year)"
   ]
  },
  {
   "cell_type": "code",
   "execution_count": 45,
   "id": "1f43696f",
   "metadata": {},
   "outputs": [],
   "source": [
    "a=revenue[0].split(\"$\")[1].split(\",\")"
   ]
  },
  {
   "cell_type": "code",
   "execution_count": 52,
   "id": "11d643ce",
   "metadata": {},
   "outputs": [],
   "source": [
    "b=int(\"\".join(a))"
   ]
  },
  {
   "cell_type": "code",
   "execution_count": 53,
   "id": "38ae45b3",
   "metadata": {},
   "outputs": [
    {
     "data": {
      "text/plain": [
       "28884716"
      ]
     },
     "execution_count": 53,
     "metadata": {},
     "output_type": "execute_result"
    }
   ],
   "source": [
    "b"
   ]
  },
  {
   "cell_type": "code",
   "execution_count": 55,
   "id": "06400672",
   "metadata": {},
   "outputs": [
    {
     "ename": "AttributeError",
     "evalue": "'list' object has no attribute 'split'",
     "output_type": "error",
     "traceback": [
      "\u001b[1;31m---------------------------------------------------------------------------\u001b[0m",
      "\u001b[1;31mAttributeError\u001b[0m                            Traceback (most recent call last)",
      "Cell \u001b[1;32mIn[55], line 1\u001b[0m\n\u001b[1;32m----> 1\u001b[0m \u001b[38;5;124m\"\u001b[39m\u001b[38;5;124m\"\u001b[39m\u001b[38;5;241m.\u001b[39mjoin(revenue\u001b[38;5;241m.\u001b[39msplit(\u001b[38;5;124m\"\u001b[39m\u001b[38;5;124m$\u001b[39m\u001b[38;5;124m\"\u001b[39m)[\u001b[38;5;241m1\u001b[39m]\u001b[38;5;241m.\u001b[39msplit(\u001b[38;5;124m\"\u001b[39m\u001b[38;5;124m,\u001b[39m\u001b[38;5;124m\"\u001b[39m))\n",
      "\u001b[1;31mAttributeError\u001b[0m: 'list' object has no attribute 'split'"
     ]
    }
   ],
   "source": [
    "\"\".join(revenue[0].split(\"$\")[1].split(\",\"))"
   ]
  },
  {
   "cell_type": "code",
   "execution_count": 81,
   "id": "fe4b7d0e",
   "metadata": {},
   "outputs": [],
   "source": [
    "data={'movie':title,'director':dire,'ratings':rat,'genre':genre,'year':realease_year,'revenue':revenue,'budget':budget}"
   ]
  },
  {
   "cell_type": "code",
   "execution_count": 82,
   "id": "171081dc",
   "metadata": {},
   "outputs": [],
   "source": [
    "data1=pd.DataFrame(data)"
   ]
  },
  {
   "cell_type": "code",
   "execution_count": 83,
   "id": "0d373138",
   "metadata": {},
   "outputs": [
    {
     "data": {
      "text/html": [
       "<div>\n",
       "<style scoped>\n",
       "    .dataframe tbody tr th:only-of-type {\n",
       "        vertical-align: middle;\n",
       "    }\n",
       "\n",
       "    .dataframe tbody tr th {\n",
       "        vertical-align: top;\n",
       "    }\n",
       "\n",
       "    .dataframe thead th {\n",
       "        text-align: right;\n",
       "    }\n",
       "</style>\n",
       "<table border=\"1\" class=\"dataframe\">\n",
       "  <thead>\n",
       "    <tr style=\"text-align: right;\">\n",
       "      <th></th>\n",
       "      <th>movie</th>\n",
       "      <th>director</th>\n",
       "      <th>ratings</th>\n",
       "      <th>genre</th>\n",
       "      <th>year</th>\n",
       "      <th>revenue</th>\n",
       "      <th>budget</th>\n",
       "    </tr>\n",
       "  </thead>\n",
       "  <tbody>\n",
       "    <tr>\n",
       "      <th>0</th>\n",
       "      <td>The Shawshank Redemption</td>\n",
       "      <td>Frank Darabont</td>\n",
       "      <td>9.3</td>\n",
       "      <td>[Drama]</td>\n",
       "      <td>1994</td>\n",
       "      <td>28884716</td>\n",
       "      <td>25000000</td>\n",
       "    </tr>\n",
       "    <tr>\n",
       "      <th>1</th>\n",
       "      <td>The Godfather</td>\n",
       "      <td>Francis Ford Coppola</td>\n",
       "      <td>9.2</td>\n",
       "      <td>[Crime, Drama]</td>\n",
       "      <td>1972</td>\n",
       "      <td>250341816</td>\n",
       "      <td>6000000</td>\n",
       "    </tr>\n",
       "    <tr>\n",
       "      <th>2</th>\n",
       "      <td>The Dark Knight</td>\n",
       "      <td>Christopher Nolan</td>\n",
       "      <td>9.0</td>\n",
       "      <td>[Action, Crime, Drama]</td>\n",
       "      <td>2008</td>\n",
       "      <td>1007336937</td>\n",
       "      <td>185000000</td>\n",
       "    </tr>\n",
       "    <tr>\n",
       "      <th>3</th>\n",
       "      <td>The Godfather Part II</td>\n",
       "      <td>Francis Ford Coppola</td>\n",
       "      <td>9.0</td>\n",
       "      <td>[Crime, Drama]</td>\n",
       "      <td>1974</td>\n",
       "      <td>47961919</td>\n",
       "      <td>13000000</td>\n",
       "    </tr>\n",
       "  </tbody>\n",
       "</table>\n",
       "</div>"
      ],
      "text/plain": [
       "                       movie              director ratings  \\\n",
       "0   The Shawshank Redemption        Frank Darabont     9.3   \n",
       "1              The Godfather  Francis Ford Coppola     9.2   \n",
       "2            The Dark Knight     Christopher Nolan     9.0   \n",
       "3      The Godfather Part II  Francis Ford Coppola     9.0   \n",
       "\n",
       "                    genre  year     revenue     budget  \n",
       "0                 [Drama]  1994    28884716   25000000  \n",
       "1          [Crime, Drama]  1972   250341816    6000000  \n",
       "2  [Action, Crime, Drama]  2008  1007336937  185000000  \n",
       "3          [Crime, Drama]  1974    47961919   13000000  "
      ]
     },
     "execution_count": 83,
     "metadata": {},
     "output_type": "execute_result"
    }
   ],
   "source": [
    "data1"
   ]
  },
  {
   "cell_type": "code",
   "execution_count": 91,
   "id": "0596d70a",
   "metadata": {},
   "outputs": [],
   "source": [
    "a=data1['budget'].max()"
   ]
  },
  {
   "cell_type": "code",
   "execution_count": 93,
   "id": "846e3849",
   "metadata": {},
   "outputs": [
    {
     "ename": "TypeError",
     "evalue": "'int' object is not subscriptable",
     "output_type": "error",
     "traceback": [
      "\u001b[1;31m---------------------------------------------------------------------------\u001b[0m",
      "\u001b[1;31mTypeError\u001b[0m                                 Traceback (most recent call last)",
      "Cell \u001b[1;32mIn[93], line 1\u001b[0m\n\u001b[1;32m----> 1\u001b[0m a[data1]\n",
      "\u001b[1;31mTypeError\u001b[0m: 'int' object is not subscriptable"
     ]
    }
   ],
   "source": [
    "a[data1]"
   ]
  },
  {
   "cell_type": "code",
   "execution_count": 118,
   "id": "9a8fb655",
   "metadata": {},
   "outputs": [],
   "source": []
  },
  {
   "cell_type": "code",
   "execution_count": 120,
   "id": "5d8b2b8e",
   "metadata": {},
   "outputs": [
    {
     "data": {
      "text/plain": [
       "'User reviews'"
      ]
     },
     "execution_count": 120,
     "metadata": {},
     "output_type": "execute_result"
    }
   ],
   "source": [
    "dire[1]"
   ]
  },
  {
   "cell_type": "code",
   "execution_count": null,
   "id": "46430684",
   "metadata": {},
   "outputs": [],
   "source": []
  }
 ],
 "metadata": {
  "kernelspec": {
   "display_name": "Python 3 (ipykernel)",
   "language": "python",
   "name": "python3"
  },
  "language_info": {
   "codemirror_mode": {
    "name": "ipython",
    "version": 3
   },
   "file_extension": ".py",
   "mimetype": "text/x-python",
   "name": "python",
   "nbconvert_exporter": "python",
   "pygments_lexer": "ipython3",
   "version": "3.11.5"
  }
 },
 "nbformat": 4,
 "nbformat_minor": 5
}
