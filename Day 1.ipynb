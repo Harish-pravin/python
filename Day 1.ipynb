{
 "cells": [
  {
   "cell_type": "code",
   "execution_count": 4,
   "id": "1306851e",
   "metadata": {},
   "outputs": [
    {
     "name": "stdout",
     "output_type": "stream",
     "text": [
      "This article is about the Republic of India. For other uses, see India (disambiguation).\n",
      "Republic of India\n",
      "Bhārat Gaṇarājya\n",
      "(see other regional names)\n",
      "Horizontal tricolour flag bearing, from top to bottom, deep saffron, white, and green horizontal bands. In the centre of the white band is a navy-blue wheel with 24 spokes.\n",
      "Flag\n",
      "Three lions facing left, right, and toward viewer, atop a frieze containing a galloping horse, a 24-spoke wheel, and an elephant. Underneath is a motto: \"सत्यमेव जयते\".\n",
      "State emblem\n",
      "Motto: \"Satyameva Jayate\" (Sanskrit)\n",
      "\"Truth Alone Triumphs\"[1]\n",
      "Anthem: \"Jana Gana Mana\" (Hindi)[a][2][3]\n",
      "\"Thou Art the Ruler of the Minds of All People\"[4][2]\n",
      "Duration: 1 minute and 4 seconds.1:04\n",
      "National song: \"Vande Mataram\" (Sanskrit)[c]\n",
      "\"I Bow to Thee, Mother\"[b][1][2]\n",
      "Duration: 2 minutes and 26 seconds.2:26\n",
      "Image of a globe centred on India, with India highlighted.\n",
      "Territory controlled by India shown in dark green; territory claimed but not controlled shown in light green\n",
      "Capital\tNew Delhi\n",
      "28°36′50″N 77°12′30″E\n",
      "Largest city\t\n",
      "Mumbai (city proper)\n",
      "Delhi (metropolitan area)\n",
      "Official languages\t\n",
      "HindiEnglish[d][8]\n",
      "Recognised regional languages\t\n",
      "State level and Eighth Schedule[9]\n",
      "Native languages\t447 languages[g]\n",
      "Religion (2011)\t\n",
      "79.8% Hinduism\n",
      "14.2% Islam\n",
      "2.3% Christianity\n",
      "1.7% Sikhism\n",
      "0.7% Buddhism\n",
      "0.4% Jainism\n",
      "0.23% unaffiliated\n",
      "0.65% other[12]\n",
      "Demonym(s)\t\n",
      "Indianothers\n",
      "Government\tFederal parliamentary republic\n",
      "• President\n",
      "Droupadi Murmu\n",
      "• Vice-President\n",
      "Jagdeep Dhankhar\n",
      "• Prime Minister\n",
      "Narendra Modi\n",
      "Legislature\tParliament\n",
      "• Upper house\n",
      "Rajya Sabha\n",
      "• Lower house\n",
      "Lok Sabha\n",
      "Independence from the United Kingdom\n",
      "• Dominion\n",
      "15 August 1947\n",
      "• Republic\n",
      "26 January 1950\n",
      "• Last polity admitted\n",
      "16 May 1975\n",
      "Area\n",
      "• Total\n",
      "3,287,263[2] km2 (1,269,219 sq mi)[h] (7th)\n",
      "• Water (%)\n",
      "9.6\n",
      "Population\n",
      "• 2023 estimate\n",
      "Neutral increase 1,428,627,663[14] (1st)\n",
      "• 2011 census\n",
      "Neutral increase 1,210,854,977[15][16] (2nd)\n",
      "• Density\n",
      "422.3/km2 (1,093.8/sq mi) (30th)\n",
      "GDP (PPP)\t2023 estimate\n",
      "• Total\n",
      "Increase $13.119 trillion[17] (3rd)\n",
      "• Per capita\n",
      "Increase $9,183[17] (127th)\n",
      "GDP (nominal)\t2023 estimate\n",
      "• Total\n",
      "Increase $3.732 trillion[17] (5th)\n",
      "• Per capita\n",
      "Increase $2,612[17] (139th)\n",
      "Gini (2019)\tNegative increase 35.7[18]\n",
      "medium\n",
      "HDI (2021)\tIncrease 0.633[19]\n",
      "medium · 132nd\n",
      "Currency\tIndian rupee (₹) (INR)\n",
      "Time zone\tUTC+05:30 (IST)\n",
      "DST is not observed.\n",
      "Date format\t\n",
      "dd-mm-yyyy[i]\n",
      "Driving side\tleft[20]\n",
      "Calling code\t+91\n",
      "ISO 3166 code\tIN\n",
      "Internet TLD\t.in (others)\n",
      "India, officially the Republic of India (ISO: Bhārat Gaṇarājya),[21] is a country in South Asia. It is the seventh-largest country by area; the most populous country as of June 2023;[22][23] and from the time of its independence in 1947, the world's most populous democracy.[24][25][26] Bounded by the Indian Ocean on the south, the Arabian Sea on the southwest, and the Bay of Bengal on the southeast, it shares land borders with Pakistan to the west;[j] China, Nepal, and Bhutan to the north; and Bangladesh and Myanmar to the east. In the Indian Ocean, India is in the vicinity of Sri Lanka and the Maldives; its Andaman and Nicobar Islands share a maritime border with Thailand, Myanmar, and Indonesia.\n"
     ]
    }
   ],
   "source": [
    "print(\"\"\"This article is about the Republic of India. For other uses, see India (disambiguation).\n",
    "Republic of India\n",
    "Bhārat Gaṇarājya\n",
    "(see other regional names)\n",
    "Horizontal tricolour flag bearing, from top to bottom, deep saffron, white, and green horizontal bands. In the centre of the white band is a navy-blue wheel with 24 spokes.\n",
    "Flag\n",
    "Three lions facing left, right, and toward viewer, atop a frieze containing a galloping horse, a 24-spoke wheel, and an elephant. Underneath is a motto: \"सत्यमेव जयते\".\n",
    "State emblem\n",
    "Motto: \"Satyameva Jayate\" (Sanskrit)\n",
    "\"Truth Alone Triumphs\"[1]\n",
    "Anthem: \"Jana Gana Mana\" (Hindi)[a][2][3]\n",
    "\"Thou Art the Ruler of the Minds of All People\"[4][2]\n",
    "Duration: 1 minute and 4 seconds.1:04\n",
    "National song: \"Vande Mataram\" (Sanskrit)[c]\n",
    "\"I Bow to Thee, Mother\"[b][1][2]\n",
    "Duration: 2 minutes and 26 seconds.2:26\n",
    "Image of a globe centred on India, with India highlighted.\n",
    "Territory controlled by India shown in dark green; territory claimed but not controlled shown in light green\n",
    "Capital\tNew Delhi\n",
    "28°36′50″N 77°12′30″E\n",
    "Largest city\t\n",
    "Mumbai (city proper)\n",
    "Delhi (metropolitan area)\n",
    "Official languages\t\n",
    "HindiEnglish[d][8]\n",
    "Recognised regional languages\t\n",
    "State level and Eighth Schedule[9]\n",
    "Native languages\t447 languages[g]\n",
    "Religion (2011)\t\n",
    "79.8% Hinduism\n",
    "14.2% Islam\n",
    "2.3% Christianity\n",
    "1.7% Sikhism\n",
    "0.7% Buddhism\n",
    "0.4% Jainism\n",
    "0.23% unaffiliated\n",
    "0.65% other[12]\n",
    "Demonym(s)\t\n",
    "Indianothers\n",
    "Government\tFederal parliamentary republic\n",
    "• President\n",
    "Droupadi Murmu\n",
    "• Vice-President\n",
    "Jagdeep Dhankhar\n",
    "• Prime Minister\n",
    "Narendra Modi\n",
    "Legislature\tParliament\n",
    "• Upper house\n",
    "Rajya Sabha\n",
    "• Lower house\n",
    "Lok Sabha\n",
    "Independence from the United Kingdom\n",
    "• Dominion\n",
    "15 August 1947\n",
    "• Republic\n",
    "26 January 1950\n",
    "• Last polity admitted\n",
    "16 May 1975\n",
    "Area\n",
    "• Total\n",
    "3,287,263[2] km2 (1,269,219 sq mi)[h] (7th)\n",
    "• Water (%)\n",
    "9.6\n",
    "Population\n",
    "• 2023 estimate\n",
    "Neutral increase 1,428,627,663[14] (1st)\n",
    "• 2011 census\n",
    "Neutral increase 1,210,854,977[15][16] (2nd)\n",
    "• Density\n",
    "422.3/km2 (1,093.8/sq mi) (30th)\n",
    "GDP (PPP)\t2023 estimate\n",
    "• Total\n",
    "Increase $13.119 trillion[17] (3rd)\n",
    "• Per capita\n",
    "Increase $9,183[17] (127th)\n",
    "GDP (nominal)\t2023 estimate\n",
    "• Total\n",
    "Increase $3.732 trillion[17] (5th)\n",
    "• Per capita\n",
    "Increase $2,612[17] (139th)\n",
    "Gini (2019)\tNegative increase 35.7[18]\n",
    "medium\n",
    "HDI (2021)\tIncrease 0.633[19]\n",
    "medium · 132nd\n",
    "Currency\tIndian rupee (₹) (INR)\n",
    "Time zone\tUTC+05:30 (IST)\n",
    "DST is not observed.\n",
    "Date format\t\n",
    "dd-mm-yyyy[i]\n",
    "Driving side\tleft[20]\n",
    "Calling code\t+91\n",
    "ISO 3166 code\tIN\n",
    "Internet TLD\t.in (others)\n",
    "India, officially the Republic of India (ISO: Bhārat Gaṇarājya),[21] is a country in South Asia. It is the seventh-largest country by area; the most populous country as of June 2023;[22][23] and from the time of its independence in 1947, the world's most populous democracy.[24][25][26] Bounded by the Indian Ocean on the south, the Arabian Sea on the southwest, and the Bay of Bengal on the southeast, it shares land borders with Pakistan to the west;[j] China, Nepal, and Bhutan to the north; and Bangladesh and Myanmar to the east. In the Indian Ocean, India is in the vicinity of Sri Lanka and the Maldives; its Andaman and Nicobar Islands share a maritime border with Thailand, Myanmar, and Indonesia.\"\"\")"
   ]
  },
  {
   "cell_type": "code",
   "execution_count": 8,
   "id": "f1241635",
   "metadata": {},
   "outputs": [
    {
     "name": "stdout",
     "output_type": "stream",
     "text": [
      "225.0\n"
     ]
    }
   ],
   "source": [
    "b=90\n",
    "h=5\n",
    "a=(1/2*b*h)\n",
    "print(a)"
   ]
  },
  {
   "cell_type": "code",
   "execution_count": 2,
   "id": "f9c90f29",
   "metadata": {},
   "outputs": [
    {
     "name": "stdout",
     "output_type": "stream",
     "text": [
      "212.0\n"
     ]
    }
   ],
   "source": [
    "c=100\n",
    "b=(c*9/5)+32\n",
    "print(b)"
   ]
  },
  {
   "cell_type": "code",
   "execution_count": 16,
   "id": "b39239f2",
   "metadata": {},
   "outputs": [
    {
     "name": "stdout",
     "output_type": "stream",
     "text": [
      "0.4535970244035199\n"
     ]
    }
   ],
   "source": [
    "pounds=1\n",
    "a=pounds/2.2046\n",
    "print(a)"
   ]
  },
  {
   "cell_type": "code",
   "execution_count": 17,
   "id": "c3f9d7d6",
   "metadata": {
    "scrolled": true
   },
   "outputs": [
    {
     "name": "stdout",
     "output_type": "stream",
     "text": [
      "2.2046\n"
     ]
    }
   ],
   "source": [
    "kg=1\n",
    "a=kg*2.2046\n",
    "print(a)"
   ]
  },
  {
   "cell_type": "code",
   "execution_count": 18,
   "id": "d54a13ec",
   "metadata": {},
   "outputs": [
    {
     "name": "stdout",
     "output_type": "stream",
     "text": [
      "5649915\n"
     ]
    }
   ],
   "source": [
    "x=41\n",
    "y=5649874\n",
    "a=x+y\n",
    "print(a)"
   ]
  },
  {
   "cell_type": "code",
   "execution_count": null,
   "id": "1b4b0834",
   "metadata": {},
   "outputs": [],
   "source": []
  }
 ],
 "metadata": {
  "kernelspec": {
   "display_name": "Python 3 (ipykernel)",
   "language": "python",
   "name": "python3"
  },
  "language_info": {
   "codemirror_mode": {
    "name": "ipython",
    "version": 3
   },
   "file_extension": ".py",
   "mimetype": "text/x-python",
   "name": "python",
   "nbconvert_exporter": "python",
   "pygments_lexer": "ipython3",
   "version": "3.11.5"
  }
 },
 "nbformat": 4,
 "nbformat_minor": 5
}
