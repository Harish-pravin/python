{
 "cells": [
  {
   "cell_type": "code",
   "execution_count": 34,
   "id": "69984ab0",
   "metadata": {},
   "outputs": [
    {
     "name": "stdout",
     "output_type": "stream",
     "text": [
      "enter the num1:45\n",
      "enter the num2:45\n",
      "enter the option \n",
      "1.add \n",
      "2.sub \n",
      "3.mul \n",
      "4.div \n",
      "5.expo \n",
      "6.rem:add\n",
      "90\n",
      "do you want to continue yes/no:no\n"
     ]
    }
   ],
   "source": [
    "def add(a,b):\n",
    "    return(a+b)\n",
    "def sub(a,b):\n",
    "    return(a-b)\n",
    "def mul(a,b):\n",
    "    return(a*b)\n",
    "def div(a,b):\n",
    "    return(a//b)\n",
    "def expo(a,b):\n",
    "    return(a**b)\n",
    "def rem(a,b):\n",
    "    return(a%b)\n",
    "n=\"yes\"\n",
    "while(n==\"yes\"):\n",
    "    num1=int(input(\"enter the num1:\"))\n",
    "    num2=int(input(\"enter the num2:\"))\n",
    "    user=input(\"enter the option \\n1.add \\n2.sub \\n3.mul \\n4.div \\n5.expo \\n6.rem:\").lower()\n",
    "    if(user==1 or user==\"add\"):\n",
    "        print(add(num1,num2))\n",
    "    elif(user==2 or user==\"sub\"):\n",
    "        print(sub(num1,num2))\n",
    "    elif(user==3 or user==\"mul\"):\n",
    "        print(mul(num1,num2))\n",
    "    elif(user==4 or user==\"div\"):\n",
    "        print(div(num1,num2))\n",
    "    elif(user==5 or user==\"expo\"):\n",
    "        print(expo(num1,num2))\n",
    "    elif(user==6 or user==\"rem\"):\n",
    "        print(rem(num1,num2))\n",
    "    n=input(\"do you want to continue yes/no:\")"
   ]
  },
  {
   "cell_type": "code",
   "execution_count": null,
   "id": "275309c7",
   "metadata": {},
   "outputs": [],
   "source": [
    "n=[\"aasai\",\"butterfun\",\"then mittai\"]\n",
    "def updt(a):\n",
    "    return n.append(a)\n",
    "def remo(a):\n",
    "    return n.remove(a)\n",
    "c=\"yes\"\n",
    "while(c==\"yes\"):\n",
    "    product=input(\"enter the choco name\").lower()\n",
    "    option=input(\"enter the option \\n1.add \\n2.buy\").lower()\n",
    "    if(option==\"add\"):\n",
    "        updt(product)\n",
    "        print(n)\n",
    "    elif(option==\"buy\"):\n",
    "        remo(product)\n",
    "        print(n)\n",
    "    c=input(\"do you want to continue yes/no\")"
   ]
  },
  {
   "cell_type": "code",
   "execution_count": null,
   "id": "a5fed115",
   "metadata": {},
   "outputs": [],
   "source": [
    "def faren(a):\n",
    "    return ((a*9/5)+32)\n",
    "a=float(input(\"enter the celcius:\"))\n",
    "faren(a)"
   ]
  },
  {
   "cell_type": "code",
   "execution_count": 20,
   "id": "42d1eac4",
   "metadata": {},
   "outputs": [
    {
     "name": "stdout",
     "output_type": "stream",
     "text": [
      "enter the testcase:2\n",
      "enter the radius5\n",
      "78.54\n",
      "enter the radius5\n",
      "78.54\n"
     ]
    }
   ],
   "source": [
    "def areaofcircle(a):\n",
    "    return (3.14159*(a*a))\n",
    "b=int(input(\"enter the testcase:\"))\n",
    "for i in range(b):\n",
    "    a=int(input(\"enter the radius\"))\n",
    "    c=areaofcircle(a)\n",
    "    print(round(c,2))\n"
   ]
  },
  {
   "cell_type": "code",
   "execution_count": 29,
   "id": "a5965546",
   "metadata": {},
   "outputs": [
    {
     "name": "stdout",
     "output_type": "stream",
     "text": [
      "enter the test case:1\n",
      "enter the number:6\n",
      "91\n"
     ]
    }
   ],
   "source": [
    "def sumofsquare(a):\n",
    "    s=((2*a**3+3*a**2+a)/6)\n",
    "    return (s)\n",
    "b=int(input(\"enter the test case:\"))\n",
    "for i in range(b):\n",
    "    a=int(input(\"enter the number:\"))\n",
    "    n=sumofsquare(a)\n",
    "    print(round(n))"
   ]
  },
  {
   "cell_type": "code",
   "execution_count": 32,
   "id": "b709f846",
   "metadata": {},
   "outputs": [
    {
     "name": "stdout",
     "output_type": "stream",
     "text": [
      "enter the charector:n\n"
     ]
    },
    {
     "data": {
      "text/plain": [
       "0"
      ]
     },
     "execution_count": 32,
     "metadata": {},
     "output_type": "execute_result"
    }
   ],
   "source": [
    "def vowels(a):\n",
    "    if a in ('a','e','i','o','u'):\n",
    "        return (1)\n",
    "    else:\n",
    "        return (0)\n",
    "a=input(\"enter the charector:\")\n",
    "vowels(a)"
   ]
  },
  {
   "cell_type": "code",
   "execution_count": null,
   "id": "9c155c2e",
   "metadata": {},
   "outputs": [],
   "source": []
  }
 ],
 "metadata": {
  "kernelspec": {
   "display_name": "Python 3 (ipykernel)",
   "language": "python",
   "name": "python3"
  },
  "language_info": {
   "codemirror_mode": {
    "name": "ipython",
    "version": 3
   },
   "file_extension": ".py",
   "mimetype": "text/x-python",
   "name": "python",
   "nbconvert_exporter": "python",
   "pygments_lexer": "ipython3",
   "version": "3.11.5"
  }
 },
 "nbformat": 4,
 "nbformat_minor": 5
}
