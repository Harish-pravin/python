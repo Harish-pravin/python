{
 "cells": [
  {
   "cell_type": "code",
   "execution_count": 24,
   "id": "5a8c0385",
   "metadata": {},
   "outputs": [
    {
     "name": "stdout",
     "output_type": "stream",
     "text": [
      "* * * * * \n",
      "*         \n",
      "* * * * * \n",
      "        * \n",
      "* * * * * \n"
     ]
    }
   ],
   "source": [
    "n=5\n",
    "for i in range(n):\n",
    "    for j in range(n):\n",
    "        if(i==0 or i==n//2 or i==n-1 or j==0 and i==1 or j==n-1 and i==3):\n",
    "            print(\"*\",end=\" \")\n",
    "        else:\n",
    "            print(\" \",end=\" \")\n",
    "    print()"
   ]
  },
  {
   "cell_type": "code",
   "execution_count": 52,
   "id": "d64ad048",
   "metadata": {},
   "outputs": [
    {
     "name": "stdout",
     "output_type": "stream",
     "text": [
      "* * * *   \n",
      "*       * \n",
      "* * * *   \n",
      "*       * \n",
      "* * * *   \n"
     ]
    }
   ],
   "source": [
    "n=5\n",
    "for i in range(n):\n",
    "    for j in range(n):\n",
    "        if(j==0 or i==0 and j<=3 or i==1 and j==n-1 or i==n//2 and j<=3 or i==3 and j==n-1 or i==n-1 and j<=3):\n",
    "            print(\"*\",end=\" \")\n",
    "        else:\n",
    "            print(\" \",end=\" \")\n",
    "    print()"
   ]
  },
  {
   "cell_type": "code",
   "execution_count": 27,
   "id": "18da5643",
   "metadata": {},
   "outputs": [
    {
     "name": "stdout",
     "output_type": "stream",
     "text": [
      "  * *     \n",
      "*     *   \n",
      "    *     \n",
      "  *       \n",
      "* * * * * \n"
     ]
    }
   ],
   "source": [
    "n=5\n",
    "for i in range(n):\n",
    "    for j in range(n):\n",
    "        if(i==n-1 or n-1==j+i and i!=0 or i==0 and j==1 or i==0 and j==2 or i==1 and j==0):\n",
    "            print(\"*\",end=\" \")\n",
    "        else:\n",
    "            print(\" \",end=\" \")\n",
    "    print()"
   ]
  },
  {
   "cell_type": "code",
   "execution_count": 54,
   "id": "65caa6e9",
   "metadata": {},
   "outputs": [
    {
     "name": "stdout",
     "output_type": "stream",
     "text": [
      "* * *       * * * * \n",
      "*     *   *         \n",
      "* * *       * * *   \n",
      "*                 * \n",
      "*         * * * *   \n"
     ]
    }
   ],
   "source": [
    "n=5\n",
    "for i in range(n):\n",
    "    for j in range(n):\n",
    "        if(i==0 and j<=2 or j==0 or i==n//2 and j<=2 or i==1 and j==3):\n",
    "            print(\"*\",end=\" \")\n",
    "        else:\n",
    "            print(\" \",end=\" \")\n",
    "    for j in range(n):\n",
    "        if(i==0 and j!=0 or i==1 and j==0 or i==2 and j==1 or i==2 and j==2 or i==2 and j==3 or i==n-1 and j<=3 or i==3 and j==n-1 ):\n",
    "            print(\"*\",end=\" \")\n",
    "        else:\n",
    "            print(\" \",end=\" \")\n",
    "    print()"
   ]
  },
  {
   "cell_type": "code",
   "execution_count": 64,
   "id": "74fc6300",
   "metadata": {},
   "outputs": [
    {
     "name": "stdout",
     "output_type": "stream",
     "text": [
      "  *     *         * *         * * * *   * * * * *     * * *   *     * \n",
      "  *     *       *     *       *     *       *         *       *     * \n",
      "  * * * *     * * * * * *     * * * *       *         * * *   * * * * \n",
      "  *     *   *             *   *   *         *             *   *     * \n",
      "  *     * *                 * *     *   * * * * *     * * *   *     * \n"
     ]
    }
   ],
   "source": [
    "n=5\n",
    "for i in range(n):\n",
    "    for j in range(n):\n",
    "        if(j==1 or i==n//2 and j!=0 or j==n-1):\n",
    "            print(\"*\",end=\" \")\n",
    "        else:\n",
    "            print(\" \",end=\" \")\n",
    "    for j in range(n):\n",
    "        if(i==n//2 and j>=3 or n-1==i+j):\n",
    "            print(\"*\",end=\" \")\n",
    "        else:\n",
    "            print(\" \",end=\" \")\n",
    "    for j in range(n):\n",
    "        if(i==n//2 and j<=2 or i==j):\n",
    "            print(\"*\",end=\" \")\n",
    "        else:\n",
    "            print(\" \",end=\" \")\n",
    "    for j in range(n):\n",
    "        if(j==0 or i==0 and j<=3 or i==2 and j<=3 or i==3 and j==2 or i==n-1 and j==3 or j==3 and i<=2):\n",
    "            print(\"*\",end=\" \")\n",
    "        else:\n",
    "            print(\" \",end=\" \")\n",
    "    for j in range(n):\n",
    "        if(i==0 or j==n//2 or i==n-1):\n",
    "            print(\"*\",end=\" \")\n",
    "        else:\n",
    "            print(\" \",end=\" \")\n",
    "    for j in range(n):\n",
    "        if(i==0 and j>=2 or i==n-1 and j>=2 or i==n//2 and j>=2 or i==1 and j==2 or i==3 and j==n-1):\n",
    "            print(\"*\",end=\" \")\n",
    "        else:\n",
    "            print(\" \",end=\" \")\n",
    "    for j in range(n):\n",
    "        if(j==1 or j==n-1 or i==n//2 and j!=0):\n",
    "            print(\"*\",end=\" \")\n",
    "        else:\n",
    "            print(\" \",end=\" \")\n",
    "    print()"
   ]
  },
  {
   "cell_type": "code",
   "execution_count": 22,
   "id": "53102094",
   "metadata": {},
   "outputs": [
    {
     "name": "stdout",
     "output_type": "stream",
     "text": [
      "* * * * * \n",
      "*         \n",
      "* * * * * \n",
      "        * \n",
      "* * * * * \n"
     ]
    }
   ],
   "source": [
    "n=5\n",
    "for i in range(n):\n",
    "    for j in range(n):\n",
    "        if(i==0 or i==n//2 or i==n-1 or i==1 and j==0 or i==3 and j==n-1):\n",
    "            print(\"*\",end=\" \")\n",
    "        else:\n",
    "            print(\" \",end=\" \")\n",
    "    print()"
   ]
  },
  {
   "cell_type": "code",
   "execution_count": 20,
   "id": "ad78e50a",
   "metadata": {},
   "outputs": [
    {
     "name": "stdout",
     "output_type": "stream",
     "text": [
      "  * *     \n",
      "*     *   \n",
      "    *     \n",
      "  *       \n",
      "* * * * * \n"
     ]
    }
   ],
   "source": [
    "n=5\n",
    "for i in range(n):\n",
    "    for j in range(n):\n",
    "        if(n-1==j+i and i!=0 or i==n-1 or i==1 and j==0 or i==0 and j==1 or j==2 and i==0):\n",
    "            print(\"*\",end=\" \")\n",
    "        else:\n",
    "            print(\" \",end=\" \")\n",
    "    print()"
   ]
  },
  {
   "cell_type": "code",
   "execution_count": null,
   "id": "2e29a905",
   "metadata": {},
   "outputs": [],
   "source": []
  }
 ],
 "metadata": {
  "kernelspec": {
   "display_name": "Python 3 (ipykernel)",
   "language": "python",
   "name": "python3"
  },
  "language_info": {
   "codemirror_mode": {
    "name": "ipython",
    "version": 3
   },
   "file_extension": ".py",
   "mimetype": "text/x-python",
   "name": "python",
   "nbconvert_exporter": "python",
   "pygments_lexer": "ipython3",
   "version": "3.11.5"
  }
 },
 "nbformat": 4,
 "nbformat_minor": 5
}
