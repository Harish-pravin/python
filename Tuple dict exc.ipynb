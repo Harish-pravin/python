{
 "cells": [
  {
   "cell_type": "code",
   "execution_count": 1,
   "id": "cbd7211b",
   "metadata": {},
   "outputs": [
    {
     "name": "stdout",
     "output_type": "stream",
     "text": [
      "(10, 20, 30, 40, 50)\n",
      "enter the number50\n",
      "4\n"
     ]
    }
   ],
   "source": [
    "#get the index\n",
    "a=(10,20,30,40,50)\n",
    "print(a)\n",
    "b=int(input(\"enter the number\"))\n",
    "if b in (a):\n",
    "    print(a.index(b))\n",
    "else:\n",
    "    print(-1)"
   ]
  },
  {
   "cell_type": "code",
   "execution_count": 29,
   "id": "6f71594c",
   "metadata": {},
   "outputs": [
    {
     "name": "stdout",
     "output_type": "stream",
     "text": [
      "(20, 24, 7, 9)\n",
      "(22, 6, 8, 10)\n"
     ]
    }
   ],
   "source": [
    "#divide the index\n",
    "a=(20,22,24,6,7,8,9,10)\n",
    "odd=[]\n",
    "even=[]\n",
    "for i in range(len(a)):\n",
    "    if(i%2==0):\n",
    "        odd.append(a[i])\n",
    "    else:\n",
    "        even.append(a[i])\n",
    "print(tuple(odd))\n",
    "print(tuple(even))"
   ]
  },
  {
   "cell_type": "code",
   "execution_count": 2,
   "id": "2f4e9d84",
   "metadata": {},
   "outputs": [
    {
     "name": "stdout",
     "output_type": "stream",
     "text": [
      "10 : 3\n",
      "8 : 4\n",
      "5 : 2\n",
      "2 : 2\n",
      "15 : 1\n"
     ]
    }
   ],
   "source": [
    "#frequency of unique elements\n",
    "a=(10,8,5,2,10,15,10,8,5,8,8,2)\n",
    "b=list(a)\n",
    "c=[]\n",
    "for i in (a):\n",
    "    if i not in c:\n",
    "        c.append(i)\n",
    "        print(i,\":\",a.count(i))"
   ]
  },
  {
   "cell_type": "code",
   "execution_count": 17,
   "id": "cb97282a",
   "metadata": {},
   "outputs": [
    {
     "name": "stdout",
     "output_type": "stream",
     "text": [
      "{'a': 1, 'b': 1, 'c': 1}\n"
     ]
    }
   ],
   "source": [
    "a=\"abc\"\n",
    "b={}\n",
    "for i in a:\n",
    "    b[i]=a.count(i)\n",
    "print(b)"
   ]
  },
  {
   "cell_type": "code",
   "execution_count": 5,
   "id": "7d8ef834",
   "metadata": {},
   "outputs": [
    {
     "name": "stdout",
     "output_type": "stream",
     "text": [
      "4\n"
     ]
    }
   ],
   "source": [
    "a=\"hello\"\n",
    "b=a.find(\"o\")\n",
    "print(b)"
   ]
  },
  {
   "cell_type": "code",
   "execution_count": 10,
   "id": "42cd476e",
   "metadata": {},
   "outputs": [
    {
     "name": "stdout",
     "output_type": "stream",
     "text": [
      "my name is lachu,I'm 23\n"
     ]
    }
   ],
   "source": [
    "a=\"my name is {name},I'm {age}\".format(name=\"lachu\",age=23)\n",
    "print(a)"
   ]
  },
  {
   "cell_type": "code",
   "execution_count": 12,
   "id": "11da4e75",
   "metadata": {},
   "outputs": [
    {
     "ename": "SyntaxError",
     "evalue": "f-string: invalid syntax. Perhaps you forgot a comma? (3448601160.py, line 3)",
     "output_type": "error",
     "traceback": [
      "\u001b[1;36m  Cell \u001b[1;32mIn[12], line 3\u001b[1;36m\u001b[0m\n\u001b[1;33m    print(f'{a b ageis}')\u001b[0m\n\u001b[1;37m     ^\u001b[0m\n\u001b[1;31mSyntaxError\u001b[0m\u001b[1;31m:\u001b[0m f-string: invalid syntax. Perhaps you forgot a comma?\n"
     ]
    }
   ],
   "source": [
    "a=\"harish\"\n",
    "b=24\n",
    "print(f'{a b ageis}')"
   ]
  },
  {
   "cell_type": "code",
   "execution_count": null,
   "id": "f7af0f86",
   "metadata": {},
   "outputs": [],
   "source": [
    "print()"
   ]
  }
 ],
 "metadata": {
  "kernelspec": {
   "display_name": "Python 3 (ipykernel)",
   "language": "python",
   "name": "python3"
  },
  "language_info": {
   "codemirror_mode": {
    "name": "ipython",
    "version": 3
   },
   "file_extension": ".py",
   "mimetype": "text/x-python",
   "name": "python",
   "nbconvert_exporter": "python",
   "pygments_lexer": "ipython3",
   "version": "3.11.5"
  }
 },
 "nbformat": 4,
 "nbformat_minor": 5
}
