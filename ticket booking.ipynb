{
 "cells": [
  {
   "cell_type": "code",
   "execution_count": 8,
   "id": "28882967",
   "metadata": {},
   "outputs": [
    {
     "name": "stdout",
     "output_type": "stream",
     "text": [
      "available book is Tamil\n",
      "available book is English\n",
      "available book is Maths\n",
      "available book is English\n",
      "available book is Maths\n",
      "available book is English\n",
      "available book is Maths\n",
      "available book is Tamil\n"
     ]
    }
   ],
   "source": [
    "class Library:\n",
    "    def __init__(self,books):\n",
    "        self.books=books\n",
    "        self.mybooks = self.books.copy()\n",
    "    def display(self):\n",
    "        for i in self.books:\n",
    "            print(f'available book is {i}')\n",
    "    def borrow(self,bookname):\n",
    "        if bookname in self.books:\n",
    "            self.books.remove(bookname)\n",
    "        else:\n",
    "            print(\"not available\")\n",
    "    def retrn(self,bookname):\n",
    "        if(bookname in self.mybooks and bookname not in self.books):\n",
    "            self.books.append(bookname)\n",
    "        else:\n",
    "            print(\"Kindly check your book\")\n",
    "c1=Library([\"Tamil\",\"English\",\"Maths\"])\n",
    "c1.display()\n",
    "c1.borrow(\"Tamil\")\n",
    "c1.display()\n",
    "c1.retrn(\"Tamil\")\n",
    "c1.display()"
   ]
  },
  {
   "cell_type": "code",
   "execution_count": null,
   "id": "e1f7f22f",
   "metadata": {},
   "outputs": [
    {
     "name": "stdout",
     "output_type": "stream",
     "text": [
      "welcome to abhibus\n"
     ]
    }
   ],
   "source": [
    "task={\"ch to tvl\":{\"bus1\":[*range(1,11)],\"bus2\":[*range(1,11)]},\"md to tvl\":{\"bus1\":[*range(1,11)],\"bus2\":[*range(1,11)]}}\n",
    "class Bus_booking:\n",
    "    def __init__(self,booking):\n",
    "        self.booking=booking\n",
    "        self.route=list(self.booking.keys())\n",
    "        self.bs=\"\"\n",
    "        self.tn=[]\n",
    "        #self.stno=[]\n",
    "    def display(self):\n",
    "        print(self.route)\n",
    "    def select_route(self,route):\n",
    "        if route in self.route:\n",
    "            print(list(self.booking[route].keys()))\n",
    "            self.bs+=route\n",
    "        else:\n",
    "            print(\"Route is not available\")\n",
    "    def select_bus(self,bus):\n",
    "        for i in (list(self.booking[self.bs][bus])):\n",
    "            self.tn.append(i)\n",
    "        for i in (list(self.booking[self.bs][bus])):\n",
    "                  print(f'available seat no is {i}')\n",
    "    def ticket_booking(self,seatno):\n",
    "        for i in range(1,seatno+1):\n",
    "            n=int(input(\"which seats\"))\n",
    "            if n in self.tn:\n",
    "                self.tn.remove(n)\n",
    "                #self.stno.append(n)\n",
    "            else:\n",
    "                print(\"not available\")\n",
    "        print(self.tn)\n",
    "            \n",
    "    def cancel(self,seatno):\n",
    "        for i in range(1,seatno+1):\n",
    "            n=int(input(\"enter the seat no\"))\n",
    "            if n not in self.tn:\n",
    "                self.tn.append(n)\n",
    "            else:\n",
    "                print(\"something wrong\")\n",
    "        print(self.tn)\n",
    "        \n",
    "c1=Bus_booking(task)\n",
    "i=\"yes\"\n",
    "while i==\"yes\":\n",
    "    print(\"welcome to abhibus\")\n",
    "    a=input(\"doy want to book tickets yes/no:\")\n",
    "    if (a==\"yes\"):\n",
    "        c1.display()\n",
    "        busrt=input(\"enter the bus route:\")\n",
    "        c1.select_route(busrt)\n",
    "        whbus=input(\"which bus:\")\n",
    "        c1.select_bus(whbus)\n",
    "        b=input(\"1.book tickets\\n2.cancel tickets\")\n",
    "        if(b==\"book tickets\" or b==\"1\"):\n",
    "            stno=int(input(\"how many seats\"))\n",
    "            c1.ticket_booking(stno)\n",
    "            d=input(\"do you want cancel ticket:\")\n",
    "            if(d==\"yes\"):\n",
    "                seatno=int(input(\"how many seats\"))\n",
    "                c1.cancel(seatno)\n",
    "            else:\n",
    "                print(\"Thank you\")\n",
    "        if(True):\n",
    "            i=input(\"do you want to continue?\")\n",
    "            if(i==\"no\"):\n",
    "                print(\"thank you\")\n",
    "    else:\n",
    "        print(\"oops,anyways thank you for visiting\")\n",
    "       \n"
   ]
  },
  {
   "cell_type": "code",
   "execution_count": null,
   "id": "3e93a188",
   "metadata": {},
   "outputs": [],
   "source": []
  },
  {
   "cell_type": "markdown",
   "id": "b4719149",
   "metadata": {},
   "source": [
    "# "
   ]
  },
  {
   "cell_type": "code",
   "execution_count": 11,
   "id": "de5c38b4",
   "metadata": {},
   "outputs": [
    {
     "data": {
      "text/plain": [
       "dict_keys(['ch to tvl', 'md to tvl'])"
      ]
     },
     "execution_count": 11,
     "metadata": {},
     "output_type": "execute_result"
    }
   ],
   "source": [
    "task={\"ch to tvl\":{\"bus1\":[*range(1,11)],\"bus2\":[*range(1,11)]},\"md to tvl\":{\"bus1\":[*range(1,11)],\"bus2\":[*range(1,11)]}}\n",
    "task.keys()"
   ]
  },
  {
   "cell_type": "code",
   "execution_count": null,
   "id": "b1ad4592",
   "metadata": {},
   "outputs": [],
   "source": []
  }
 ],
 "metadata": {
  "kernelspec": {
   "display_name": "Python 3 (ipykernel)",
   "language": "python",
   "name": "python3"
  },
  "language_info": {
   "codemirror_mode": {
    "name": "ipython",
    "version": 3
   },
   "file_extension": ".py",
   "mimetype": "text/x-python",
   "name": "python",
   "nbconvert_exporter": "python",
   "pygments_lexer": "ipython3",
   "version": "3.11.5"
  }
 },
 "nbformat": 4,
 "nbformat_minor": 5
}
