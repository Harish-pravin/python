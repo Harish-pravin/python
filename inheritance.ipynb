{
 "cells": [
  {
   "cell_type": "markdown",
   "id": "57a82f13",
   "metadata": {},
   "source": [
    "Overview\n",
    "Learn about Inheritance in Object Oriented Programming and various forms of Inheritance\n",
    "Understand Method Overriding"
   ]
  },
  {
   "cell_type": "markdown",
   "id": "a8777614",
   "metadata": {},
   "source": [
    "Introduction\n",
    "Inheritance is one of the most important aspects of Object Oriented Programming (OOP). The key to understanding Inheritance is that it provides code re-usability. In place of writing the same code, again and again, we can simply inherit the properties of one class into the other.\n",
    "\n",
    "This, as you can imagine, saves a ton of time. And time is money in data science!"
   ]
  },
  {
   "cell_type": "markdown",
   "id": "f74390ce",
   "metadata": {},
   "source": [
    "OOP is all about real-world objects and inheritance is a way of representing real-world relationships. Here’s an example – car, bus, bike – all of these come under a broader category called Vehicle. That means they’ve inherited the properties of class vehicles i.e all are used for transportation.\n",
    "\n",
    "We can represent this relationship in code with the help of inheritance."
   ]
  },
  {
   "cell_type": "markdown",
   "id": "068bc296",
   "metadata": {},
   "source": [
    "Table of Contents\n",
    "What is Inheritance in Object Oriented Programming?\n",
    "Different Forms of Inheritance in Object Oriented Programming\n",
    "Single Inheritance\n",
    "Multiple Inheritance\n",
    "Multi-level Inheritance\n",
    "Hierarchical Inheritance\n",
    "Hybrid Inheritance\n",
    "Method Overriding"
   ]
  },
  {
   "cell_type": "markdown",
   "id": "a3249ad2",
   "metadata": {},
   "source": [
    "What is Inheritance in Object Oriented Programming?\n",
    "Inheritance is the procedure in which one class inherits the attributes and methods of another class. The class whose properties and methods are inherited is known as the Parent class. And the class that inherits the properties from the parent class is the Child class.\n",
    "\n",
    "The interesting thing is, along with the inherited properties and methods, a child class can have its own properties and methods."
   ]
  },
  {
   "cell_type": "markdown",
   "id": "d4f12890",
   "metadata": {},
   "source": [
    "class parent_class:\n",
    "body of parent class\n",
    "\n",
    "class child_class( parent_class):\n",
    "body of child class"
   ]
  },
  {
   "cell_type": "markdown",
   "id": "c7526c11",
   "metadata": {},
   "source": [
    "Forms of Inheritance in Object Oriented Programming\n",
    "There are broadly five forms of inheritance based on the involvement of parent and child classes.\n",
    "\n",
    " \n",
    "\n",
    "1. Single inheritance\n",
    "This is a form of inheritance in which a class inherits only one parent class. This is the simple form of inheritance and hence also referred to as simple inheritance.\n",
    "\n"
   ]
  },
  {
   "cell_type": "code",
   "execution_count": 1,
   "id": "b2e3edf0",
   "metadata": {},
   "outputs": [
    {
     "name": "stdout",
     "output_type": "stream",
     "text": [
      "Function of parent class.\n",
      "Function of child class.\n"
     ]
    }
   ],
   "source": [
    "class Parent:\n",
    "    def f1(self):\n",
    "        print(\"Function of parent class.\")\n",
    "\n",
    "class Child(Parent):\n",
    "    def f2(self):\n",
    "        print(\"Function of child class.\")\n",
    "\n",
    "object1 = Child()\n",
    "object1.f1()\n",
    "object1.f2()\n"
   ]
  },
  {
   "cell_type": "markdown",
   "id": "ee189a02",
   "metadata": {},
   "source": [
    "2. Multiple Inheritance\n",
    "An inheritance becomes multiple inheritances when a class inherits more than one parent class. The child class after inheriting properties from various parent classes has access to all of their objects."
   ]
  },
  {
   "cell_type": "code",
   "execution_count": 2,
   "id": "31add015",
   "metadata": {},
   "outputs": [
    {
     "name": "stdout",
     "output_type": "stream",
     "text": [
      "Function of parent_1 class.\n",
      "Function of parent_2 class.\n",
      "function of parent_3 class.\n",
      "Function of child class.\n"
     ]
    }
   ],
   "source": [
    "class Parent_1:\n",
    "    def f1(self):\n",
    "        print(\"Function of parent_1 class.\")\n",
    "\n",
    "class Parent_2:\n",
    "    def f2(self):\n",
    "        print(\"Function of parent_2 class.\")\n",
    "\n",
    "class Parent_3:\n",
    "    def f3(self):\n",
    "        print(\"function of parent_3 class.\")\n",
    "\n",
    "class Child(Parent_1, Parent_2, Parent_3):\n",
    "    def f4(self):\n",
    "        print(\"Function of child class.\")\n",
    "\n",
    "object_1 = Child()\n",
    "object_1.f1()\n",
    "object_1.f2()\n",
    "object_1.f3()\n",
    "object_1.f4()"
   ]
  },
  {
   "cell_type": "markdown",
   "id": "55ae4e1a",
   "metadata": {},
   "source": [
    "Here we have one Child class which is inheriting properties of three-parent classes Parent_1, Parent_2, and Parent_3. All the classes have different functions and all of the functions are called using the object of the Child class."
   ]
  },
  {
   "cell_type": "markdown",
   "id": "5ecb5e0a",
   "metadata": {},
   "source": [
    "# But suppose a child class inherits two classes having the same function:\n"
   ]
  },
  {
   "cell_type": "code",
   "execution_count": 4,
   "id": "3f3b3b57",
   "metadata": {},
   "outputs": [],
   "source": [
    "class Parent_1:\n",
    "    def f1(self):\n",
    "        print(\"Function of parent_1 class.\")\n",
    "\n",
    "class Parent_2:\n",
    "    def f1(self):\n",
    "        print(\"Function of parent_2 class.\")\n",
    "\n",
    "class Child(Parent_1, Parent_2):\n",
    "    def f2(self):\n",
    "        print(\"Function of child class.\")\n"
   ]
  },
  {
   "cell_type": "markdown",
   "id": "1f631c44",
   "metadata": {},
   "source": [
    "Here, the classes Parent_1 and Parent_2 have the same function f1(). Now, when the object of Child class calls f1(), since Child class is inheriting both the parent classes"
   ]
  },
  {
   "cell_type": "code",
   "execution_count": 5,
   "id": "85c6131c",
   "metadata": {},
   "outputs": [
    {
     "name": "stdout",
     "output_type": "stream",
     "text": [
      "Function of parent_1 class.\n"
     ]
    }
   ],
   "source": [
    "obj = Child() \n",
    "obj.f1()\n"
   ]
  },
  {
   "cell_type": "markdown",
   "id": "fabaadbe",
   "metadata": {},
   "source": [
    "In multiple inheritance, the child class first searches the method in its own class. If not found, then it searches in the parent classes depth_first and left-right order. Since this was an easy example with just two parent classes, we can clearly see that class Parent_1 was inherited first so the child class will search the method in Parent_1 class before searching in class Parent_2."
   ]
  },
  {
   "cell_type": "markdown",
   "id": "35d41748",
   "metadata": {},
   "source": [
    "But for complicated inheritance problems, it gets tough to identify the order. So the actual way of doing this is called Method Resolution Order (MRO) in Python. We can find the MRO of any class using the attribute __mro__"
   ]
  },
  {
   "cell_type": "code",
   "execution_count": 6,
   "id": "fe76431c",
   "metadata": {},
   "outputs": [
    {
     "data": {
      "text/plain": [
       "(__main__.Child, __main__.Parent_1, __main__.Parent_2, object)"
      ]
     },
     "execution_count": 6,
     "metadata": {},
     "output_type": "execute_result"
    }
   ],
   "source": [
    "Child.__mro__"
   ]
  },
  {
   "cell_type": "markdown",
   "id": "6a52878d",
   "metadata": {},
   "source": [
    "3. Multi-level Inheritance\n",
    "For example, a class_1 is inherited by a class_2 and this class_2 also gets inherited by class_3 and this process goes on. This is known as multi-level inheritance. Let’s understand with an example:\n",
    "\n"
   ]
  },
  {
   "cell_type": "code",
   "execution_count": 1,
   "id": "fc3cc0ec",
   "metadata": {},
   "outputs": [
    {
     "ename": "NameError",
     "evalue": "name 'Child_2' is not defined",
     "output_type": "error",
     "traceback": [
      "\u001b[1;31m---------------------------------------------------------------------------\u001b[0m",
      "\u001b[1;31mNameError\u001b[0m                                 Traceback (most recent call last)",
      "Cell \u001b[1;32mIn[1], line 5\u001b[0m\n\u001b[0;32m      2\u001b[0m     \u001b[38;5;28;01mdef\u001b[39;00m \u001b[38;5;21mf1\u001b[39m(\u001b[38;5;28mself\u001b[39m):\n\u001b[0;32m      3\u001b[0m         \u001b[38;5;28mprint\u001b[39m(\u001b[38;5;124m\"\u001b[39m\u001b[38;5;124mFunction of parent class.\u001b[39m\u001b[38;5;124m\"\u001b[39m)\n\u001b[1;32m----> 5\u001b[0m \u001b[38;5;28;01mclass\u001b[39;00m \u001b[38;5;21;01mChild_1\u001b[39;00m(Parent,Child_2):\n\u001b[0;32m      6\u001b[0m     \u001b[38;5;28;01mdef\u001b[39;00m \u001b[38;5;21mf2\u001b[39m(\u001b[38;5;28mself\u001b[39m):\n\u001b[0;32m      7\u001b[0m         \u001b[38;5;28mprint\u001b[39m(\u001b[38;5;124m\"\u001b[39m\u001b[38;5;124mFunction of child_1 class.\u001b[39m\u001b[38;5;124m\"\u001b[39m)\n",
      "\u001b[1;31mNameError\u001b[0m: name 'Child_2' is not defined"
     ]
    }
   ],
   "source": [
    "class Parent:\n",
    "    def f1(self):\n",
    "        print(\"Function of parent class.\")\n",
    "\n",
    "class Child_1(Parent,Child_2):\n",
    "    def f2(self):\n",
    "        print(\"Function of child_1 class.\")\n",
    "\n",
    "class Child_2(Child_1):\n",
    "    def f3(self):\n",
    "        print(\"Function of child_2 class.\")\n",
    "\n",
    "obj_1 = Child_1()\n",
    "obj_2 = Child_2()\n",
    "\n",
    "obj_1.f1()\n",
    "obj_1.f2()\n"
   ]
  },
  {
   "cell_type": "markdown",
   "id": "19deb358",
   "metadata": {},
   "source": [
    "Here, the class Child_1 is inheriting the Parent class and the class Child_2 is inheriting the class Child_1. In this Child_1 has access to functions f1() and f2() whereas Child_2 has access to functions f1(), f2() and f3(). If we’ll try to access the function f3() using the object of class Class_1 then an error will occur stating:\n",
    "\n",
    "‘Child_1’ object has no attribute ‘f3’"
   ]
  },
  {
   "cell_type": "code",
   "execution_count": 9,
   "id": "0646668b",
   "metadata": {},
   "outputs": [
    {
     "name": "stdout",
     "output_type": "stream",
     "text": [
      "Function of child_2 class.\n"
     ]
    }
   ],
   "source": [
    "obj_2.f3()"
   ]
  },
  {
   "cell_type": "markdown",
   "id": "28b5a2ac",
   "metadata": {},
   "source": [
    "4- Hierarchical inheritance\n",
    "In this, various Child classes inherit a single Parent class. The example given in the introduction of the inheritance is an example of Hierarchical inheritance since classes BMW and Audi inherit class Car.\n",
    "\n",
    "For simplicity let’s look at another example:"
   ]
  },
  {
   "cell_type": "code",
   "execution_count": 46,
   "id": "5cca7815",
   "metadata": {},
   "outputs": [
    {
     "name": "stdout",
     "output_type": "stream",
     "text": [
      "Function of parent class.\n",
      "Function of child_1 class.\n",
      "\n",
      "\n",
      "Function of parent class.\n",
      "Function of child_2 class.\n"
     ]
    }
   ],
   "source": [
    "class Parent:\n",
    "    def f1(self):\n",
    "        print(\"Function of parent class.\")\n",
    "\n",
    "class Child_1(Parent):\n",
    "    def f2(self):\n",
    "        print(\"Function of child_1 class.\")\n",
    "\n",
    "class Child_2(Parent):\n",
    "    def f3(self):\n",
    "        print(\"Function of child_2 class.\")\n",
    "\n",
    "obj_1 = Child_1()\n",
    "obj_2 = Child_2()\n",
    "\n",
    "obj_1.f1()\n",
    "obj_1.f2()\n",
    "\n",
    "print('\\n')\n",
    "obj_2.f1()\n",
    "obj_2.f3()"
   ]
  },
  {
   "cell_type": "markdown",
   "id": "90cccb34",
   "metadata": {},
   "source": [
    "Here two child classes are inheriting the same Parent class. The class Child_1 has access to functions f1() of Parent class and function f2() of itself. Whereas the class Child_2 has access to functions f1() of Parent class and function f3() of itself."
   ]
  },
  {
   "cell_type": "markdown",
   "id": "3623f11a",
   "metadata": {},
   "source": [
    "5- Hybrid Inheritance\n",
    "When there is a combination of more than one form of inheritance, it is known as hybrid inheritance. It will be more clear after this example:"
   ]
  },
  {
   "cell_type": "code",
   "execution_count": 47,
   "id": "bde4ccc9",
   "metadata": {},
   "outputs": [
    {
     "name": "stdout",
     "output_type": "stream",
     "text": [
      "Function of parent class.\n",
      "Function of child_1 class.\n",
      "Function of child_2 class.\n"
     ]
    }
   ],
   "source": [
    "class Parent:\n",
    "    def f1(self):\n",
    "        print(\"Function of parent class.\")\n",
    "\n",
    "class Child_1(Parent):\n",
    "    def f2(self):\n",
    "        print(\"Function of child_1 class.\")\n",
    "\n",
    "class Child_2(Parent):\n",
    "    def f3(self):\n",
    "        print(\"Function of child_2 class.\")\n",
    "\n",
    "class Child_3(Child_1, Child_2):\n",
    "    def f4(self):\n",
    "        print(\"Function of child_3 class.\")\n",
    "\n",
    "obj = Child_3()\n",
    "obj.f1()\n",
    "obj.f2()\n",
    "obj.f3()"
   ]
  },
  {
   "cell_type": "markdown",
   "id": "e4fda8d4",
   "metadata": {},
   "source": [
    "In this example, two classes ‘Child_1′ and ‘Child_2’ are derived from base class ‘Parent’ using hierarchical inheritance. Another class ‘Child_3’ is derived from classes ‘Child_1’ and ‘Child_2’ using multiple inheritances. The class ‘Child_3’ is now derived using hybrid inheritance.\n",
    "\n"
   ]
  },
  {
   "cell_type": "markdown",
   "id": "44f09a67",
   "metadata": {},
   "source": [
    "Method Overriding\n",
    "The concept of overriding is very important in inheritance. It gives the special ability to the child/subclasses to provide specific implementation to a method that is already present in their parent classes."
   ]
  },
  {
   "cell_type": "code",
   "execution_count": 4,
   "id": "202ffcec",
   "metadata": {},
   "outputs": [
    {
     "name": "stdout",
     "output_type": "stream",
     "text": [
      "1000\n"
     ]
    }
   ],
   "source": [
    "class Parent:\n",
    "    def f1(self):\n",
    "        self.val = 500\n",
    "        print(self.val)\n",
    "\n",
    "class Child(Parent):\n",
    "    def f1(self):\n",
    "        self.val = 1000\n",
    "        print(self.val)\n",
    "obj = Child()\n",
    "obj.f1()"
   ]
  },
  {
   "cell_type": "markdown",
   "id": "987f1dfd",
   "metadata": {},
   "source": [
    "Here the function f1() of the Child class has overridden the function f1() of the Parent class. Whenever the object of Child class will invoke f1(), the function of Child class gets executed. However, the object of the Parent class can invoke the function f1() of the parent class."
   ]
  },
  {
   "cell_type": "code",
   "execution_count": 5,
   "id": "fb40f972",
   "metadata": {},
   "outputs": [
    {
     "name": "stdout",
     "output_type": "stream",
     "text": [
      "500\n"
     ]
    }
   ],
   "source": [
    "obj_2 = Parent()\n",
    "obj_2.f1()"
   ]
  },
  {
   "cell_type": "code",
   "execution_count": 6,
   "id": "33883e9e",
   "metadata": {},
   "outputs": [
    {
     "data": {
      "text/plain": [
       "10"
      ]
     },
     "execution_count": 6,
     "metadata": {},
     "output_type": "execute_result"
    }
   ],
   "source": [
    "5 + 5"
   ]
  },
  {
   "cell_type": "code",
   "execution_count": 7,
   "id": "d79aa40d",
   "metadata": {},
   "outputs": [
    {
     "data": {
      "text/plain": [
       "'5555'"
      ]
     },
     "execution_count": 7,
     "metadata": {},
     "output_type": "execute_result"
    }
   ],
   "source": [
    "\"55\"+\"55\""
   ]
  },
  {
   "cell_type": "code",
   "execution_count": 8,
   "id": "a90a7225",
   "metadata": {},
   "outputs": [],
   "source": [
    "def add(a,b=100):\n",
    "    print(a+b)"
   ]
  },
  {
   "cell_type": "code",
   "execution_count": 10,
   "id": "97c6e806",
   "metadata": {},
   "outputs": [
    {
     "name": "stdout",
     "output_type": "stream",
     "text": [
      "1500\n"
     ]
    }
   ],
   "source": [
    "add(500,1000)"
   ]
  },
  {
   "cell_type": "code",
   "execution_count": 30,
   "id": "737e6ec3",
   "metadata": {},
   "outputs": [],
   "source": [
    "data = open(\"C:/Users/Harish/OneDrive/Documents/python/new.txt\",\"r\")"
   ]
  },
  {
   "cell_type": "code",
   "execution_count": null,
   "id": "765469dd",
   "metadata": {},
   "outputs": [],
   "source": []
  },
  {
   "cell_type": "code",
   "execution_count": 13,
   "id": "4e34bca8",
   "metadata": {},
   "outputs": [
    {
     "data": {
      "text/plain": [
       "'python \\nhello students\\ngoof afternoon'"
      ]
     },
     "execution_count": 13,
     "metadata": {},
     "output_type": "execute_result"
    }
   ],
   "source": [
    "data.read()"
   ]
  },
  {
   "cell_type": "code",
   "execution_count": 19,
   "id": "e0ab796d",
   "metadata": {},
   "outputs": [
    {
     "data": {
      "text/plain": [
       "'n \\nhello students\\ngoof afternoon'"
      ]
     },
     "execution_count": 19,
     "metadata": {},
     "output_type": "execute_result"
    }
   ],
   "source": [
    "data.read()"
   ]
  },
  {
   "cell_type": "code",
   "execution_count": 29,
   "id": "3476b2c7",
   "metadata": {},
   "outputs": [
    {
     "data": {
      "text/plain": [
       "0"
      ]
     },
     "execution_count": 29,
     "metadata": {},
     "output_type": "execute_result"
    }
   ],
   "source": [
    "data.seek(0)"
   ]
  },
  {
   "cell_type": "code",
   "execution_count": 26,
   "id": "28812343",
   "metadata": {},
   "outputs": [
    {
     "data": {
      "text/plain": [
       "'goof afternoon'"
      ]
     },
     "execution_count": 26,
     "metadata": {},
     "output_type": "execute_result"
    }
   ],
   "source": [
    "data.readline()"
   ]
  },
  {
   "cell_type": "code",
   "execution_count": 28,
   "id": "fc600d76",
   "metadata": {},
   "outputs": [
    {
     "data": {
      "text/plain": [
       "['python \\n', 'hello students\\n', 'goof afternoon']"
      ]
     },
     "execution_count": 28,
     "metadata": {},
     "output_type": "execute_result"
    }
   ],
   "source": [
    "data.readlines()"
   ]
  },
  {
   "cell_type": "code",
   "execution_count": 31,
   "id": "56e86a72",
   "metadata": {},
   "outputs": [],
   "source": [
    "data.close()"
   ]
  },
  {
   "cell_type": "code",
   "execution_count": 42,
   "id": "a7b19e27",
   "metadata": {},
   "outputs": [],
   "source": [
    "data = open(\"C:/Users/Harish/OneDrive/Documents/python/python.txt\",\"a\")"
   ]
  },
  {
   "cell_type": "code",
   "execution_count": 43,
   "id": "dc421ef4",
   "metadata": {},
   "outputs": [
    {
     "data": {
      "text/plain": [
       "32"
      ]
     },
     "execution_count": 43,
     "metadata": {},
     "output_type": "execute_result"
    }
   ],
   "source": [
    "data.write(\"\\nhghvjghjhgjhgjhgjhjhgvjhjhvbjhv\")"
   ]
  },
  {
   "cell_type": "code",
   "execution_count": 44,
   "id": "e8b9ce04",
   "metadata": {},
   "outputs": [],
   "source": [
    "data.close()"
   ]
  },
  {
   "cell_type": "code",
   "execution_count": null,
   "id": "0415b88a",
   "metadata": {},
   "outputs": [],
   "source": [
    "data = open(\"C:/Users/Harish/OneDrive/Documents/python/new111.txt\",\"a\")"
   ]
  },
  {
   "cell_type": "code",
   "execution_count": 49,
   "id": "888e48a7",
   "metadata": {},
   "outputs": [],
   "source": [
    "import os"
   ]
  },
  {
   "cell_type": "code",
   "execution_count": 53,
   "id": "806ec4dc",
   "metadata": {},
   "outputs": [
    {
     "data": {
      "text/plain": [
       "'C:\\\\Users\\\\Harish\\\\OneDrive\\\\Documents\\\\python'"
      ]
     },
     "execution_count": 53,
     "metadata": {},
     "output_type": "execute_result"
    }
   ],
   "source": [
    "os.getcwd()"
   ]
  },
  {
   "cell_type": "code",
   "execution_count": 52,
   "id": "b55b4ee3",
   "metadata": {},
   "outputs": [],
   "source": [
    "os.chdir(\"C:/Users/Harish/OneDrive/Documents/python\")"
   ]
  },
  {
   "cell_type": "code",
   "execution_count": 54,
   "id": "b0893693",
   "metadata": {},
   "outputs": [
    {
     "data": {
      "text/plain": [
       "['Day 12 - Jupyter Notebook.pdf',\n",
       " 'Day 13 - Jupyter Notebook.pdf',\n",
       " 'Functional_Programming.ipynb',\n",
       " 'Functional_Programming_2_Tue.ipynb',\n",
       " 'inheritance.ipynb',\n",
       " 'New folder',\n",
       " 'new.py',\n",
       " 'new.txt',\n",
       " 'new111.txt',\n",
       " 'python.txt',\n",
       " 'Untitled - Jupyter Notebook.pdf',\n",
       " 'Untitled2 - Jupyter Notebook.pdf']"
      ]
     },
     "execution_count": 54,
     "metadata": {},
     "output_type": "execute_result"
    }
   ],
   "source": [
    "os.listdir()"
   ]
  },
  {
   "cell_type": "code",
   "execution_count": 55,
   "id": "899035b0",
   "metadata": {},
   "outputs": [],
   "source": [
    "path = os.path.join(os.listdir()[0],\".jpg\")"
   ]
  },
  {
   "cell_type": "code",
   "execution_count": 56,
   "id": "8b58c2d1",
   "metadata": {},
   "outputs": [
    {
     "data": {
      "text/plain": [
       "'Day 12 - Jupyter Notebook.pdf\\\\.jpg'"
      ]
     },
     "execution_count": 56,
     "metadata": {},
     "output_type": "execute_result"
    }
   ],
   "source": [
    "path"
   ]
  },
  {
   "cell_type": "code",
   "execution_count": null,
   "id": "e68d33a6",
   "metadata": {},
   "outputs": [],
   "source": []
  }
 ],
 "metadata": {
  "kernelspec": {
   "display_name": "Python 3 (ipykernel)",
   "language": "python",
   "name": "python3"
  },
  "language_info": {
   "codemirror_mode": {
    "name": "ipython",
    "version": 3
   },
   "file_extension": ".py",
   "mimetype": "text/x-python",
   "name": "python",
   "nbconvert_exporter": "python",
   "pygments_lexer": "ipython3",
   "version": "3.11.5"
  }
 },
 "nbformat": 4,
 "nbformat_minor": 5
}
