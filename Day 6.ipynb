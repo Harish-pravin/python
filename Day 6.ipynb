{
 "cells": [
  {
   "cell_type": "code",
   "execution_count": null,
   "id": "69f702a9",
   "metadata": {},
   "outputs": [],
   "source": [
    "cat=input(\"which brand car?:\")\n",
    "a=cat.lower()\n",
    "if(cat==\"audi\"):\n",
    "    mod=input(\"which model?:\")\n",
    "    if(mod==\"a3\"):\n",
    "        col=input(\"which colour?:\")\n",
    "        if(col==\"white\"):\n",
    "            print(\"audi a3 white colour purchased\")\n",
    "        elif(col==\"black\"):\n",
    "            print(\"audi a3 black colour purchased\")\n",
    "    elif(mod==\"a8\"):\n",
    "        col=input(\"which colour?:\")\n",
    "        if(col==\"white\"):\n",
    "            print(\"audi a8 white colour purchased\")\n",
    "        elif(col==\"black\"):\n",
    "            print(\"audi a8 black colour purchased\")\n",
    "elif(cat==\"bmw\"):\n",
    "    mod=input(\"which model?:\")\n",
    "    if(mod==\"q3\"):\n",
    "        col=input(\"which colour?:\")\n",
    "        if(col==\"white\"):\n",
    "            print(\"bmw q3 white colour purchased\")\n",
    "        elif(col==\"black\"):\n",
    "            print(\"bmw q3 black colour purchased\")\n",
    "    elif(mod==\"q8\"):\n",
    "        col=input(\"which colour?:\")\n",
    "        if(col==\"white\"):\n",
    "            print(\"bmw q8 white colour purchased\")\n",
    "        elif(col==\"black\"):\n",
    "            print(\"bmw q8 black colour purchased\")"
   ]
  },
  {
   "cell_type": "code",
   "execution_count": null,
   "id": "6a630632",
   "metadata": {},
   "outputs": [],
   "source": []
  }
 ],
 "metadata": {
  "kernelspec": {
   "display_name": "Python 3 (ipykernel)",
   "language": "python",
   "name": "python3"
  },
  "language_info": {
   "codemirror_mode": {
    "name": "ipython",
    "version": 3
   },
   "file_extension": ".py",
   "mimetype": "text/x-python",
   "name": "python",
   "nbconvert_exporter": "python",
   "pygments_lexer": "ipython3",
   "version": "3.11.5"
  }
 },
 "nbformat": 4,
 "nbformat_minor": 5
}
