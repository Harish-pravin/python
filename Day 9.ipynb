{
 "cells": [
  {
   "cell_type": "code",
   "execution_count": 1,
   "id": "e9c68d5e",
   "metadata": {},
   "outputs": [
    {
     "name": "stdout",
     "output_type": "stream",
     "text": [
      "Enter the number?153\n",
      "153\n",
      "ams\n"
     ]
    }
   ],
   "source": [
    "n=int(input(\"Enter the number?\"))\n",
    "b=n\n",
    "digit=0\n",
    "while b!=0:\n",
    "    a=b%10\n",
    "    q=a**3\n",
    "    digit+=q\n",
    "    b=b//10\n",
    "print(digit)\n",
    "if(digit==n):\n",
    "    print(\"ams\")\n",
    "else:\n",
    "    print(\"not ams\")"
   ]
  },
  {
   "cell_type": "code",
   "execution_count": 17,
   "id": "2ab26685",
   "metadata": {},
   "outputs": [
    {
     "name": "stdout",
     "output_type": "stream",
     "text": [
      "10\n"
     ]
    }
   ],
   "source": [
    "i=1234\n",
    "digit=0\n",
    "while(i!=0):\n",
    "    a=i%10\n",
    "    digit+=a\n",
    "    i=i//10\n",
    "print(digit)\n",
    "    "
   ]
  },
  {
   "cell_type": "code",
   "execution_count": 4,
   "id": "1b1ce8df",
   "metadata": {},
   "outputs": [
    {
     "name": "stdout",
     "output_type": "stream",
     "text": [
      "Enter the number163\n",
      "3\n",
      "9\n",
      "10\n"
     ]
    }
   ],
   "source": [
    "a=int(input(\"Enter the number\"))\n",
    "c=0\n",
    "while(a!=0):\n",
    "    b=a%10\n",
    "    c+=b\n",
    "    print(c)\n",
    "    a=a//10\n",
    "\n",
    "    "
   ]
  },
  {
   "cell_type": "code",
   "execution_count": null,
   "id": "a6b6f247",
   "metadata": {},
   "outputs": [],
   "source": []
  }
 ],
 "metadata": {
  "kernelspec": {
   "display_name": "Python 3 (ipykernel)",
   "language": "python",
   "name": "python3"
  },
  "language_info": {
   "codemirror_mode": {
    "name": "ipython",
    "version": 3
   },
   "file_extension": ".py",
   "mimetype": "text/x-python",
   "name": "python",
   "nbconvert_exporter": "python",
   "pygments_lexer": "ipython3",
   "version": "3.11.5"
  }
 },
 "nbformat": 4,
 "nbformat_minor": 5
}
