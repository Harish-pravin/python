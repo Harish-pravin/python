{
 "cells": [
  {
   "cell_type": "code",
   "execution_count": 4,
   "id": "17deba28",
   "metadata": {},
   "outputs": [
    {
     "name": "stdout",
     "output_type": "stream",
     "text": [
      "120\n",
      "greatest palyndrome of the given number: 121\n",
      "smallest palyndrome of the given number: 111\n"
     ]
    }
   ],
   "source": [
    "n=int(input())\n",
    "x=n\n",
    "y=n\n",
    "while True:\n",
    "    if (str(x)==str(x)[::-1]):\n",
    "        print(\"greatest palyndrome of the given number:\",x)\n",
    "        break\n",
    "    x+=1\n",
    "while True:\n",
    "    if (str(y)==str(y)[::-1]):\n",
    "        print(\"smallest palyndrome of the given number:\",y)\n",
    "        break\n",
    "    y-=1"
   ]
  },
  {
   "cell_type": "code",
   "execution_count": 14,
   "id": "ee3f2823",
   "metadata": {},
   "outputs": [
    {
     "name": "stdout",
     "output_type": "stream",
     "text": [
      "Enter the character:10\n"
     ]
    },
    {
     "ename": "TypeError",
     "evalue": "ord() expected a character, but string of length 2 found",
     "output_type": "error",
     "traceback": [
      "\u001b[1;31m---------------------------------------------------------------------------\u001b[0m",
      "\u001b[1;31mTypeError\u001b[0m                                 Traceback (most recent call last)",
      "Cell \u001b[1;32mIn[14], line 2\u001b[0m\n\u001b[0;32m      1\u001b[0m a\u001b[38;5;241m=\u001b[39m\u001b[38;5;28minput\u001b[39m(\u001b[38;5;124m\"\u001b[39m\u001b[38;5;124mEnter the character:\u001b[39m\u001b[38;5;124m\"\u001b[39m)\n\u001b[1;32m----> 2\u001b[0m \u001b[38;5;28mprint\u001b[39m(\u001b[38;5;124m\"\u001b[39m\u001b[38;5;124mASCII value of\u001b[39m\u001b[38;5;124m\"\u001b[39m,a,\u001b[38;5;124m\"\u001b[39m\u001b[38;5;124mis:\u001b[39m\u001b[38;5;124m\"\u001b[39m,\u001b[38;5;28mord\u001b[39m(a))\n",
      "\u001b[1;31mTypeError\u001b[0m: ord() expected a character, but string of length 2 found"
     ]
    }
   ],
   "source": [
    "a=input(\"Enter the character:\")\n",
    "print(\"ASCII value of\",a,\"is:\",ord(a))"
   ]
  },
  {
   "cell_type": "code",
   "execution_count": null,
   "id": "f053d72c",
   "metadata": {},
   "outputs": [],
   "source": []
  },
  {
   "cell_type": "code",
   "execution_count": 30,
   "id": "bcb2860e",
   "metadata": {},
   "outputs": [
    {
     "name": "stdout",
     "output_type": "stream",
     "text": [
      "[9, 9, 9, 9, 9, 3]\n",
      "52\n"
     ]
    }
   ],
   "source": [
    "a=['9','9','9','9','9','3']\n",
    "b=[]\n",
    "r=\"4\"\n",
    "\n",
    "for i in a:\n",
    "    c=ord(i)-48\n",
    "    b.append(c)\n",
    "print(b)\n",
    "t=sum(b)\n",
    "e=ord(r)-48\n",
    "print(t+e)\n",
    "\n",
    "\n"
   ]
  },
  {
   "cell_type": "code",
   "execution_count": 20,
   "id": "297ac0a1",
   "metadata": {},
   "outputs": [
    {
     "name": "stdout",
     "output_type": "stream",
     "text": [
      "fgfrf\n"
     ]
    }
   ],
   "source": [
    "a=\"fgf\"\n",
    "b=\"rf\"\n",
    "print(a+b)"
   ]
  },
  {
   "cell_type": "code",
   "execution_count": 32,
   "id": "58f7abe4",
   "metadata": {},
   "outputs": [
    {
     "name": "stdout",
     "output_type": "stream",
     "text": [
      "5\n"
     ]
    }
   ],
   "source": [
    "a=\"5\"\n",
    "b=ord(a)-48\n",
    "print(b)"
   ]
  },
  {
   "cell_type": "code",
   "execution_count": 1,
   "id": "0149966e",
   "metadata": {},
   "outputs": [
    {
     "name": "stdout",
     "output_type": "stream",
     "text": [
      "enter the number:145\n",
      "the greatest palindrome is 151\n",
      "the greatest palindrome is 141\n"
     ]
    }
   ],
   "source": [
    "a=int(input(\"enter the number:\"))\n",
    "x=a\n",
    "y=a\n",
    "while True:\n",
    "    if(str(x)==str(x)[::-1]):\n",
    "        print(f'the greatest palindrome is {x}')\n",
    "        break\n",
    "    x+=1\n",
    "while True:\n",
    "    if(str(y)==str(y)[::-1]):\n",
    "        print(f'the greatest palindrome is {y}')\n",
    "        break\n",
    "    y-=1\n",
    "        "
   ]
  },
  {
   "cell_type": "code",
   "execution_count": 21,
   "id": "e7c36b38",
   "metadata": {},
   "outputs": [
    {
     "name": "stdout",
     "output_type": "stream",
     "text": [
      "enter the number:5\n",
      "prime number\n"
     ]
    }
   ],
   "source": [
    "a=int(input(\"enter the number:\"))\n",
    "if(x>1):\n",
    "    for i in range(2,a):\n",
    "        if(a%i==0):\n",
    "            print(\"not prime number\")\n",
    "            break\n",
    "        else:\n",
    "            print(\"prime number\")\n",
    "            break"
   ]
  },
  {
   "cell_type": "code",
   "execution_count": 89,
   "id": "b77e705f",
   "metadata": {},
   "outputs": [
    {
     "name": "stdout",
     "output_type": "stream",
     "text": [
      "4\n",
      "[]\n"
     ]
    }
   ],
   "source": [
    "a=[18,18,18,18,6,3,4,9,9,9,4,4,4]\n",
    "b=[]\n",
    "d=[]\n",
    "for i in range (1,len(a)-1):\n",
    "    if(a[i]==a[i-1]==a[i+1]):\n",
    "        b.append(a[i])\n",
    "print(len(b))\n",
    "c=set(b)\n",
    "for i in range(len(c)):\n",
    "    if(b.count(b[i]==3)):\n",
    "        c.append(b[i])\n",
    "print(d)"
   ]
  },
  {
   "cell_type": "code",
   "execution_count": 23,
   "id": "985c565b",
   "metadata": {},
   "outputs": [
    {
     "name": "stdout",
     "output_type": "stream",
     "text": [
      "['rotut', 'seoj', 'retupmoc', 'noitacude']\n"
     ]
    }
   ],
   "source": [
    "a=['tutor','joes','computer','education']\n",
    "b=[]\n",
    "for i in (a):\n",
    "    b.append(i[::-1])\n",
    "print(b)"
   ]
  },
  {
   "cell_type": "code",
   "execution_count": 24,
   "id": "ab008d2a",
   "metadata": {},
   "outputs": [
    {
     "name": "stdout",
     "output_type": "stream",
     "text": [
      "['education', 'computer', 'Tutor joes', 'computer', 'Tutor joes', 'education', 'education', 'Tutor joes', 'computer', 'Tutor joes', 'computer', 'education']\n"
     ]
    }
   ],
   "source": [
    "a=['Tutor joes','computer','education']\n",
    "b=[2,1,0,1,0,2,2,0,1,0,1,2]\n",
    "c=[]\n",
    "for i in (b):\n",
    "    c.append(a[i])\n",
    "print(c)\n",
    "    "
   ]
  },
  {
   "cell_type": "code",
   "execution_count": 81,
   "id": "0d772244",
   "metadata": {},
   "outputs": [
    {
     "name": "stdout",
     "output_type": "stream",
     "text": [
      "[20, 30, 70, 30, 90, 10, 30, 20, 70, 90, 10, 80]\n"
     ]
    }
   ],
   "source": [
    "a=[[20,30,70],[30,90,10],[30,20],[70,90,10,80]]\n",
    "b=a[0]\n",
    "for i in range(1,len(a)):\n",
    "    b.extend(a[i])\n",
    "print(b)"
   ]
  },
  {
   "cell_type": "code",
   "execution_count": null,
   "id": "aba14935",
   "metadata": {},
   "outputs": [],
   "source": [
    "       qry1=\"select cus_id from user_register where cus_id=%s\"\n",
    "        val=(cus_id,)\n",
    "        res.execute(qry1,val)\n",
    "        data=res.fetchall()\n",
    "        dcus_id=data[0][0]\n",
    "        qry2=\"select password from user_register where cus_id=%s\"\n",
    "        val=(cus_id,)\n",
    "        res.execute(qry2)\n",
    "        data=res.fetchall()\n",
    "        dpass=data[0][0]\n",
    "        if(cus_id==dcus_id and password==dpass):\n",
    "            print(\"log in sucessfully\")"
   ]
  },
  {
   "cell_type": "code",
   "execution_count": 4,
   "id": "5cf7ea4e",
   "metadata": {},
   "outputs": [
    {
     "ename": "TypeError",
     "evalue": "function1() missing 1 required positional argument: 'y'",
     "output_type": "error",
     "traceback": [
      "\u001b[1;31m---------------------------------------------------------------------------\u001b[0m",
      "\u001b[1;31mTypeError\u001b[0m                                 Traceback (most recent call last)",
      "Cell \u001b[1;32mIn[4], line 5\u001b[0m\n\u001b[0;32m      3\u001b[0m         \u001b[38;5;28;01mreturn\u001b[39;00m a\u001b[38;5;241m+\u001b[39my\n\u001b[0;32m      4\u001b[0m     \u001b[38;5;28;01mreturn\u001b[39;00m function1()\n\u001b[1;32m----> 5\u001b[0m a\u001b[38;5;241m=\u001b[39mfunction1(\u001b[38;5;241m5\u001b[39m)\n",
      "Cell \u001b[1;32mIn[4], line 4\u001b[0m, in \u001b[0;36mfunction1\u001b[1;34m(y)\u001b[0m\n\u001b[0;32m      2\u001b[0m \u001b[38;5;28;01mdef\u001b[39;00m \u001b[38;5;21mfn\u001b[39m(a):\n\u001b[0;32m      3\u001b[0m     \u001b[38;5;28;01mreturn\u001b[39;00m a\u001b[38;5;241m+\u001b[39my\n\u001b[1;32m----> 4\u001b[0m \u001b[38;5;28;01mreturn\u001b[39;00m function1()\n",
      "\u001b[1;31mTypeError\u001b[0m: function1() missing 1 required positional argument: 'y'"
     ]
    }
   ],
   "source": []
  },
  {
   "cell_type": "code",
   "execution_count": null,
   "id": "7a7e10ba",
   "metadata": {},
   "outputs": [],
   "source": []
  }
 ],
 "metadata": {
  "kernelspec": {
   "display_name": "Python 3 (ipykernel)",
   "language": "python",
   "name": "python3"
  },
  "language_info": {
   "codemirror_mode": {
    "name": "ipython",
    "version": 3
   },
   "file_extension": ".py",
   "mimetype": "text/x-python",
   "name": "python",
   "nbconvert_exporter": "python",
   "pygments_lexer": "ipython3",
   "version": "3.11.5"
  }
 },
 "nbformat": 4,
 "nbformat_minor": 5
}
