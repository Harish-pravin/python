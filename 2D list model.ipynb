{
 "cells": [
  {
   "cell_type": "code",
   "execution_count": 1,
   "id": "e697f6d7",
   "metadata": {},
   "outputs": [
    {
     "data": {
      "text/plain": [
       "[1, 2, 4, 5, 6, 7]"
      ]
     },
     "execution_count": 1,
     "metadata": {},
     "output_type": "execute_result"
    }
   ],
   "source": [
    "a = [1,2,1,4,4,5,6,7,7]\n",
    "new = []\n",
    "for i in a:\n",
    "    if i not in new:\n",
    "        new.append(i)\n",
    "new"
   ]
  },
  {
   "cell_type": "code",
   "execution_count": 2,
   "id": "1a5c2474",
   "metadata": {},
   "outputs": [
    {
     "name": "stdout",
     "output_type": "stream",
     "text": [
      "1 : 1\n",
      "2 : 2\n",
      "3 : 2\n",
      "5 : 1\n",
      "6 : 1\n"
     ]
    }
   ],
   "source": [
    "a = [1,2,2,3,5,6,3]\n",
    "new = []\n",
    "for i in a:\n",
    "    if i not in new:\n",
    "        new.append(i)\n",
    "for i in new:\n",
    "    print(i,\":\",a.count(i))"
   ]
  },
  {
   "cell_type": "code",
   "execution_count": 8,
   "id": "509feea9",
   "metadata": {},
   "outputs": [
    {
     "name": "stdout",
     "output_type": "stream",
     "text": [
      "2\n",
      "3\n"
     ]
    }
   ],
   "source": [
    "a = [1,2,2,3,5,6,3,3,5]\n",
    "for i in range(len(a)-1):\n",
    "    if a[i] == a[i+1]:\n",
    "        print(a[i])"
   ]
  },
  {
   "cell_type": "code",
   "execution_count": 11,
   "id": "d967fb68",
   "metadata": {},
   "outputs": [
    {
     "name": "stdout",
     "output_type": "stream",
     "text": [
      "6\n"
     ]
    }
   ],
   "source": [
    "a = [1,2,2,3,5,6,3,3,5]\n",
    "maxi_ = a[0]\n",
    "for i in range(1,len(a)):\n",
    "    if maxi_<a[i]:\n",
    "        maxi_ = a[i]\n",
    "print(maxi_)"
   ]
  },
  {
   "cell_type": "code",
   "execution_count": 13,
   "id": "3a078848",
   "metadata": {},
   "outputs": [
    {
     "name": "stdout",
     "output_type": "stream",
     "text": [
      "-1099\n"
     ]
    }
   ],
   "source": [
    "a = [1,2,2,3,-1099,6,3,3,5]\n",
    "mini = a[0]\n",
    "for i in range(1,len(a)):\n",
    "    if mini>a[i]:\n",
    "        mini = a[i]\n",
    "print(mini)"
   ]
  },
  {
   "cell_type": "code",
   "execution_count": 21,
   "id": "45af1bb2",
   "metadata": {},
   "outputs": [
    {
     "name": "stdout",
     "output_type": "stream",
     "text": [
      "[6, 6, 6, 6, 6, 6, 6, 5, 3, 3, 3, 2, 2, 1]\n",
      "5\n"
     ]
    }
   ],
   "source": [
    "a = [1,2,6,6,6,6,6,6,2,3,6,3,3,5]\n",
    "a.sort(reverse = True)\n",
    "print(a)\n",
    "sl = a[0]\n",
    "for i in a:\n",
    "    if i!=sl:\n",
    "        sl = i\n",
    "        break\n",
    "print(sl)"
   ]
  },
  {
   "cell_type": "code",
   "execution_count": 22,
   "id": "55532e92",
   "metadata": {},
   "outputs": [],
   "source": [
    "a = [[1,2,3],[4,5,6],[7,8,9]]"
   ]
  },
  {
   "cell_type": "code",
   "execution_count": 28,
   "id": "7818b2aa",
   "metadata": {},
   "outputs": [
    {
     "name": "stdout",
     "output_type": "stream",
     "text": [
      "[3, 2, 1]\n",
      "[6, 5, 4]\n",
      "[9, 8, 7]\n"
     ]
    }
   ],
   "source": [
    "for i in a:\n",
    "    print(i[::-1])"
   ]
  },
  {
   "cell_type": "code",
   "execution_count": 29,
   "id": "084138ca",
   "metadata": {},
   "outputs": [],
   "source": [
    "a = [[1,2,3],[4,5,6],[7,8,9]]\n",
    "new = []\n",
    "for i in a:\n",
    "    for j in i:\n",
    "        new.append(j)"
   ]
  },
  {
   "cell_type": "code",
   "execution_count": 33,
   "id": "72a7a9db",
   "metadata": {},
   "outputs": [
    {
     "data": {
      "text/plain": [
       "[1, 2, 3, 4, 5, 6, 7, 8, 9]"
      ]
     },
     "execution_count": 33,
     "metadata": {},
     "output_type": "execute_result"
    }
   ],
   "source": [
    "sum(a,[])"
   ]
  },
  {
   "cell_type": "code",
   "execution_count": 34,
   "id": "7a8bc122",
   "metadata": {},
   "outputs": [
    {
     "data": {
      "text/plain": [
       "[1, 2, 3, 4, 5, 6, 7, 8, 9]"
      ]
     },
     "execution_count": 34,
     "metadata": {},
     "output_type": "execute_result"
    }
   ],
   "source": [
    "a = [[1,2,3],[4,5,6],[7,8,9]]\n",
    "new = []\n",
    "for i in a:\n",
    "    new = new + i\n",
    "new"
   ]
  },
  {
   "cell_type": "code",
   "execution_count": 41,
   "id": "19ee3a0a",
   "metadata": {},
   "outputs": [
    {
     "name": "stdout",
     "output_type": "stream",
     "text": [
      "0 [[1, 4, 9]]\n",
      "1 [[1, 4, 9], [16, 25, 36]]\n",
      "2 [[1, 4, 9], [16, 25, 36], [49, 64, 81]]\n"
     ]
    },
    {
     "data": {
      "text/plain": [
       "[[1, 4, 9], [16, 25, 36], [49, 64, 81]]"
      ]
     },
     "execution_count": 41,
     "metadata": {},
     "output_type": "execute_result"
    }
   ],
   "source": [
    "a = [[1,2,3],[4,5,6],[7,8,9]]\n",
    "b = [[1,2,3],[4,5,6],[7,8,9]]\n",
    "c = []\n",
    "for i in range(len(a)):\n",
    "    row = []\n",
    "    for j in range(len(a[i])):\n",
    "        row.append(a[i][j] * b[i][j])\n",
    "    c.append(row)\n",
    "    print(i,c)\n",
    "c"
   ]
  },
  {
   "cell_type": "code",
   "execution_count": null,
   "id": "e6a6b4b6",
   "metadata": {},
   "outputs": [],
   "source": [
    "c = [[1,4,9],[16,25,36],[49,64,81]]"
   ]
  },
  {
   "cell_type": "code",
   "execution_count": 46,
   "id": "a66e2c1f",
   "metadata": {},
   "outputs": [],
   "source": [
    "#emp = []\n",
    "emp.append([4,5,5,4,3,3])"
   ]
  },
  {
   "cell_type": "code",
   "execution_count": 47,
   "id": "367511fb",
   "metadata": {},
   "outputs": [
    {
     "data": {
      "text/plain": [
       "[[4, 5, 5, 7], [4, 5, 5, 4, 3, 3]]"
      ]
     },
     "execution_count": 47,
     "metadata": {},
     "output_type": "execute_result"
    }
   ],
   "source": [
    "emp"
   ]
  },
  {
   "cell_type": "code",
   "execution_count": null,
   "id": "5eb62f65",
   "metadata": {},
   "outputs": [],
   "source": []
  }
 ],
 "metadata": {
  "kernelspec": {
   "display_name": "Python 3 (ipykernel)",
   "language": "python",
   "name": "python3"
  },
  "language_info": {
   "codemirror_mode": {
    "name": "ipython",
    "version": 3
   },
   "file_extension": ".py",
   "mimetype": "text/x-python",
   "name": "python",
   "nbconvert_exporter": "python",
   "pygments_lexer": "ipython3",
   "version": "3.11.5"
  }
 },
 "nbformat": 4,
 "nbformat_minor": 5
}
