{
 "cells": [
  {
   "cell_type": "code",
   "execution_count": 3,
   "id": "194b286b",
   "metadata": {},
   "outputs": [
    {
     "name": "stdout",
     "output_type": "stream",
     "text": [
      "0->1\n",
      "1->2\n",
      "2->2\n",
      "3->1\n",
      "4->1\n",
      "5->1\n",
      "6->3\n",
      "9->3\n"
     ]
    }
   ],
   "source": [
    "a=[5,6,9,2,1,1,9,9,6,3,6,0,2,4]\n",
    "b=set(a)\n",
    "for i in b:\n",
    "    c=[]\n",
    "    for j in range(len(a)):\n",
    "        if(i==a[j]):\n",
    "            c.append(j)\n",
    "    print(f'{i}->{len(c)}')"
   ]
  },
  {
   "cell_type": "code",
   "execution_count": 7,
   "id": "7df4bc12",
   "metadata": {},
   "outputs": [
    {
     "name": "stdout",
     "output_type": "stream",
     "text": [
      "{5: 1, 6: 3, 9: 3, 2: 2, 1: 2, 3: 1, 0: 1, 4: 1}\n"
     ]
    },
    {
     "data": {
      "text/plain": [
       "dict_keys([5, 6, 9, 2, 1, 3, 0, 4])"
      ]
     },
     "execution_count": 7,
     "metadata": {},
     "output_type": "execute_result"
    }
   ],
   "source": [
    "a=[5,6,9,2,1,1,9,9,6,3,6,0,2,4]\n",
    "b={}\n",
    "for i in a:\n",
    "    if i in b:\n",
    "        b[i]+=1\n",
    "    else:\n",
    "        b[i]=1\n",
    "print(b)"
   ]
  },
  {
   "cell_type": "code",
   "execution_count": 23,
   "id": "40a7cab3",
   "metadata": {},
   "outputs": [
    {
     "name": "stdout",
     "output_type": "stream",
     "text": [
      "{'harish': 84757, 'jhdfjd': 84757, 'kdjfhj': 84757}\n"
     ]
    }
   ],
   "source": [
    "a=[[\"harish\",97900],[\"jhdfjd\",9384945],[\"kdjfhj\",84757]]\n",
    "b=[]\n",
    "c={}\n",
    "for i in range(len(a)):\n",
    "    for j in a[i]:\n",
    "        b.append(j)\n",
    "for i in range(0,5,2):\n",
    "    for j in range(1,7,2):\n",
    "        if(j==i+1):\n",
    "            c[b[i]]=b[j]\n",
    "print(c)"
   ]
  },
  {
   "cell_type": "code",
   "execution_count": 32,
   "id": "9e8feeb2",
   "metadata": {},
   "outputs": [
    {
     "name": "stdout",
     "output_type": "stream",
     "text": [
      "[1, 2, 3, 5, 7]\n"
     ]
    }
   ],
   "source": [
    "a=[2,3,1,7,5]\n",
    "for i in range (len(a)):\n",
    "    for j in range(i+1,len(a)):\n",
    "        if(a[i]>=a[j]):\n",
    "            a[i],a[j]=a[j],a[i]\n",
    "print(a)"
   ]
  },
  {
   "cell_type": "code",
   "execution_count": null,
   "id": "65e6b8b3",
   "metadata": {},
   "outputs": [],
   "source": []
  }
 ],
 "metadata": {
  "kernelspec": {
   "display_name": "Python 3 (ipykernel)",
   "language": "python",
   "name": "python3"
  },
  "language_info": {
   "codemirror_mode": {
    "name": "ipython",
    "version": 3
   },
   "file_extension": ".py",
   "mimetype": "text/x-python",
   "name": "python",
   "nbconvert_exporter": "python",
   "pygments_lexer": "ipython3",
   "version": "3.11.5"
  }
 },
 "nbformat": 4,
 "nbformat_minor": 5
}
