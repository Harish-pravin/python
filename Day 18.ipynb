{
 "cells": [
  {
   "cell_type": "code",
   "execution_count": 1,
   "id": "5544f310",
   "metadata": {},
   "outputs": [
    {
     "name": "stdout",
     "output_type": "stream",
     "text": [
      "enter the nameHarish\n",
      "HARISH\n"
     ]
    }
   ],
   "source": [
    "n=input(\"enter the name\")\n",
    "a=n.upper()\n",
    "print(a)"
   ]
  },
  {
   "cell_type": "code",
   "execution_count": 2,
   "id": "bb4659df",
   "metadata": {},
   "outputs": [
    {
     "name": "stdout",
     "output_type": "stream",
     "text": [
      "enter the nameHARISH\n",
      "harish\n"
     ]
    }
   ],
   "source": [
    "n=input(\"enter the name\")\n",
    "a=n.lower()\n",
    "print(a)"
   ]
  },
  {
   "cell_type": "code",
   "execution_count": 15,
   "id": "d0dc417a",
   "metadata": {},
   "outputs": [
    {
     "name": "stdout",
     "output_type": "stream",
     "text": [
      "enter the char:Harish\n",
      "[ 2 4 ]\n"
     ]
    }
   ],
   "source": [
    "n=input(\"enter the char:\")\n",
    "vow=0\n",
    "con=0\n",
    "for i in (n):\n",
    "    if(i==\"a\" or i==\"e\" or i==\"i\" or i==\"o\" or i==\"u\"):\n",
    "        vow+=1\n",
    "    else:\n",
    "        con+=1\n",
    "print(\"[\",vow,con,\"]\")"
   ]
  },
  {
   "cell_type": "code",
   "execution_count": 16,
   "id": "3a886325",
   "metadata": {},
   "outputs": [
    {
     "name": "stdout",
     "output_type": "stream",
     "text": [
      "enter the nameHarish\n",
      "hsiraH\n"
     ]
    }
   ],
   "source": [
    "n=input(\"enter the name\")\n",
    "print(n[::-1])"
   ]
  },
  {
   "cell_type": "code",
   "execution_count": 17,
   "id": "c9ad9fa6",
   "metadata": {},
   "outputs": [
    {
     "name": "stdout",
     "output_type": "stream",
     "text": [
      "enter the nameHarish\n",
      "6\n"
     ]
    }
   ],
   "source": [
    "n=input(\"enter the name\")\n",
    "print(len(n))"
   ]
  },
  {
   "cell_type": "code",
   "execution_count": 7,
   "id": "9f0ad180",
   "metadata": {},
   "outputs": [
    {
     "name": "stdout",
     "output_type": "stream",
     "text": [
      "01/18/2000\n",
      "2000/01/18\n"
     ]
    }
   ],
   "source": [
    "a=\"18/01/2000\"\n",
    "d=a.split(\"/\")\n",
    "print(f'{d[1]}/{d[0]}/{d[2]}')\n",
    "print(f'{d[2]}/{d[1]}/{d[0]}')"
   ]
  },
  {
   "cell_type": "code",
   "execution_count": null,
   "id": "69fd6450",
   "metadata": {},
   "outputs": [],
   "source": []
  }
 ],
 "metadata": {
  "kernelspec": {
   "display_name": "Python 3 (ipykernel)",
   "language": "python",
   "name": "python3"
  },
  "language_info": {
   "codemirror_mode": {
    "name": "ipython",
    "version": 3
   },
   "file_extension": ".py",
   "mimetype": "text/x-python",
   "name": "python",
   "nbconvert_exporter": "python",
   "pygments_lexer": "ipython3",
   "version": "3.11.5"
  }
 },
 "nbformat": 4,
 "nbformat_minor": 5
}
