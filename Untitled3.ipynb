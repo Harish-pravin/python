{
 "cells": [
  {
   "cell_type": "code",
   "execution_count": 2,
   "id": "8abdb8b7",
   "metadata": {},
   "outputs": [],
   "source": [
    "def add(a,b):\n",
    "    add = a+b\n",
    "    print(add)\n",
    "    mul = a*b\n",
    "    print(mul)"
   ]
  },
  {
   "cell_type": "code",
   "execution_count": 5,
   "id": "3aac1e91",
   "metadata": {},
   "outputs": [
    {
     "name": "stdout",
     "output_type": "stream",
     "text": [
      "15\n",
      "50\n"
     ]
    }
   ],
   "source": [
    "add(5,10)"
   ]
  },
  {
   "cell_type": "code",
   "execution_count": 6,
   "id": "2ef3ac38",
   "metadata": {},
   "outputs": [],
   "source": [
    "def add(a,b):\n",
    "    print(a+b)"
   ]
  },
  {
   "cell_type": "code",
   "execution_count": 20,
   "id": "e4a197be",
   "metadata": {},
   "outputs": [],
   "source": [
    "def add_r(a,b):\n",
    "    return a+b\n",
    "    print(\"hello\")\n",
    "    print(\"py\")"
   ]
  },
  {
   "cell_type": "code",
   "execution_count": 10,
   "id": "3999d681",
   "metadata": {},
   "outputs": [
    {
     "name": "stdout",
     "output_type": "stream",
     "text": [
      "30\n"
     ]
    },
    {
     "data": {
      "text/plain": [
       "False"
      ]
     },
     "execution_count": 10,
     "metadata": {},
     "output_type": "execute_result"
    }
   ],
   "source": [
    "add(10,20) == 30"
   ]
  },
  {
   "cell_type": "code",
   "execution_count": 23,
   "id": "f08e4ab9",
   "metadata": {},
   "outputs": [
    {
     "data": {
      "text/plain": [
       "13"
      ]
     },
     "execution_count": 23,
     "metadata": {},
     "output_type": "execute_result"
    }
   ],
   "source": [
    "add_r(10,3)"
   ]
  },
  {
   "cell_type": "code",
   "execution_count": 41,
   "id": "8fa35350",
   "metadata": {},
   "outputs": [],
   "source": [
    "def add(a,b,c):\n",
    "    return a,b,c"
   ]
  },
  {
   "cell_type": "code",
   "execution_count": 43,
   "id": "9b5927c6",
   "metadata": {},
   "outputs": [
    {
     "data": {
      "text/plain": [
       "(50, 12, 'py')"
      ]
     },
     "execution_count": 43,
     "metadata": {},
     "output_type": "execute_result"
    }
   ],
   "source": [
    "add(50,12,\"py\")"
   ]
  },
  {
   "cell_type": "code",
   "execution_count": 19,
   "id": "bda90958",
   "metadata": {},
   "outputs": [],
   "source": [
    "#arbitrary arguement\n",
    "def check(*data):\n",
    "    print(type(data))\n",
    "    print(data)\n",
    "    print(sum(data))"
   ]
  },
  {
   "cell_type": "code",
   "execution_count": 27,
   "id": "a3a565c3",
   "metadata": {},
   "outputs": [
    {
     "name": "stdout",
     "output_type": "stream",
     "text": [
      "<class 'tuple'>\n",
      "(4, 5, 7)\n",
      "16\n"
     ]
    }
   ],
   "source": [
    "check(4,5,7)"
   ]
  },
  {
   "cell_type": "code",
   "execution_count": 28,
   "id": "e7646297",
   "metadata": {},
   "outputs": [],
   "source": [
    "def check(name,age):\n",
    "    print(name,\"age is\",age)"
   ]
  },
  {
   "cell_type": "code",
   "execution_count": 32,
   "id": "8e7dc691",
   "metadata": {},
   "outputs": [
    {
     "name": "stdout",
     "output_type": "stream",
     "text": [
      "besant age is 15\n"
     ]
    }
   ],
   "source": [
    "check(age=15,name='besant')"
   ]
  },
  {
   "cell_type": "code",
   "execution_count": 33,
   "id": "a656d84a",
   "metadata": {},
   "outputs": [],
   "source": [
    "def check(**data):\n",
    "    print(type(data))\n",
    "    print(data)\n",
    "    for i in data:\n",
    "        print(i)"
   ]
  },
  {
   "cell_type": "code",
   "execution_count": 36,
   "id": "9ec231cb",
   "metadata": {},
   "outputs": [
    {
     "name": "stdout",
     "output_type": "stream",
     "text": [
      "<class 'dict'>\n",
      "{'name': 'besant'}\n",
      "name\n"
     ]
    }
   ],
   "source": [
    "check(name=\"besant\")"
   ]
  },
  {
   "cell_type": "code",
   "execution_count": null,
   "id": "dad87f13",
   "metadata": {},
   "outputs": [],
   "source": [
    "*args and **kargs"
   ]
  },
  {
   "cell_type": "code",
   "execution_count": 46,
   "id": "e158d30b",
   "metadata": {},
   "outputs": [],
   "source": [
    "def person_info(name,age,**data):\n",
    "    person = dict()\n",
    "    person[\"name\"] = name\n",
    "    person[\"age\"] = age\n",
    "    person.update(data)\n",
    "    print(person)"
   ]
  },
  {
   "cell_type": "code",
   "execution_count": 50,
   "id": "e8c46b10",
   "metadata": {},
   "outputs": [
    {
     "name": "stdout",
     "output_type": "stream",
     "text": [
      "{'name': 'besant', 'age': 15, 'course': 'py'}\n"
     ]
    }
   ],
   "source": [
    "person_info(\"besant\",15,course=\"py\")"
   ]
  },
  {
   "cell_type": "code",
   "execution_count": 52,
   "id": "c3f8d8b6",
   "metadata": {},
   "outputs": [
    {
     "name": "stdout",
     "output_type": "stream",
     "text": [
      "enter the number:153\n",
      "armstrong\n"
     ]
    }
   ],
   "source": [
    "def is_armstrong(n):\n",
    "    temp = n\n",
    "    arm = 0\n",
    "    while temp!=0:\n",
    "        rem = temp%10\n",
    "        arm = arm+rem**(len(str(n)))\n",
    "        temp = temp//10\n",
    "    if arm == n:\n",
    "        return True\n",
    "    else:\n",
    "        return False\n",
    "num = int(input(\"enter the number:\"))  \n",
    "if is_armstrong(num):\n",
    "    print(\"armstrong\")\n",
    "else:\n",
    "    print(\"not a armstrong\")"
   ]
  },
  {
   "cell_type": "code",
   "execution_count": 53,
   "id": "9f1548f3",
   "metadata": {},
   "outputs": [],
   "source": [
    "class bank:\n",
    "    def deposit(self,amount):\n",
    "        self.balance += amount\n",
    "    def balance_enquiry(self):\n",
    "        print(self.balance)"
   ]
  },
  {
   "cell_type": "code",
   "execution_count": 54,
   "id": "b4931690",
   "metadata": {},
   "outputs": [],
   "source": [
    "c1 = bank()"
   ]
  },
  {
   "cell_type": "code",
   "execution_count": 55,
   "id": "1fe5c9e8",
   "metadata": {},
   "outputs": [],
   "source": [
    "c1.name = \"besant\"\n",
    "c1.acc_id = 100\n",
    "c1.balance = 1000"
   ]
  },
  {
   "cell_type": "code",
   "execution_count": 58,
   "id": "6b5fa5dc",
   "metadata": {},
   "outputs": [
    {
     "data": {
      "text/plain": [
       "{'name': 'besant', 'acc_id': 100, 'balance': 1000}"
      ]
     },
     "execution_count": 58,
     "metadata": {},
     "output_type": "execute_result"
    }
   ],
   "source": [
    "c1.__dict__"
   ]
  },
  {
   "cell_type": "code",
   "execution_count": 56,
   "id": "ac2b4a66",
   "metadata": {},
   "outputs": [],
   "source": [
    "c2 = bank()"
   ]
  },
  {
   "cell_type": "code",
   "execution_count": 57,
   "id": "1a5a0f35",
   "metadata": {},
   "outputs": [],
   "source": [
    "c2.name = \"tech\"\n",
    "c2.acc_id = 101\n",
    "c2.balance = 2000"
   ]
  },
  {
   "cell_type": "code",
   "execution_count": 59,
   "id": "b6e824da",
   "metadata": {},
   "outputs": [
    {
     "data": {
      "text/plain": [
       "{'name': 'tech', 'acc_id': 101, 'balance': 2000}"
      ]
     },
     "execution_count": 59,
     "metadata": {},
     "output_type": "execute_result"
    }
   ],
   "source": [
    "c2.__dict__"
   ]
  },
  {
   "cell_type": "code",
   "execution_count": 60,
   "id": "07a932d3",
   "metadata": {},
   "outputs": [],
   "source": [
    "c1.deposit(5000)"
   ]
  },
  {
   "cell_type": "code",
   "execution_count": 61,
   "id": "4146f792",
   "metadata": {},
   "outputs": [
    {
     "name": "stdout",
     "output_type": "stream",
     "text": [
      "6000\n"
     ]
    }
   ],
   "source": [
    "c1.balance_enquiry()"
   ]
  },
  {
   "cell_type": "code",
   "execution_count": 64,
   "id": "62e0a6d3",
   "metadata": {},
   "outputs": [
    {
     "name": "stdout",
     "output_type": "stream",
     "text": [
      "22000\n"
     ]
    }
   ],
   "source": [
    "c2.balance_enquiry()"
   ]
  },
  {
   "cell_type": "code",
   "execution_count": 63,
   "id": "cb642a77",
   "metadata": {},
   "outputs": [],
   "source": [
    "c2.deposit(20000)"
   ]
  },
  {
   "cell_type": "code",
   "execution_count": null,
   "id": "1bff37e4",
   "metadata": {},
   "outputs": [],
   "source": []
  }
 ],
 "metadata": {
  "kernelspec": {
   "display_name": "Python 3 (ipykernel)",
   "language": "python",
   "name": "python3"
  },
  "language_info": {
   "codemirror_mode": {
    "name": "ipython",
    "version": 3
   },
   "file_extension": ".py",
   "mimetype": "text/x-python",
   "name": "python",
   "nbconvert_exporter": "python",
   "pygments_lexer": "ipython3",
   "version": "3.11.5"
  }
 },
 "nbformat": 4,
 "nbformat_minor": 5
}
