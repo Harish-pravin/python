{
 "cells": [
  {
   "cell_type": "code",
   "execution_count": 1,
   "id": "628ad900",
   "metadata": {},
   "outputs": [
    {
     "name": "stdout",
     "output_type": "stream",
     "text": [
      "[10, 15, 20]\n"
     ]
    }
   ],
   "source": [
    "a=[2,3,4]\n",
    "b=5\n",
    "ans=[]\n",
    "for i in (a):\n",
    "    ans.append(i*b)\n",
    "print(ans)"
   ]
  },
  {
   "cell_type": "code",
   "execution_count": 8,
   "id": "b8644615",
   "metadata": {},
   "outputs": [
    {
     "name": "stdout",
     "output_type": "stream",
     "text": [
      "0\n"
     ]
    }
   ],
   "source": [
    "a=[1,2,3],[4,5,6]\n",
    "b=[1,2,3],[4,5,8]\n",
    "c=[a]\n",
    "e=[b]\n",
    "for i in range(len(c)):\n",
    "    if(c[i]==e[i]):\n",
    "        print(\"1\")\n",
    "    else:\n",
    "        print(\"0\")\n",
    "\n",
    "    "
   ]
  },
  {
   "cell_type": "code",
   "execution_count": 13,
   "id": "0e594a63",
   "metadata": {},
   "outputs": [
    {
     "name": "stdout",
     "output_type": "stream",
     "text": [
      "[12, 17]\n"
     ]
    }
   ],
   "source": [
    "a=[1,5,6]\n",
    "b=[3,9,5]\n",
    "c=sum(a)\n",
    "d=sum(b)\n",
    "print([c,d])"
   ]
  },
  {
   "cell_type": "code",
   "execution_count": 15,
   "id": "eb9eedbd",
   "metadata": {},
   "outputs": [
    {
     "name": "stdout",
     "output_type": "stream",
     "text": [
      "[35, 70]\n"
     ]
    }
   ],
   "source": [
    "a=[35,24,45,67,70]\n",
    "ans=[]\n",
    "for i in (a):\n",
    "    if(i%5==0 and i%7==0):\n",
    "        ans.append(i)\n",
    "print(ans)"
   ]
  },
  {
   "cell_type": "code",
   "execution_count": 23,
   "id": "f1a6d67f",
   "metadata": {},
   "outputs": [
    {
     "name": "stdout",
     "output_type": "stream",
     "text": [
      "first largest number: 1\n",
      "-1\n"
     ]
    }
   ],
   "source": [
    "a=[1]\n",
    "b=sorted(a,reverse=True)\n",
    "print(\"first largest number:\",b[0])\n",
    "for i in (b):\n",
    "    if(b[0]>i):\n",
    "        print(\"second largest number:\",i)\n",
    "        break\n",
    "    else:\n",
    "        print(-1)"
   ]
  },
  {
   "cell_type": "code",
   "execution_count": 32,
   "id": "fdea81e6",
   "metadata": {},
   "outputs": [
    {
     "name": "stdout",
     "output_type": "stream",
     "text": [
      "8\n"
     ]
    }
   ],
   "source": [
    "a=[7,9,1]\n",
    "b=sorted(a,reverse=True)\n",
    "c=sorted(a)\n",
    "d=b[0]-c[0]\n",
    "print(d)"
   ]
  },
  {
   "cell_type": "code",
   "execution_count": 37,
   "id": "49845cac",
   "metadata": {},
   "outputs": [
    {
     "name": "stdout",
     "output_type": "stream",
     "text": [
      "[1, 2, 4]\n"
     ]
    }
   ],
   "source": [
    "a=[1,4,4,6,4]\n",
    "b=4\n",
    "c=[]\n",
    "for i in range(len(a)):\n",
    "    if(a[i]==b):\n",
    "        c.append(i)\n",
    "print(c)"
   ]
  },
  {
   "cell_type": "code",
   "execution_count": 54,
   "id": "8d1e5b8e",
   "metadata": {},
   "outputs": [
    {
     "name": "stdout",
     "output_type": "stream",
     "text": [
      "[1, 2, 3, 4, 5, 6, 7, 8, 9, 0]\n"
     ]
    }
   ],
   "source": [
    "a=[1,9,5,6,4,2,7,3,0,8]\n",
    "b=sorted(a)\n",
    "c=b[1:]\n",
    "c.append(b[0])\n",
    "print(c)"
   ]
  },
  {
   "cell_type": "code",
   "execution_count": 67,
   "id": "15455e9a",
   "metadata": {},
   "outputs": [
    {
     "name": "stdout",
     "output_type": "stream",
     "text": [
      "1\n"
     ]
    }
   ],
   "source": [
    "a=[1,2,2]\n",
    "b=sorted(a)\n",
    "if(a==b):\n",
    "    print(1)\n",
    "else:\n",
    "    print(0)"
   ]
  },
  {
   "cell_type": "code",
   "execution_count": 11,
   "id": "3fbd7638",
   "metadata": {},
   "outputs": [
    {
     "name": "stdout",
     "output_type": "stream",
     "text": [
      "2\n",
      "4\n"
     ]
    }
   ],
   "source": [
    "a=[2,1,3,7,8,4]\n",
    "b=3\n",
    "c=sorted(a)\n",
    "for i in range(len(a)):\n",
    "    if(b==c[i]):\n",
    "        print(c[i-1])\n",
    "        print(c[i+1])"
   ]
  },
  {
   "cell_type": "code",
   "execution_count": null,
   "id": "336b4632",
   "metadata": {},
   "outputs": [],
   "source": []
  }
 ],
 "metadata": {
  "kernelspec": {
   "display_name": "Python 3 (ipykernel)",
   "language": "python",
   "name": "python3"
  },
  "language_info": {
   "codemirror_mode": {
    "name": "ipython",
    "version": 3
   },
   "file_extension": ".py",
   "mimetype": "text/x-python",
   "name": "python",
   "nbconvert_exporter": "python",
   "pygments_lexer": "ipython3",
   "version": "3.11.5"
  }
 },
 "nbformat": 4,
 "nbformat_minor": 5
}
