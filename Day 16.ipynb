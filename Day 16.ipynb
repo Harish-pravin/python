{
 "cells": [
  {
   "cell_type": "code",
   "execution_count": 19,
   "id": "e52ff173",
   "metadata": {},
   "outputs": [
    {
     "name": "stdout",
     "output_type": "stream",
     "text": [
      "enter the nameharish\n",
      "h s i r a h "
     ]
    }
   ],
   "source": [
    "a=input(\"enter the name\")\n",
    "c=len(a)\n",
    "c=c-1\n",
    "while(c!=-1):\n",
    "    print(a[c],end=\" \")\n",
    "    c=c-1\n",
    "        "
   ]
  },
  {
   "cell_type": "code",
   "execution_count": 8,
   "id": "74836a55",
   "metadata": {},
   "outputs": [
    {
     "name": "stdout",
     "output_type": "stream",
     "text": [
      "enter the number120\n",
      "no\n"
     ]
    }
   ],
   "source": [
    "a=int(input(\"enter the number\"))\n",
    "d=a\n",
    "s=\"\"\n",
    "while(d!=0):\n",
    "    c=d%10\n",
    "    s+=str(c)\n",
    "    d=d//10\n",
    "e=int(s)\n",
    "if(a==e):\n",
    "    print(\"palind\")\n",
    "else:\n",
    "    print(\"no\")"
   ]
  },
  {
   "cell_type": "code",
   "execution_count": 1,
   "id": "a6933e91",
   "metadata": {},
   "outputs": [
    {
     "name": "stdout",
     "output_type": "stream",
     "text": [
      "enter the number135\n",
      "141\n"
     ]
    }
   ],
   "source": [
    "n=int(input(\"enter the number\"))\n",
    "x=n\n",
    "while True:\n",
    "    if(str(x)==str(x)[::-1]):\n",
    "        print(x)\n",
    "        break\n",
    "    x+=1"
   ]
  },
  {
   "cell_type": "code",
   "execution_count": 8,
   "id": "814b1a80",
   "metadata": {},
   "outputs": [
    {
     "name": "stdout",
     "output_type": "stream",
     "text": [
      "sm\n"
     ]
    }
   ],
   "source": [
    "a=\"sample\"\n",
    "print(a[0:4:2])"
   ]
  },
  {
   "cell_type": "code",
   "execution_count": 9,
   "id": "198d0e57",
   "metadata": {},
   "outputs": [],
   "source": [
    "a = \"sample\""
   ]
  },
  {
   "cell_type": "code",
   "execution_count": 10,
   "id": "7d8ccb59",
   "metadata": {},
   "outputs": [
    {
     "data": {
      "text/plain": [
       "'SAMPLE'"
      ]
     },
     "execution_count": 10,
     "metadata": {},
     "output_type": "execute_result"
    }
   ],
   "source": [
    "a.upper()"
   ]
  },
  {
   "cell_type": "code",
   "execution_count": 11,
   "id": "d67d5dd4",
   "metadata": {},
   "outputs": [
    {
     "data": {
      "text/plain": [
       "'sample'"
      ]
     },
     "execution_count": 11,
     "metadata": {},
     "output_type": "execute_result"
    }
   ],
   "source": [
    "a.lower()"
   ]
  },
  {
   "cell_type": "code",
   "execution_count": 13,
   "id": "d7eb449b",
   "metadata": {},
   "outputs": [
    {
     "name": "stdout",
     "output_type": "stream",
     "text": [
      "do you want continue press yes else press noYES\n",
      "******\n"
     ]
    }
   ],
   "source": [
    "a = input(\"do you want continue press yes else press no\").lower()\n",
    "if a==\"yes\":\n",
    "    print(\"******\")"
   ]
  },
  {
   "cell_type": "code",
   "execution_count": 40,
   "id": "578c1cbe",
   "metadata": {},
   "outputs": [],
   "source": [
    "a = \"123\""
   ]
  },
  {
   "cell_type": "code",
   "execution_count": 41,
   "id": "b25981b9",
   "metadata": {},
   "outputs": [
    {
     "data": {
      "text/plain": [
       "True"
      ]
     },
     "execution_count": 41,
     "metadata": {},
     "output_type": "execute_result"
    }
   ],
   "source": [
    "a.isalnum()"
   ]
  },
  {
   "cell_type": "code",
   "execution_count": 128,
   "id": "b93170dd",
   "metadata": {},
   "outputs": [],
   "source": [
    "a = \"hello\""
   ]
  },
  {
   "cell_type": "code",
   "execution_count": 120,
   "id": "e1874ed2",
   "metadata": {},
   "outputs": [
    {
     "data": {
      "text/plain": [
       "1"
      ]
     },
     "execution_count": 120,
     "metadata": {},
     "output_type": "execute_result"
    }
   ],
   "source": [
    "a.count(\"l\",3)"
   ]
  },
  {
   "cell_type": "code",
   "execution_count": 130,
   "id": "3cced61d",
   "metadata": {},
   "outputs": [
    {
     "data": {
      "text/plain": [
       "0"
      ]
     },
     "execution_count": 130,
     "metadata": {},
     "output_type": "execute_result"
    }
   ],
   "source": [
    "a.find(\"h\")"
   ]
  },
  {
   "cell_type": "code",
   "execution_count": 59,
   "id": "33845368",
   "metadata": {},
   "outputs": [],
   "source": [
    "a = \"py is a programming language py is general purpose language\""
   ]
  },
  {
   "cell_type": "code",
   "execution_count": 53,
   "id": "cc1c6852",
   "metadata": {},
   "outputs": [
    {
     "data": {
      "text/plain": [
       "'py is a programming language py is general purpose language'"
      ]
     },
     "execution_count": 53,
     "metadata": {},
     "output_type": "execute_result"
    }
   ],
   "source": [
    "a"
   ]
  },
  {
   "cell_type": "code",
   "execution_count": 56,
   "id": "73eaafce",
   "metadata": {},
   "outputs": [
    {
     "data": {
      "text/plain": [
       "'py is a programming languag$ py is g$n$ral purpos$ languag$'"
      ]
     },
     "execution_count": 56,
     "metadata": {},
     "output_type": "execute_result"
    }
   ],
   "source": [
    "a.replace(\"e\",\"$\")"
   ]
  },
  {
   "cell_type": "code",
   "execution_count": 60,
   "id": "c34a8c5b",
   "metadata": {},
   "outputs": [
    {
     "data": {
      "text/plain": [
       "['py ', ' a programming language py ', ' general purpose language']"
      ]
     },
     "execution_count": 60,
     "metadata": {},
     "output_type": "execute_result"
    }
   ],
   "source": [
    "a.split(\"is\")"
   ]
  },
  {
   "cell_type": "code",
   "execution_count": 77,
   "id": "ae2e34b0",
   "metadata": {},
   "outputs": [],
   "source": [
    "a = \"\"\"py is a programming languag$\n",
    "py is g$n$ral purpos$ languag$\n",
    "yrtrster treretr\"\"\""
   ]
  },
  {
   "cell_type": "code",
   "execution_count": 78,
   "id": "a6200a02",
   "metadata": {},
   "outputs": [
    {
     "name": "stdout",
     "output_type": "stream",
     "text": [
      "py is a programming languag$\n",
      "py is g$n$ral purpos$ languag$\n",
      "yrtrster treretr\n"
     ]
    }
   ],
   "source": [
    "print(a)"
   ]
  },
  {
   "cell_type": "code",
   "execution_count": 80,
   "id": "041db392",
   "metadata": {},
   "outputs": [
    {
     "data": {
      "text/plain": [
       "['py is a programming languag$\\n',\n",
       " 'py is g$n$ral purpos$ languag$\\n',\n",
       " 'yrtrster treretr']"
      ]
     },
     "execution_count": 80,
     "metadata": {},
     "output_type": "execute_result"
    }
   ],
   "source": [
    "a.splitlines(True)"
   ]
  },
  {
   "cell_type": "code",
   "execution_count": 86,
   "id": "78e35a54",
   "metadata": {},
   "outputs": [],
   "source": [
    "a = [\"hello\",\"world\",\"python\"]"
   ]
  },
  {
   "cell_type": "code",
   "execution_count": 87,
   "id": "eaa434f4",
   "metadata": {},
   "outputs": [],
   "source": [
    "a = \"???\".join(a)"
   ]
  },
  {
   "cell_type": "code",
   "execution_count": 88,
   "id": "cde290ae",
   "metadata": {},
   "outputs": [
    {
     "data": {
      "text/plain": [
       "'hello???world???python'"
      ]
     },
     "execution_count": 88,
     "metadata": {},
     "output_type": "execute_result"
    }
   ],
   "source": [
    "a"
   ]
  },
  {
   "cell_type": "code",
   "execution_count": 89,
   "id": "e0550470",
   "metadata": {},
   "outputs": [],
   "source": [
    "a = \"sample\""
   ]
  },
  {
   "cell_type": "code",
   "execution_count": 91,
   "id": "cd1d8627",
   "metadata": {},
   "outputs": [
    {
     "name": "stdout",
     "output_type": "stream",
     "text": [
      "elpmas\n"
     ]
    }
   ],
   "source": [
    "emp = \"\"\n",
    "for i in a:\n",
    "    emp = i + emp\n",
    "print(emp)"
   ]
  },
  {
   "cell_type": "code",
   "execution_count": 96,
   "id": "255ed894",
   "metadata": {},
   "outputs": [
    {
     "name": "stdout",
     "output_type": "stream",
     "text": [
      "enter the charcter:e\n",
      "1\n"
     ]
    }
   ],
   "source": [
    "a = \"hello\"\n",
    "b = input(\"enter the charcter:\")\n",
    "count = 0\n",
    "for i in a:\n",
    "    if i == b:\n",
    "        count += 1\n",
    "print(count)"
   ]
  },
  {
   "cell_type": "code",
   "execution_count": 97,
   "id": "72c93dd1",
   "metadata": {},
   "outputs": [
    {
     "data": {
      "text/plain": [
       "5"
      ]
     },
     "execution_count": 97,
     "metadata": {},
     "output_type": "execute_result"
    }
   ],
   "source": [
    "len(a)"
   ]
  },
  {
   "cell_type": "code",
   "execution_count": 98,
   "id": "8efad6c4",
   "metadata": {},
   "outputs": [
    {
     "name": "stdout",
     "output_type": "stream",
     "text": [
      "5\n"
     ]
    }
   ],
   "source": [
    "a = \"hello\"\n",
    "count = 0\n",
    "for i in a:\n",
    "    count += 1\n",
    "print(count)"
   ]
  },
  {
   "cell_type": "code",
   "execution_count": 99,
   "id": "cf3d4a85",
   "metadata": {},
   "outputs": [],
   "source": [
    "a = \"hello\""
   ]
  },
  {
   "cell_type": "code",
   "execution_count": 109,
   "id": "f212911f",
   "metadata": {},
   "outputs": [
    {
     "data": {
      "text/plain": [
       "'hello'"
      ]
     },
     "execution_count": 109,
     "metadata": {},
     "output_type": "execute_result"
    }
   ],
   "source": [
    "a"
   ]
  },
  {
   "cell_type": "code",
   "execution_count": 112,
   "id": "3022b8ad",
   "metadata": {},
   "outputs": [
    {
     "data": {
      "text/plain": [
       "'hlo'"
      ]
     },
     "execution_count": 112,
     "metadata": {},
     "output_type": "execute_result"
    }
   ],
   "source": [
    "a[0:5:2]"
   ]
  },
  {
   "cell_type": "code",
   "execution_count": 113,
   "id": "67a0bdbf",
   "metadata": {},
   "outputs": [
    {
     "data": {
      "text/plain": [
       "'ell'"
      ]
     },
     "execution_count": 113,
     "metadata": {},
     "output_type": "execute_result"
    }
   ],
   "source": [
    "a[-4:-1]"
   ]
  },
  {
   "cell_type": "code",
   "execution_count": 117,
   "id": "28df882a",
   "metadata": {},
   "outputs": [
    {
     "data": {
      "text/plain": [
       "'olh'"
      ]
     },
     "execution_count": 117,
     "metadata": {},
     "output_type": "execute_result"
    }
   ],
   "source": [
    "a[::-2]"
   ]
  },
  {
   "cell_type": "code",
   "execution_count": 126,
   "id": "1ee3a9dc",
   "metadata": {},
   "outputs": [
    {
     "name": "stdout",
     "output_type": "stream",
     "text": [
      "enter the charcter:l\n",
      "starts from?4\n",
      "2\n"
     ]
    }
   ],
   "source": [
    "a = \"helloll\"\n",
    "b = input(\"enter the charcter:\")\n",
    "c = int(input(\"starts from?\"))\n",
    "count = 0\n",
    "for i in range(c,len(a)):\n",
    "    if a[i] == b:\n",
    "        count += 1\n",
    "print(count)"
   ]
  },
  {
   "cell_type": "code",
   "execution_count": 122,
   "id": "3a28aec0",
   "metadata": {},
   "outputs": [
    {
     "name": "stdout",
     "output_type": "stream",
     "text": [
      "h\n",
      "e\n",
      "l\n",
      "l\n",
      "o\n"
     ]
    }
   ],
   "source": [
    "for i in range(len(a)):\n",
    "    print(a[i])"
   ]
  },
  {
   "cell_type": "code",
   "execution_count": null,
   "id": "83ac81b7",
   "metadata": {},
   "outputs": [],
   "source": []
  }
 ],
 "metadata": {
  "kernelspec": {
   "display_name": "Python 3 (ipykernel)",
   "language": "python",
   "name": "python3"
  },
  "language_info": {
   "codemirror_mode": {
    "name": "ipython",
    "version": 3
   },
   "file_extension": ".py",
   "mimetype": "text/x-python",
   "name": "python",
   "nbconvert_exporter": "python",
   "pygments_lexer": "ipython3",
   "version": "3.11.5"
  }
 },
 "nbformat": 4,
 "nbformat_minor": 5
}
