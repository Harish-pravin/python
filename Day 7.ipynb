{
 "cells": [
  {
   "cell_type": "code",
   "execution_count": 5,
   "id": "1e9ed861",
   "metadata": {},
   "outputs": [
    {
     "name": "stdout",
     "output_type": "stream",
     "text": [
      "Enter the name:harish\n",
      "harish\n",
      "harish\n",
      "harish\n"
     ]
    }
   ],
   "source": [
    "N=input(\"Enter the name:\")\n",
    "for i in range(3):\n",
    "    print(N)\n",
    "    "
   ]
  },
  {
   "cell_type": "code",
   "execution_count": 6,
   "id": "64178241",
   "metadata": {},
   "outputs": [
    {
     "name": "stdout",
     "output_type": "stream",
     "text": [
      "Enter the name:harish\n",
      "How many times10\n",
      "harish\n",
      "harish\n",
      "harish\n",
      "harish\n",
      "harish\n",
      "harish\n",
      "harish\n",
      "harish\n",
      "harish\n",
      "harish\n"
     ]
    }
   ],
   "source": [
    "N=input(\"Enter the name:\")\n",
    "Num=int(input(\"How many times\"))\n",
    "for i in range(Num):\n",
    "    print(N)"
   ]
  },
  {
   "cell_type": "code",
   "execution_count": 10,
   "id": "1d66145a",
   "metadata": {},
   "outputs": [
    {
     "name": "stdout",
     "output_type": "stream",
     "text": [
      "Enter the nameHarish\n",
      "H\n",
      "a\n",
      "r\n",
      "i\n",
      "s\n",
      "h\n"
     ]
    }
   ],
   "source": [
    "N=input(\"Enter the name\")\n",
    "for i in (N):\n",
    "    print(i)"
   ]
  },
  {
   "cell_type": "code",
   "execution_count": 16,
   "id": "e99202a9",
   "metadata": {},
   "outputs": [
    {
     "name": "stdout",
     "output_type": "stream",
     "text": [
      "Enter the name:Harish\n",
      "How many times:2\n",
      "H\n",
      "a\n",
      "r\n",
      "i\n",
      "s\n",
      "h\n",
      "H\n",
      "a\n",
      "r\n",
      "i\n",
      "s\n",
      "h\n"
     ]
    }
   ],
   "source": [
    "N=input(\"Enter the name:\")\n",
    "Num=int(input(\"How many times:\"))\n",
    "for i in range(Num):\n",
    "    for i in (N):\n",
    "        print(i)"
   ]
  },
  {
   "cell_type": "code",
   "execution_count": 20,
   "id": "11bc734a",
   "metadata": {},
   "outputs": [
    {
     "name": "stdout",
     "output_type": "stream",
     "text": [
      "Enter the name:10\n",
      "10 x 1 = 10\n",
      "10 x 2 = 20\n",
      "10 x 3 = 30\n",
      "10 x 4 = 40\n",
      "10 x 5 = 50\n",
      "10 x 6 = 60\n",
      "10 x 7 = 70\n",
      "10 x 8 = 80\n",
      "10 x 9 = 90\n",
      "10 x 10 = 100\n"
     ]
    }
   ],
   "source": [
    "N=int(input(\"Enter the name:\"))\n",
    "for i in range(1,11):\n",
    "    print(N,\"x\",i,\"=\",N*i)"
   ]
  },
  {
   "cell_type": "code",
   "execution_count": 8,
   "id": "7bff599c",
   "metadata": {},
   "outputs": [
    {
     "name": "stdout",
     "output_type": "stream",
     "text": [
      "Enter the number:10\n",
      "50\n",
      "51\n",
      "52\n",
      "53\n",
      "54\n",
      "55\n",
      "56\n",
      "57\n",
      "58\n",
      "59\n"
     ]
    }
   ],
   "source": [
    "N=int(input(\"Enter the number:\"))\n",
    "num=0\n",
    "if(N<50):\n",
    "    for i in range(N):\n",
    "        num=50+i\n",
    "        print(num)\n",
    "else:\n",
    "    print(\"please enter the number below 50\")"
   ]
  },
  {
   "cell_type": "code",
   "execution_count": 2,
   "id": "b9190be5",
   "metadata": {},
   "outputs": [
    {
     "name": "stdout",
     "output_type": "stream",
     "text": [
      "Enter the name:kamali\n",
      "enter the number12\n",
      "Too High\n",
      "Too High\n",
      "Too High\n"
     ]
    }
   ],
   "source": [
    "N=input(\"Enter the name:\")\n",
    "Num=int(input(\"enter the number\"))\n",
    "if(Num<10):\n",
    "    for i in range(Num):\n",
    "        print(N)\n",
    "elif(Num>10):\n",
    "    for i in range(3):\n",
    "        print(\"Too High\")"
   ]
  },
  {
   "cell_type": "code",
   "execution_count": 44,
   "id": "63c9fead",
   "metadata": {},
   "outputs": [
    {
     "name": "stdout",
     "output_type": "stream",
     "text": [
      "Enter the number:2\n",
      "Do you want include:yes\n",
      "Enter the number:2\n",
      "Do you want include:Yes\n",
      "Enter the number:2\n",
      "Do you want include:no\n",
      "Enter the number:2\n",
      "Do you want include:yes\n",
      "Enter the number:2\n",
      "Do you want include:YES\n",
      "8\n"
     ]
    }
   ],
   "source": [
    "total=0\n",
    "for i in(a,b,c,d,e):\n",
    "    i=int(input(\"Enter the number:\"))\n",
    "    x=input(\"Do you want include:\")\n",
    "    x=x.lower()\n",
    "    if(x==\"yes\"):\n",
    "        total=total+i\n",
    "    else:\n",
    "        total=total+0\n",
    "print(total)\n",
    "        "
   ]
  },
  {
   "cell_type": "code",
   "execution_count": 1,
   "id": "1c4a7908",
   "metadata": {},
   "outputs": [
    {
     "name": "stdout",
     "output_type": "stream",
     "text": [
      "which directiondown\n",
      "Enter the number below 2010\n",
      "20\n",
      "19\n",
      "18\n",
      "17\n",
      "16\n",
      "15\n",
      "14\n",
      "13\n",
      "12\n",
      "11\n"
     ]
    }
   ],
   "source": [
    "n=input(\"which direction\")\n",
    "n=n.lower()\n",
    "if(n==\"up\"):\n",
    "    x=int(input(\"number\"))\n",
    "    for i in range(1,x+1):\n",
    "        print(i)\n",
    "elif(n==\"down\"):\n",
    "    y=int(input(\"Enter the number below 20\"))\n",
    "    for i in range(20,y,-1):\n",
    "        print(i)\n",
    "else:\n",
    "    print(\"I dont understand\")"
   ]
  },
  {
   "cell_type": "code",
   "execution_count": 3,
   "id": "657d3f7f",
   "metadata": {},
   "outputs": [
    {
     "name": "stdout",
     "output_type": "stream",
     "text": [
      "How many people?:3\n",
      "Enter the name:hgu\n",
      "hgu has been invited\n",
      "Enter the name:hghg\n",
      "hghg has been invited\n",
      "Enter the name:hghg\n",
      "hghg has been invited\n"
     ]
    }
   ],
   "source": [
    "n=int(input(\"How many people?:\"))\n",
    "if(n<10):\n",
    "    for i in range(n):\n",
    "        x=input(\"Enter the name:\")\n",
    "        print(x,\"has been invited\")\n",
    "else:\n",
    "    print(\"Too many people\")"
   ]
  },
  {
   "cell_type": "code",
   "execution_count": null,
   "id": "2af353f2",
   "metadata": {},
   "outputs": [],
   "source": []
  }
 ],
 "metadata": {
  "kernelspec": {
   "display_name": "Python 3 (ipykernel)",
   "language": "python",
   "name": "python3"
  },
  "language_info": {
   "codemirror_mode": {
    "name": "ipython",
    "version": 3
   },
   "file_extension": ".py",
   "mimetype": "text/x-python",
   "name": "python",
   "nbconvert_exporter": "python",
   "pygments_lexer": "ipython3",
   "version": "3.11.5"
  }
 },
 "nbformat": 4,
 "nbformat_minor": 5
}
