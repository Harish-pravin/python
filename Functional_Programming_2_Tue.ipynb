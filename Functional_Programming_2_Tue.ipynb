{
 "cells": [
  {
   "cell_type": "markdown",
   "metadata": {
    "colab_type": "text",
    "id": "view-in-github"
   },
   "source": [
    "<a href=\"https://colab.research.google.com/github/SachinScaler/DSML-Nov22-Beginner-Tue-3/blob/main/Functional_Programming_2_Tue.ipynb\" target=\"_parent\"><img src=\"https://colab.research.google.com/assets/colab-badge.svg\" alt=\"Open In Colab\"/></a>"
   ]
  },
  {
   "cell_type": "markdown",
   "metadata": {
    "id": "VFUg6uqT0kUb"
   },
   "source": [
    "- Quizzes on FP\n",
    "- Args and KWARGS\n",
    "- Higher Order Function\n",
    "- Decorators\n"
   ]
  },
  {
   "cell_type": "code",
   "execution_count": 7,
   "metadata": {
    "colab": {
     "base_uri": "https://localhost:8080/"
    },
    "id": "aL5Tl74wzNls",
    "outputId": "f5f90e85-18ac-4389-84de-12af0e9af66f"
   },
   "outputs": [
    {
     "data": {
      "text/plain": [
       "[(1, 'A'), (2, 'B'), (3, 'C')]"
      ]
     },
     "execution_count": 7,
     "metadata": {},
     "output_type": "execute_result"
    }
   ],
   "source": [
    "list1 = [1,2,3,4,5] ## length 5\n",
    "list2 = [ \"A\", \"B\", \"C\"] # length 4\n",
    "\n",
    "list(zip(list1, list2))"
   ]
  },
  {
   "cell_type": "code",
   "execution_count": 8,
   "metadata": {
    "id": "4cg498a53fPF"
   },
   "outputs": [
    {
     "data": {
      "text/plain": [
       "[(1, 'A'), (2, 'B'), (3, 'C')]"
      ]
     },
     "execution_count": 8,
     "metadata": {},
     "output_type": "execute_result"
    }
   ],
   "source": [
    "a = list(zip(list1, list2))\n",
    "a# for sorting use cases"
   ]
  },
  {
   "cell_type": "code",
   "execution_count": 3,
   "metadata": {
    "colab": {
     "base_uri": "https://localhost:8080/"
    },
    "id": "a00hIKys3ilh",
    "outputId": "3dbf7cd8-3eb9-4031-895c-9df9c28de950"
   },
   "outputs": [
    {
     "data": {
      "text/plain": [
       "((1, 'A'), (2, 'B'), (3, 'C'))"
      ]
     },
     "execution_count": 3,
     "metadata": {},
     "output_type": "execute_result"
    }
   ],
   "source": [
    "tuple(zip(list1, list2))"
   ]
  },
  {
   "cell_type": "code",
   "execution_count": 4,
   "metadata": {
    "colab": {
     "base_uri": "https://localhost:8080/"
    },
    "id": "9GjD_SpK4P_a",
    "outputId": "92e35171-925f-4f87-acb9-d299c32922a0"
   },
   "outputs": [
    {
     "data": {
      "text/plain": [
       "{(1, 'A'), (2, 'B'), (3, 'C')}"
      ]
     },
     "execution_count": 4,
     "metadata": {},
     "output_type": "execute_result"
    }
   ],
   "source": [
    "set(zip(list1, list2))"
   ]
  },
  {
   "cell_type": "code",
   "execution_count": 5,
   "metadata": {
    "colab": {
     "base_uri": "https://localhost:8080/"
    },
    "id": "FlAMKBkS4RS8",
    "outputId": "e57111fd-4141-4b95-e110-0f6e5ffc6edc"
   },
   "outputs": [
    {
     "data": {
      "text/plain": [
       "{1: 'A', 2: 'B', 3: 'C'}"
      ]
     },
     "execution_count": 5,
     "metadata": {},
     "output_type": "execute_result"
    }
   ],
   "source": [
    "dict(zip(list1, list2)) # dict1"
   ]
  },
  {
   "cell_type": "code",
   "execution_count": 9,
   "metadata": {},
   "outputs": [
    {
     "data": {
      "text/plain": [
       "[(1, 'A'), (2, 'B'), (3, 'C')]"
      ]
     },
     "execution_count": 9,
     "metadata": {},
     "output_type": "execute_result"
    }
   ],
   "source": [
    "a"
   ]
  },
  {
   "cell_type": "code",
   "execution_count": 10,
   "metadata": {
    "colab": {
     "base_uri": "https://localhost:8080/"
    },
    "id": "brwDTUFV4TYW",
    "outputId": "8d8c47cf-d270-49f6-ff9d-deebef9c9791"
   },
   "outputs": [
    {
     "name": "stdout",
     "output_type": "stream",
     "text": [
      "[1, 2, 3] ['A', 'B', 'C']\n"
     ]
    }
   ],
   "source": [
    "list1, list2 = list(map(lambda x: x[0], a)),  list(map(lambda x: x[1], a))\n",
    "\n",
    "print(list1, list2)"
   ]
  },
  {
   "cell_type": "code",
   "execution_count": 11,
   "metadata": {
    "colab": {
     "base_uri": "https://localhost:8080/"
    },
    "id": "-jpmnZ9F4tlY",
    "outputId": "50e676b4-176e-47ee-f15c-d67d2c08c810"
   },
   "outputs": [
    {
     "data": {
      "text/plain": [
       "((1, 'A'), (2, 'B'), (3, 'C'), (4, 'D'))"
      ]
     },
     "execution_count": 11,
     "metadata": {},
     "output_type": "execute_result"
    }
   ],
   "source": [
    "list1 = (1,2,3,4,5) ## length 5\n",
    "list2 = ( \"A\", \"B\", \"C\",\"D\") # length 4\n",
    "\n",
    "tuple(zip(list1, list2)) # you can zip any iterable"
   ]
  },
  {
   "cell_type": "code",
   "execution_count": null,
   "metadata": {
    "id": "SZcb0Mw95pqm"
   },
   "outputs": [],
   "source": [
    "# Lambda Functions can't be stored in Variable is Not True\n",
    "func1 = lambda x : x+2"
   ]
  },
  {
   "cell_type": "code",
   "execution_count": null,
   "metadata": {
    "colab": {
     "base_uri": "https://localhost:8080/"
    },
    "id": "vnty2HUQ5-u3",
    "outputId": "b6b59fe2-d99c-4322-d224-e62051460b04"
   },
   "outputs": [
    {
     "data": {
      "text/plain": [
       "6"
      ]
     },
     "execution_count": 17,
     "metadata": {},
     "output_type": "execute_result"
    }
   ],
   "source": [
    "func1(4)"
   ]
  },
  {
   "cell_type": "code",
   "execution_count": null,
   "metadata": {
    "colab": {
     "base_uri": "https://localhost:8080/"
    },
    "id": "mYMzHikn5___",
    "outputId": "7b51e063-6540-4b0e-da32-dd95595f95dd"
   },
   "outputs": [
    {
     "data": {
      "text/plain": [
       "6"
      ]
     },
     "execution_count": 18,
     "metadata": {},
     "output_type": "execute_result"
    }
   ],
   "source": [
    "(lambda x : x+2)(4)"
   ]
  },
  {
   "cell_type": "code",
   "execution_count": 12,
   "metadata": {},
   "outputs": [],
   "source": [
    "list1 = [\"Heeello\", \"eeeel\", \"Voweels\", \"Kausach\", \"Elephant\" ]"
   ]
  },
  {
   "cell_type": "code",
   "execution_count": 23,
   "metadata": {},
   "outputs": [
    {
     "data": {
      "text/plain": [
       "['Heeello', 'eeeel', 'Voweels', 'Kausach', 'Elephant']"
      ]
     },
     "execution_count": 23,
     "metadata": {},
     "output_type": "execute_result"
    }
   ],
   "source": [
    "list1"
   ]
  },
  {
   "cell_type": "code",
   "execution_count": 39,
   "metadata": {},
   "outputs": [
    {
     "data": {
      "text/plain": [
       "['eeeel', 'Heeello', 'Voweels', 'Elephant', 'Kausach']"
      ]
     },
     "execution_count": 39,
     "metadata": {},
     "output_type": "execute_result"
    }
   ],
   "source": [
    "di = {list1[i].count(\"e\"):i for i in range(len(list1))}\n",
    "sorted_keys = sorted(di,reverse=True)\n",
    "emp = []\n",
    "for i in sorted_keys:\n",
    "    emp.append(list1[di[i]])\n",
    "emp"
   ]
  },
  {
   "cell_type": "code",
   "execution_count": null,
   "metadata": {},
   "outputs": [],
   "source": []
  },
  {
   "cell_type": "code",
   "execution_count": 41,
   "metadata": {
    "colab": {
     "base_uri": "https://localhost:8080/"
    },
    "id": "QAZYblD86EUm",
    "outputId": "fed5b991-b6e7-4ad7-91ce-0a9fb879fa1b"
   },
   "outputs": [
    {
     "data": {
      "text/plain": [
       "['eeeel', 'Heeello', 'Voweels', 'Elephant', 'Kausach']"
      ]
     },
     "execution_count": 41,
     "metadata": {},
     "output_type": "execute_result"
    }
   ],
   "source": [
    "list1 = [\"Heeello\", \"eeeel\", \"Voweels\", \"Kausach\", \"Elephant\" ]\n",
    "sorted(list1, key = lambda x: x.count('e'),reverse=True) # this is case sensitive"
   ]
  },
  {
   "cell_type": "code",
   "execution_count": 10,
   "metadata": {
    "colab": {
     "base_uri": "https://localhost:8080/"
    },
    "id": "t0qlNvll6gxd",
    "outputId": "ab480d8e-7aa4-4d84-bdde-7309ef8aa249"
   },
   "outputs": [
    {
     "data": {
      "text/plain": [
       "['Kausach', 'Voweels', 'Eleephant', 'Heeello', 'eeeel']"
      ]
     },
     "execution_count": 10,
     "metadata": {},
     "output_type": "execute_result"
    }
   ],
   "source": [
    "list1 = [\"Heeello\", \"eeeel\", \"Voweels\", \"Kausach\", \"Eleephant\" ] # in case of same count the original order would be maintained\n",
    "sorted(list1, key = lambda x: x.count('e')) # this is case sensitive"
   ]
  },
  {
   "cell_type": "code",
   "execution_count": null,
   "metadata": {
    "id": "pzspt4Yw7l6T"
   },
   "outputs": [],
   "source": []
  },
  {
   "cell_type": "markdown",
   "metadata": {
    "id": "54AgzAc_8hWq"
   },
   "source": [
    "# Convert given height to t-shirt size (Part I).\n",
    "```\n",
    "If height < 150 then M\n",
    "If height >= 150 then L\n",
    "Given input list heights\n",
    "heights = [145,155,170, 180,140]\n",
    "\n",
    "\n",
    "Expected Output: [ M,L,L, L,M]\n",
    "```\n",
    "\n"
   ]
  },
  {
   "cell_type": "code",
   "execution_count": 42,
   "metadata": {
    "colab": {
     "base_uri": "https://localhost:8080/"
    },
    "id": "dSSYWulR8s5m",
    "outputId": "fd8f5e21-20fe-4232-e5d3-422de5f65467"
   },
   "outputs": [
    {
     "name": "stdout",
     "output_type": "stream",
     "text": [
      "[('A', 1), ('B', 2), ('C', 3)]\n"
     ]
    }
   ],
   "source": [
    "list1 = [\"A\", \"B\", \"C\"]\n",
    "list2 = [1,2,3,4 ,5,6,7,8,9]\n",
    "print(list(zip(list1,list2 )))"
   ]
  },
  {
   "cell_type": "code",
   "execution_count": 43,
   "metadata": {
    "colab": {
     "base_uri": "https://localhost:8080/"
    },
    "id": "QvQYtxeo9KXE",
    "outputId": "f2e1dd8f-f799-408c-96f7-33bb9dd9a37c"
   },
   "outputs": [
    {
     "data": {
      "text/plain": [
       "[('A', 1, '!', 'k'), ('B', 2, '@', 1)]"
      ]
     },
     "execution_count": 43,
     "metadata": {},
     "output_type": "execute_result"
    }
   ],
   "source": [
    "list1 = [\"A\", \"B\", \"C\"] # length 3\n",
    "list2 = [1,2,3,4] # length 4\n",
    "list3 = [\"!\", \"@\", \"#\", \"$\", \"%\"] # length 5\n",
    "list4 = [\"k\", 1]\n",
    "list(zip(list1,list2 ,list3, list4))"
   ]
  },
  {
   "cell_type": "code",
   "execution_count": 44,
   "metadata": {
    "colab": {
     "base_uri": "https://localhost:8080/",
     "height": 204
    },
    "id": "Z-xwxXLO-2GW",
    "outputId": "e21b421f-0b30-4cf8-91c0-24790f31b65c"
   },
   "outputs": [
    {
     "ename": "TypeError",
     "evalue": "sum_number() takes 2 positional arguments but 3 were given",
     "output_type": "error",
     "traceback": [
      "\u001b[1;31m---------------------------------------------------------------------------\u001b[0m",
      "\u001b[1;31mTypeError\u001b[0m                                 Traceback (most recent call last)",
      "Cell \u001b[1;32mIn[44], line 3\u001b[0m\n\u001b[0;32m      1\u001b[0m \u001b[38;5;28;01mdef\u001b[39;00m \u001b[38;5;21msum_number\u001b[39m(a,b):\n\u001b[0;32m      2\u001b[0m     \u001b[38;5;28;01mreturn\u001b[39;00m a\u001b[38;5;241m+\u001b[39mb \n\u001b[1;32m----> 3\u001b[0m sum_number(\u001b[38;5;241m2\u001b[39m,\u001b[38;5;241m3\u001b[39m, \u001b[38;5;241m4\u001b[39m)\n",
      "\u001b[1;31mTypeError\u001b[0m: sum_number() takes 2 positional arguments but 3 were given"
     ]
    }
   ],
   "source": [
    "def sum_number(a,b):\n",
    "    return a+b \n",
    "sum_number(2,3, 4)"
   ]
  },
  {
   "cell_type": "markdown",
   "metadata": {
    "id": "bMZHiF_y_LW6"
   },
   "source": [
    "*args"
   ]
  },
  {
   "cell_type": "code",
   "execution_count": 46,
   "metadata": {
    "colab": {
     "base_uri": "https://localhost:8080/"
    },
    "id": "31pv38oD-caF",
    "outputId": "64b9cf43-d322-44cf-ee0f-61bae0489919",
    "scrolled": true
   },
   "outputs": [
    {
     "name": "stdout",
     "output_type": "stream",
     "text": [
      "(45, 6, 7, 8)\n"
     ]
    },
    {
     "data": {
      "text/plain": [
       "71"
      ]
     },
     "execution_count": 46,
     "metadata": {},
     "output_type": "execute_result"
    }
   ],
   "source": [
    "def sum_number(a,b,*args): # 2 mandatory and more argument\n",
    "    print(args)\n",
    "    result= a+b \n",
    "    for i in args: # result = result + sum(args)\n",
    "        result+=i\n",
    "    return result\n",
    "\n",
    "sum_number(2,3,45,6,7,8)"
   ]
  },
  {
   "cell_type": "code",
   "execution_count": null,
   "metadata": {
    "colab": {
     "base_uri": "https://localhost:8080/"
    },
    "id": "g7E-zjU7_P9C",
    "outputId": "69cf6815-e295-4a49-a670-ade721896c36"
   },
   "outputs": [
    {
     "name": "stdout",
     "output_type": "stream",
     "text": [
      "(4, 5, 6, 7, 8)\n"
     ]
    },
    {
     "data": {
      "text/plain": [
       "35"
      ]
     },
     "execution_count": 42,
     "metadata": {},
     "output_type": "execute_result"
    }
   ],
   "source": [
    "sum_number(2,3, 4 ,5,6,7,8) "
   ]
  },
  {
   "cell_type": "code",
   "execution_count": null,
   "metadata": {
    "colab": {
     "base_uri": "https://localhost:8080/"
    },
    "id": "ABD0BxXJ_Swv",
    "outputId": "82bf6b3c-8a74-4dbb-aea8-d2630775756d"
   },
   "outputs": [
    {
     "name": "stdout",
     "output_type": "stream",
     "text": [
      "()\n"
     ]
    },
    {
     "data": {
      "text/plain": [
       "5"
      ]
     },
     "execution_count": 43,
     "metadata": {},
     "output_type": "execute_result"
    }
   ],
   "source": [
    "sum_number(2,3) "
   ]
  },
  {
   "cell_type": "code",
   "execution_count": null,
   "metadata": {
    "colab": {
     "base_uri": "https://localhost:8080/"
    },
    "id": "4xC3U46R_qY-",
    "outputId": "6946c124-067d-4ad1-ada7-b33cbfc546ff"
   },
   "outputs": [
    {
     "name": "stdout",
     "output_type": "stream",
     "text": [
      "(4,)\n"
     ]
    },
    {
     "data": {
      "text/plain": [
       "9"
      ]
     },
     "execution_count": 44,
     "metadata": {},
     "output_type": "execute_result"
    }
   ],
   "source": [
    "def sum_number(a,b, *anyrandomname): # 2 mandatory and more argument\n",
    "    print(anyrandomname)\n",
    "    result= a+b \n",
    "    for i in anyrandomname: # result = result + sum(args)\n",
    "        result+=i\n",
    "    return result\n",
    "\n",
    "sum_number(2,3, 4)"
   ]
  },
  {
   "cell_type": "code",
   "execution_count": null,
   "metadata": {
    "colab": {
     "base_uri": "https://localhost:8080/",
     "height": 168
    },
    "id": "lgv8DcdjBKuh",
    "outputId": "79222c93-3096-4b78-d39b-67ed23644861"
   },
   "outputs": [
    {
     "ename": "TypeError",
     "evalue": "ignored",
     "output_type": "error",
     "traceback": [
      "\u001b[0;31m---------------------------------------------------------------------------\u001b[0m",
      "\u001b[0;31mTypeError\u001b[0m                                 Traceback (most recent call last)",
      "\u001b[0;32m<ipython-input-45-a47820582129>\u001b[0m in \u001b[0;36m<module>\u001b[0;34m\u001b[0m\n\u001b[0;32m----> 1\u001b[0;31m \u001b[0msum_number\u001b[0m\u001b[0;34m(\u001b[0m\u001b[0;36m2\u001b[0m\u001b[0;34m)\u001b[0m\u001b[0;34m\u001b[0m\u001b[0;34m\u001b[0m\u001b[0m\n\u001b[0m",
      "\u001b[0;31mTypeError\u001b[0m: sum_number() missing 1 required positional argument: 'b'"
     ]
    }
   ],
   "source": [
    "sum_number(2)"
   ]
  },
  {
   "cell_type": "code",
   "execution_count": null,
   "metadata": {
    "colab": {
     "base_uri": "https://localhost:8080/",
     "height": 345
    },
    "id": "bKbIEFkQBUq5",
    "outputId": "cbfd0883-557d-498f-a5c5-32c5edb0ee1c"
   },
   "outputs": [
    {
     "name": "stdout",
     "output_type": "stream",
     "text": [
      "(3, 4)\n"
     ]
    },
    {
     "ename": "NameError",
     "evalue": "ignored",
     "output_type": "error",
     "traceback": [
      "\u001b[0;31m---------------------------------------------------------------------------\u001b[0m",
      "\u001b[0;31mNameError\u001b[0m                                 Traceback (most recent call last)",
      "\u001b[0;32m<ipython-input-46-06075409685f>\u001b[0m in \u001b[0;36m<module>\u001b[0;34m\u001b[0m\n\u001b[1;32m      6\u001b[0m     \u001b[0;32mreturn\u001b[0m \u001b[0mresult\u001b[0m\u001b[0;34m\u001b[0m\u001b[0;34m\u001b[0m\u001b[0m\n\u001b[1;32m      7\u001b[0m \u001b[0;34m\u001b[0m\u001b[0m\n\u001b[0;32m----> 8\u001b[0;31m \u001b[0msum_number\u001b[0m\u001b[0;34m(\u001b[0m\u001b[0;36m2\u001b[0m\u001b[0;34m,\u001b[0m\u001b[0;36m3\u001b[0m\u001b[0;34m,\u001b[0m \u001b[0;36m4\u001b[0m\u001b[0;34m)\u001b[0m\u001b[0;34m\u001b[0m\u001b[0;34m\u001b[0m\u001b[0m\n\u001b[0m",
      "\u001b[0;32m<ipython-input-46-06075409685f>\u001b[0m in \u001b[0;36msum_number\u001b[0;34m(a, *anyrandomname)\u001b[0m\n\u001b[1;32m      1\u001b[0m \u001b[0;32mdef\u001b[0m \u001b[0msum_number\u001b[0m\u001b[0;34m(\u001b[0m\u001b[0ma\u001b[0m\u001b[0;34m,\u001b[0m \u001b[0;34m*\u001b[0m\u001b[0manyrandomname\u001b[0m\u001b[0;34m)\u001b[0m\u001b[0;34m:\u001b[0m \u001b[0;31m# 2 mandatory and more argument\u001b[0m\u001b[0;34m\u001b[0m\u001b[0;34m\u001b[0m\u001b[0m\n\u001b[1;32m      2\u001b[0m     \u001b[0mprint\u001b[0m\u001b[0;34m(\u001b[0m\u001b[0manyrandomname\u001b[0m\u001b[0;34m)\u001b[0m\u001b[0;34m\u001b[0m\u001b[0;34m\u001b[0m\u001b[0m\n\u001b[0;32m----> 3\u001b[0;31m     \u001b[0mresult\u001b[0m\u001b[0;34m=\u001b[0m \u001b[0ma\u001b[0m\u001b[0;34m+\u001b[0m\u001b[0mb\u001b[0m\u001b[0;34m\u001b[0m\u001b[0;34m\u001b[0m\u001b[0m\n\u001b[0m\u001b[1;32m      4\u001b[0m     \u001b[0;32mfor\u001b[0m \u001b[0mi\u001b[0m \u001b[0;32min\u001b[0m \u001b[0manyrandomname\u001b[0m\u001b[0;34m:\u001b[0m \u001b[0;31m# result = result + sum(args)\u001b[0m\u001b[0;34m\u001b[0m\u001b[0;34m\u001b[0m\u001b[0m\n\u001b[1;32m      5\u001b[0m         \u001b[0mresult\u001b[0m\u001b[0;34m+=\u001b[0m\u001b[0mi\u001b[0m\u001b[0;34m\u001b[0m\u001b[0;34m\u001b[0m\u001b[0m\n",
      "\u001b[0;31mNameError\u001b[0m: name 'b' is not defined"
     ]
    }
   ],
   "source": [
    "def sum_number(a, *anyrandomname): # 2 mandatory and more argument\n",
    "    print(anyrandomname)\n",
    "    result= a+b \n",
    "    for i in anyrandomname: # result = result + sum(args)\n",
    "        result+=i\n",
    "    return result\n",
    "\n",
    "sum_number(2,3, 4)"
   ]
  },
  {
   "cell_type": "markdown",
   "metadata": {
    "id": "9HQmstg4BigG"
   },
   "source": [
    "anyrandomname-> 3,4"
   ]
  },
  {
   "cell_type": "markdown",
   "metadata": {
    "id": "zaauRsjECAr-"
   },
   "source": [
    "**kwargs"
   ]
  },
  {
   "cell_type": "code",
   "execution_count": 47,
   "metadata": {
    "colab": {
     "base_uri": "https://localhost:8080/"
    },
    "id": "iSQWpQ9wCCsl",
    "outputId": "71743c7a-d854-407c-bc99-9ff41a0cb911"
   },
   "outputs": [
    {
     "data": {
      "text/plain": [
       "{'name': 'Casa', 'id': 101}"
      ]
     },
     "execution_count": 47,
     "metadata": {},
     "output_type": "execute_result"
    }
   ],
   "source": [
    "def update_person_info(name, id):\n",
    "    dict1 = {\"name\":name,\n",
    "             \"id\":id}\n",
    "    return dict1\n",
    "update_person_info(\"Casa\", 101)"
   ]
  },
  {
   "cell_type": "code",
   "execution_count": 48,
   "metadata": {
    "colab": {
     "base_uri": "https://localhost:8080/"
    },
    "id": "X2iT7TZFCQ0H",
    "outputId": "ef882c7c-2e8c-4568-f1c8-b836169def15"
   },
   "outputs": [
    {
     "data": {
      "text/plain": [
       "{'name': 'Casa', 'id': 101, 'Gender': 'M'}"
      ]
     },
     "execution_count": 48,
     "metadata": {},
     "output_type": "execute_result"
    }
   ],
   "source": [
    "def update_person_info(name, id , gender):\n",
    "    dict1 = {\"name\":name,\n",
    "             \"id\":id,\n",
    "             \"Gender\":gender}\n",
    "    return dict1\n",
    "update_person_info(\"Casa\", 101, \"M\")"
   ]
  },
  {
   "cell_type": "code",
   "execution_count": 49,
   "metadata": {
    "colab": {
     "base_uri": "https://localhost:8080/"
    },
    "id": "8uRdnVj5Cbax",
    "outputId": "2ffafe1b-f9a8-4c92-d84e-056f69aa5321"
   },
   "outputs": [
    {
     "data": {
      "text/plain": [
       "{'name': 'Casa', 'id': 101}"
      ]
     },
     "execution_count": 49,
     "metadata": {},
     "output_type": "execute_result"
    }
   ],
   "source": [
    "def update_person_info(name, id , **kwargs):\n",
    "    # print(kwargs)\n",
    "    dict1 = {\"name\":name,\n",
    "             \"id\":id}\n",
    "    dict1.update(kwargs)\n",
    "    return dict1\n",
    "update_person_info(\"Casa\", 101)"
   ]
  },
  {
   "cell_type": "code",
   "execution_count": 22,
   "metadata": {
    "colab": {
     "base_uri": "https://localhost:8080/"
    },
    "id": "qGkmEWMXCqwF",
    "outputId": "79899e1b-e706-4f43-840b-a5dbdea5768d"
   },
   "outputs": [
    {
     "data": {
      "text/plain": [
       "{'gender': 'name', 'Hobby': 'id'}"
      ]
     },
     "execution_count": 22,
     "metadata": {},
     "output_type": "execute_result"
    }
   ],
   "source": [
    "dict(zip({'gender': 'M', 'Hobby': 'Cricket'} , {'name': 'Casa', 'id': 101})) # no zip\n"
   ]
  },
  {
   "cell_type": "code",
   "execution_count": null,
   "metadata": {
    "colab": {
     "base_uri": "https://localhost:8080/"
    },
    "id": "B_ctCZ5SC5oK",
    "outputId": "93ecc60b-cb3c-4293-9071-92aaebf4a61d"
   },
   "outputs": [
    {
     "data": {
      "text/plain": [
       "{'name': 'Casa', 'id': 101}"
      ]
     },
     "execution_count": 56,
     "metadata": {},
     "output_type": "execute_result"
    }
   ],
   "source": [
    "update_person_info(\"Casa\", 101)"
   ]
  },
  {
   "cell_type": "code",
   "execution_count": 50,
   "metadata": {
    "colab": {
     "base_uri": "https://localhost:8080/"
    },
    "id": "0VSVHYegDUo4",
    "outputId": "9a226d4c-d7c5-4a56-c1d2-bc7f5e7fe341"
   },
   "outputs": [
    {
     "data": {
      "text/plain": [
       "{'name': 'Casa', 'id': 101, 'gender': 'M'}"
      ]
     },
     "execution_count": 50,
     "metadata": {},
     "output_type": "execute_result"
    }
   ],
   "source": [
    "update_person_info(\"Casa\", 101, gender = \"M\")"
   ]
  },
  {
   "cell_type": "code",
   "execution_count": 51,
   "metadata": {
    "colab": {
     "base_uri": "https://localhost:8080/"
    },
    "id": "RKbfGlzNDYpy",
    "outputId": "ec6ef896-f6b7-42ef-a8d3-769c0a7e37b6"
   },
   "outputs": [
    {
     "data": {
      "text/plain": [
       "{'name': 'Casa',\n",
       " 'id': 101,\n",
       " 'gender': 'M',\n",
       " 'office': 'Amazon',\n",
       " 'batch': 'Nov22'}"
      ]
     },
     "execution_count": 51,
     "metadata": {},
     "output_type": "execute_result"
    }
   ],
   "source": [
    "update_person_info(\"Casa\", 101, gender = \"M\" , office = \"Amazon\", batch = \"Nov22\")"
   ]
  },
  {
   "cell_type": "code",
   "execution_count": 53,
   "metadata": {
    "colab": {
     "base_uri": "https://localhost:8080/"
    },
    "id": "4MrpUCiCDgRc",
    "outputId": "12aef50d-ad8e-4d66-8683-93456709c4ee"
   },
   "outputs": [
    {
     "name": "stdout",
     "output_type": "stream",
     "text": [
      "(1, 2, 4)\n",
      "{'gender': 'M', 'Hobby': ('reading', 'Cricket')}\n"
     ]
    },
    {
     "data": {
      "text/plain": [
       "{'name': 'Casa', 'id': 101, 'gender': 'M', 'Hobby': ('reading', 'Cricket')}"
      ]
     },
     "execution_count": 53,
     "metadata": {},
     "output_type": "execute_result"
    }
   ],
   "source": [
    "def update_person_info(name, id , *args,**kwargs ):\n",
    "    print(args)\n",
    "    print(kwargs)\n",
    "    dict1 = {\"name\":name,\n",
    "             \"id\":id}\n",
    "    dict1.update(kwargs)\n",
    "    return dict1\n",
    "\n",
    "update_person_info(\"Casa\", 101, 1,2,4, gender = \"M\", Hobby= (\"reading\", \"Cricket\"))"
   ]
  },
  {
   "cell_type": "markdown",
   "metadata": {
    "id": "C2UqBRRsE9pu"
   },
   "source": [
    "Order :  Positoional->args->kwargs"
   ]
  },
  {
   "cell_type": "code",
   "execution_count": null,
   "metadata": {
    "colab": {
     "base_uri": "https://localhost:8080/",
     "height": 133
    },
    "id": "u8U0xd0vEWFC",
    "outputId": "561c338b-e5ca-4d90-e3f1-30f31dcacd8a"
   },
   "outputs": [
    {
     "ename": "SyntaxError",
     "evalue": "ignored",
     "output_type": "error",
     "traceback": [
      "\u001b[0;36m  File \u001b[0;32m\"<ipython-input-69-41fc2090d6e1>\"\u001b[0;36m, line \u001b[0;32m1\u001b[0m\n\u001b[0;31m    def update_person_info(name, id , **kwargs, *args):\u001b[0m\n\u001b[0m                                                ^\u001b[0m\n\u001b[0;31mSyntaxError\u001b[0m\u001b[0;31m:\u001b[0m invalid syntax\n"
     ]
    }
   ],
   "source": [
    "def update_person_info(name, id , **kwargs, *args):\n",
    "    print(args)\n",
    "    print(kwargs)\n",
    "    dict1 = {\"name\":name,\n",
    "             \"id\":id}\n",
    "    dict1.update(kwargs)\n",
    "    return dict1"
   ]
  },
  {
   "cell_type": "code",
   "execution_count": 55,
   "metadata": {
    "colab": {
     "base_uri": "https://localhost:8080/"
    },
    "id": "zPS4eddjFRPx",
    "outputId": "4baf2a58-2c69-4d7b-b351-7220bf8d6ea6"
   },
   "outputs": [
    {
     "name": "stdout",
     "output_type": "stream",
     "text": [
      "[(1, 'A'), (2, 'B'), (3, 'C')]\n"
     ]
    }
   ],
   "source": [
    "list1 = [1,2,3]\n",
    "list2 = [\"A\", \"B\", \"C\", \"D\"] \n",
    "\n",
    "out= list(zip(list1, list2))\n",
    "print(out)"
   ]
  },
  {
   "cell_type": "code",
   "execution_count": 57,
   "metadata": {
    "colab": {
     "base_uri": "https://localhost:8080/"
    },
    "id": "1geiKol1IJ72",
    "outputId": "ca7f67a3-cbd7-4091-dc09-3e1164a0a0b7"
   },
   "outputs": [
    {
     "name": "stdout",
     "output_type": "stream",
     "text": [
      "[[1, 'A'], [2, 'B'], [3, 'C']]\n"
     ]
    }
   ],
   "source": [
    "out=  list(map(list, (zip(list1, list2))))\n",
    "print(out)"
   ]
  },
  {
   "cell_type": "code",
   "execution_count": 58,
   "metadata": {
    "colab": {
     "base_uri": "https://localhost:8080/"
    },
    "id": "A6zwbmjqGfRe",
    "outputId": "899dce34-6d55-4dd5-ac87-ad956a783d28"
   },
   "outputs": [
    {
     "data": {
      "text/plain": [
       "[(1, 2, 3), ('A', 'B', 'C')]"
      ]
     },
     "execution_count": 58,
     "metadata": {},
     "output_type": "execute_result"
    }
   ],
   "source": [
    "list(zip(*out)) # to unzip add a star in front of zipped output"
   ]
  },
  {
   "cell_type": "code",
   "execution_count": 59,
   "metadata": {
    "colab": {
     "base_uri": "https://localhost:8080/"
    },
    "id": "mAWc-xRgGh4_",
    "outputId": "78d6482f-aa8a-4765-d88f-a7f3c7541613"
   },
   "outputs": [
    {
     "name": "stdout",
     "output_type": "stream",
     "text": [
      "[1, 2, 3]\n",
      "['A', 'B', 'C']\n"
     ]
    }
   ],
   "source": [
    "list1 , list2 = list(zip(*out)) \n",
    "print(list(list1))\n",
    "print(list(list2))"
   ]
  },
  {
   "cell_type": "code",
   "execution_count": 60,
   "metadata": {
    "id": "bbYkO0gnH_H-"
   },
   "outputs": [
    {
     "name": "stdout",
     "output_type": "stream",
     "text": [
      "9\n"
     ]
    }
   ],
   "source": [
    "def add(a,b):\n",
    "    return (a+b)\n",
    "print(add(5,4))"
   ]
  },
  {
   "cell_type": "markdown",
   "metadata": {
    "id": "H-Nxwlu3Inpa"
   },
   "source": [
    "### Higher Order Functions:"
   ]
  },
  {
   "cell_type": "code",
   "execution_count": 74,
   "metadata": {
    "colab": {
     "base_uri": "https://localhost:8080/"
    },
    "id": "3U7WOod7IpVl",
    "outputId": "4245bbe3-acd5-4401-999c-3e91afe5ad9b"
   },
   "outputs": [
    {
     "ename": "AttributeError",
     "evalue": "'function' object has no attribute 'func2'",
     "output_type": "error",
     "traceback": [
      "\u001b[1;31m---------------------------------------------------------------------------\u001b[0m",
      "\u001b[1;31mAttributeError\u001b[0m                            Traceback (most recent call last)",
      "Cell \u001b[1;32mIn[74], line 4\u001b[0m\n\u001b[0;32m      2\u001b[0m     \u001b[38;5;28;01mdef\u001b[39;00m \u001b[38;5;21mfunc2\u001b[39m():\n\u001b[0;32m      3\u001b[0m         \u001b[38;5;28;01mreturn\u001b[39;00m \u001b[38;5;241m10\u001b[39m\n\u001b[1;32m----> 4\u001b[0m function\u001b[38;5;241m.\u001b[39mfunc2()\n",
      "\u001b[1;31mAttributeError\u001b[0m: 'function' object has no attribute 'func2'"
     ]
    }
   ],
   "source": [
    "def function():\n",
    "    def func2():\n",
    "        return 10\n",
    "    return func2()\n",
    "function.func2()\n",
    "\n",
    "# no the function is not HOF"
   ]
  },
  {
   "cell_type": "code",
   "execution_count": 69,
   "metadata": {},
   "outputs": [
    {
     "name": "stdout",
     "output_type": "stream",
     "text": [
      "None\n"
     ]
    }
   ],
   "source": [
    "print(b)"
   ]
  },
  {
   "cell_type": "code",
   "execution_count": 80,
   "metadata": {
    "colab": {
     "base_uri": "https://localhost:8080/"
    },
    "id": "HdAZ_PixKzVL",
    "outputId": "48349634-753d-42e4-bb98-9edc71df38bb"
   },
   "outputs": [
    {
     "data": {
      "text/plain": [
       "<function __main__.function.<locals>.func2()>"
      ]
     },
     "execution_count": 80,
     "metadata": {},
     "output_type": "execute_result"
    }
   ],
   "source": [
    "def function():\n",
    "    def func2():\n",
    "        return 2\n",
    "    return func2\n",
    "a = function()\n",
    "a\n",
    "# no the function is not HOF"
   ]
  },
  {
   "cell_type": "code",
   "execution_count": 81,
   "metadata": {
    "colab": {
     "base_uri": "https://localhost:8080/"
    },
    "id": "fU1CFw82K-Y3",
    "outputId": "79dd343f-34c6-4234-b7f5-dfe23ecdca6a"
   },
   "outputs": [
    {
     "name": "stdout",
     "output_type": "stream",
     "text": [
      "<class 'function'>\n"
     ]
    }
   ],
   "source": [
    "print(type(a))"
   ]
  },
  {
   "cell_type": "code",
   "execution_count": 41,
   "metadata": {
    "colab": {
     "base_uri": "https://localhost:8080/"
    },
    "id": "DN8gt6pLLC_o",
    "outputId": "12dabba5-c1ac-4d74-e909-01b585ab6c76"
   },
   "outputs": [
    {
     "name": "stdout",
     "output_type": "stream",
     "text": [
      "2\n"
     ]
    }
   ],
   "source": [
    "def function():\n",
    "    def func2():\n",
    "        return 2\n",
    "    return func2\n",
    "a = function()\n",
    "print(a())\n",
    "# Yes the function is not HOF"
   ]
  },
  {
   "cell_type": "code",
   "execution_count": 83,
   "metadata": {
    "colab": {
     "base_uri": "https://localhost:8080/"
    },
    "id": "JOykC2KULJor",
    "outputId": "8e3b5694-d214-466b-f28a-35300f20525c"
   },
   "outputs": [
    {
     "name": "stdout",
     "output_type": "stream",
     "text": [
      "<class 'function'>\n"
     ]
    }
   ],
   "source": [
    "print(type(a))"
   ]
  },
  {
   "cell_type": "code",
   "execution_count": null,
   "metadata": {
    "colab": {
     "base_uri": "https://localhost:8080/"
    },
    "id": "ixIG24_1LMCb",
    "outputId": "13aba4cf-a14e-4e59-8372-36704657243a"
   },
   "outputs": [
    {
     "data": {
      "text/plain": [
       "2"
      ]
     },
     "execution_count": 86,
     "metadata": {},
     "output_type": "execute_result"
    }
   ],
   "source": [
    "a()"
   ]
  },
  {
   "cell_type": "code",
   "execution_count": null,
   "metadata": {
    "colab": {
     "base_uri": "https://localhost:8080/"
    },
    "id": "bDhRarApLSoZ",
    "outputId": "cde2e903-57ff-40fd-f18f-ff311fb26fc9"
   },
   "outputs": [
    {
     "data": {
      "text/plain": [
       "2"
      ]
     },
     "execution_count": 87,
     "metadata": {},
     "output_type": "execute_result"
    }
   ],
   "source": [
    "a()"
   ]
  },
  {
   "cell_type": "markdown",
   "metadata": {
    "id": "XdPC7_dgLrtE"
   },
   "source": [
    "- Use case of HOF"
   ]
  },
  {
   "cell_type": "code",
   "execution_count": 84,
   "metadata": {
    "colab": {
     "base_uri": "https://localhost:8080/"
    },
    "id": "HHCiRrf_LdGW",
    "outputId": "021f3d69-d4e8-47fb-b68e-21ad268f2338"
   },
   "outputs": [
    {
     "data": {
      "text/plain": [
       "32"
      ]
     },
     "execution_count": 84,
     "metadata": {},
     "output_type": "execute_result"
    }
   ],
   "source": [
    "def exp_5(x):\n",
    "    return x**5\n",
    "exp_5(2)"
   ]
  },
  {
   "cell_type": "code",
   "execution_count": 85,
   "metadata": {
    "colab": {
     "base_uri": "https://localhost:8080/"
    },
    "id": "W2MOr-U5Lqlo",
    "outputId": "9ea7fdd7-7acd-4b9e-f9e0-2543d02de436"
   },
   "outputs": [
    {
     "data": {
      "text/plain": [
       "243"
      ]
     },
     "execution_count": 85,
     "metadata": {},
     "output_type": "execute_result"
    }
   ],
   "source": [
    "exp_5(3)"
   ]
  },
  {
   "cell_type": "code",
   "execution_count": 86,
   "metadata": {
    "colab": {
     "base_uri": "https://localhost:8080/"
    },
    "id": "6E23PIF3L0ml",
    "outputId": "fb278054-182d-419d-8890-9b3f96945830"
   },
   "outputs": [
    {
     "data": {
      "text/plain": [
       "16"
      ]
     },
     "execution_count": 86,
     "metadata": {},
     "output_type": "execute_result"
    }
   ],
   "source": [
    "def exp_4(x):\n",
    "    return x**4\n",
    "exp_4(2)"
   ]
  },
  {
   "cell_type": "code",
   "execution_count": 46,
   "metadata": {
    "colab": {
     "base_uri": "https://localhost:8080/"
    },
    "id": "nLVrZ1r2L-gX",
    "outputId": "bff2b234-291d-4e95-d982-2e7c083a383f"
   },
   "outputs": [
    {
     "data": {
      "text/plain": [
       "81"
      ]
     },
     "execution_count": 46,
     "metadata": {},
     "output_type": "execute_result"
    }
   ],
   "source": [
    "def exp_4(x):\n",
    "    return x**4\n",
    "exp_4(3)"
   ]
  },
  {
   "cell_type": "code",
   "execution_count": 47,
   "metadata": {
    "colab": {
     "base_uri": "https://localhost:8080/"
    },
    "id": "wXnZrVgcMIy5",
    "outputId": "b61e9bdd-ffaf-4876-f2b2-d3c07cc02cc0"
   },
   "outputs": [
    {
     "data": {
      "text/plain": [
       "32"
      ]
     },
     "execution_count": 47,
     "metadata": {},
     "output_type": "execute_result"
    }
   ],
   "source": [
    "def exp_x_y(x, y):\n",
    "    return x**y\n",
    "exp_x_y(2, 5)"
   ]
  },
  {
   "cell_type": "markdown",
   "metadata": {
    "id": "ydzK1F9cMTZZ"
   },
   "source": [
    "HOF Methods"
   ]
  },
  {
   "cell_type": "code",
   "execution_count": 87,
   "metadata": {
    "id": "DqtwhYs4MAaw"
   },
   "outputs": [],
   "source": [
    "def gen_exp(y):\n",
    "    def exp(x):\n",
    "        return x**y\n",
    "    return exp \n",
    "exp_5 = gen_exp(5)"
   ]
  },
  {
   "cell_type": "code",
   "execution_count": null,
   "metadata": {
    "id": "-Y9i2OeFNV-U"
   },
   "outputs": [],
   "source": []
  },
  {
   "cell_type": "code",
   "execution_count": 88,
   "metadata": {
    "colab": {
     "base_uri": "https://localhost:8080/"
    },
    "id": "xFUcjV-4Mrg2",
    "outputId": "005e51ec-1b4a-4c20-fe51-7a52f515488e"
   },
   "outputs": [
    {
     "data": {
      "text/plain": [
       "function"
      ]
     },
     "execution_count": 88,
     "metadata": {},
     "output_type": "execute_result"
    }
   ],
   "source": [
    "type(exp_5)"
   ]
  },
  {
   "cell_type": "code",
   "execution_count": 90,
   "metadata": {
    "colab": {
     "base_uri": "https://localhost:8080/"
    },
    "id": "GjR23DJfMujb",
    "outputId": "752ecde3-b47f-4596-9a94-20cd784b621f"
   },
   "outputs": [
    {
     "data": {
      "text/plain": [
       "32"
      ]
     },
     "execution_count": 90,
     "metadata": {},
     "output_type": "execute_result"
    }
   ],
   "source": [
    "exp_5(2)"
   ]
  },
  {
   "cell_type": "code",
   "execution_count": 91,
   "metadata": {
    "colab": {
     "base_uri": "https://localhost:8080/"
    },
    "id": "-0gwTL4mMw1K",
    "outputId": "d83c301c-c76b-4806-fabe-9da27310b10a"
   },
   "outputs": [
    {
     "data": {
      "text/plain": [
       "243"
      ]
     },
     "execution_count": 91,
     "metadata": {},
     "output_type": "execute_result"
    }
   ],
   "source": [
    "exp_5(3)"
   ]
  },
  {
   "cell_type": "code",
   "execution_count": null,
   "metadata": {
    "id": "VbhMym1cMy8P"
   },
   "outputs": [],
   "source": [
    "exp_4 = gen_exp(4)"
   ]
  },
  {
   "cell_type": "code",
   "execution_count": 92,
   "metadata": {
    "colab": {
     "base_uri": "https://localhost:8080/"
    },
    "id": "jySipXP5M4Wq",
    "outputId": "f8e1e353-4e0c-4ee5-f98c-f5750770eded"
   },
   "outputs": [
    {
     "data": {
      "text/plain": [
       "16"
      ]
     },
     "execution_count": 92,
     "metadata": {},
     "output_type": "execute_result"
    }
   ],
   "source": [
    "exp_4(2)"
   ]
  },
  {
   "cell_type": "code",
   "execution_count": 51,
   "metadata": {
    "colab": {
     "base_uri": "https://localhost:8080/"
    },
    "id": "IenaXuRDM6Pd",
    "outputId": "c8b9c596-b360-4ef6-b0bc-da9b7be1691e"
   },
   "outputs": [
    {
     "data": {
      "text/plain": [
       "81"
      ]
     },
     "execution_count": 51,
     "metadata": {},
     "output_type": "execute_result"
    }
   ],
   "source": [
    "exp_4(3)"
   ]
  },
  {
   "cell_type": "code",
   "execution_count": null,
   "metadata": {
    "id": "X72Do6-QM7m_"
   },
   "outputs": [],
   "source": [
    "exp_4()"
   ]
  },
  {
   "cell_type": "markdown",
   "metadata": {
    "id": "kIQhpjshPozk"
   },
   "source": [
    "Use-case of Decorator:"
   ]
  },
  {
   "cell_type": "code",
   "execution_count": 104,
   "metadata": {
    "id": "SV0N5B6YPrDH"
   },
   "outputs": [],
   "source": [
    "def foo():\n",
    "    print(\"hey Everyone! How are you Doing?\")\n",
    "\n",
    "def bar():\n",
    "    print(\"We are doing good, How about You?\")"
   ]
  },
  {
   "cell_type": "code",
   "execution_count": 94,
   "metadata": {
    "colab": {
     "base_uri": "https://localhost:8080/"
    },
    "id": "GakRJZAVP52f",
    "outputId": "7d86cc51-d813-4d39-b304-000e36ab7626"
   },
   "outputs": [
    {
     "name": "stdout",
     "output_type": "stream",
     "text": [
      "hey Everyone! How are you Doing?\n"
     ]
    }
   ],
   "source": [
    "foo()"
   ]
  },
  {
   "cell_type": "code",
   "execution_count": 95,
   "metadata": {
    "colab": {
     "base_uri": "https://localhost:8080/"
    },
    "id": "w5cEkfBGP8g1",
    "outputId": "78381d99-fd5e-42cb-ef28-f65c3a0b8885"
   },
   "outputs": [
    {
     "name": "stdout",
     "output_type": "stream",
     "text": [
      "We are doing good, How about You?\n"
     ]
    }
   ],
   "source": [
    "bar()"
   ]
  },
  {
   "cell_type": "code",
   "execution_count": 96,
   "metadata": {},
   "outputs": [
    {
     "data": {
      "text/plain": [
       "'--'"
      ]
     },
     "execution_count": 96,
     "metadata": {},
     "output_type": "execute_result"
    }
   ],
   "source": [
    "\"-\"*2"
   ]
  },
  {
   "cell_type": "code",
   "execution_count": 97,
   "metadata": {
    "colab": {
     "base_uri": "https://localhost:8080/"
    },
    "id": "EsethaVMP-En",
    "outputId": "36d293b6-f3a6-494e-d713-a15d38c5573b"
   },
   "outputs": [
    {
     "name": "stdout",
     "output_type": "stream",
     "text": [
      "--------------------------------------------------\n",
      "hey Everyone! How are you Doing?\n",
      "--------------------------------------------------\n"
     ]
    }
   ],
   "source": [
    "def foo():\n",
    "    print(\"-\"*50)\n",
    "    print(\"hey Everyone! How are you Doing?\")\n",
    "    print(\"-\"*50)\n",
    "foo()"
   ]
  },
  {
   "cell_type": "code",
   "execution_count": 98,
   "metadata": {
    "colab": {
     "base_uri": "https://localhost:8080/"
    },
    "id": "Q9tNRC5EQHPs",
    "outputId": "bebd9cdd-5c44-4805-e43f-21e0d9d86e43"
   },
   "outputs": [
    {
     "name": "stdout",
     "output_type": "stream",
     "text": [
      "--------------------------------------------------\n",
      "We are doing good, How about You?\n",
      "--------------------------------------------------\n"
     ]
    }
   ],
   "source": [
    "\n",
    "def bar():\n",
    "    print(\"-\"*50)\n",
    "    print(\"We are doing good, How about You?\")\n",
    "    print(\"-\"*50)\n",
    "bar()"
   ]
  },
  {
   "cell_type": "code",
   "execution_count": 66,
   "metadata": {
    "id": "7SCSACRsQR6r"
   },
   "outputs": [],
   "source": [
    "def foo():\n",
    "    a = 50\n",
    "    b = 5\n",
    "    print(a-b)\n",
    "\n",
    "def bar():\n",
    "    print(\"We are doing good, How about You?\")"
   ]
  },
  {
   "cell_type": "code",
   "execution_count": 105,
   "metadata": {
    "colab": {
     "base_uri": "https://localhost:8080/"
    },
    "id": "5SZX8_ybQjoT",
    "outputId": "d3062c5d-7c20-4b53-d670-1eccf82eb824"
   },
   "outputs": [
    {
     "name": "stdout",
     "output_type": "stream",
     "text": [
      "hey Everyone! How are you Doing?\n"
     ]
    }
   ],
   "source": [
    "foo()\n"
   ]
  },
  {
   "cell_type": "code",
   "execution_count": 107,
   "metadata": {
    "id": "2IYOff04QlqH"
   },
   "outputs": [],
   "source": [
    "def pretty(func): # accepts function as argument\n",
    "    def inner():\n",
    "        print(\"-\"*50)\n",
    "        func() # -- > foo()\n",
    "        print(\"-\"*50)\n",
    "    return inner\n",
    "# is this an HOF : Yes\n",
    "new_foo = pretty(foo)\n",
    "# is this a decorator?: func is storing foo which is a function so yes it's a decorator"
   ]
  },
  {
   "cell_type": "code",
   "execution_count": 108,
   "metadata": {
    "colab": {
     "base_uri": "https://localhost:8080/"
    },
    "id": "K_e0ZPhrRjdE",
    "outputId": "9733b7a7-92d2-4657-cd5f-c883e9f88b9d"
   },
   "outputs": [
    {
     "data": {
      "text/plain": [
       "function"
      ]
     },
     "execution_count": 108,
     "metadata": {},
     "output_type": "execute_result"
    }
   ],
   "source": [
    "type(new_foo)"
   ]
  },
  {
   "cell_type": "code",
   "execution_count": 109,
   "metadata": {
    "colab": {
     "base_uri": "https://localhost:8080/"
    },
    "id": "MjnByBziRlnv",
    "outputId": "5a869fbc-ed61-445a-c6c0-d861ea356cb5"
   },
   "outputs": [
    {
     "name": "stdout",
     "output_type": "stream",
     "text": [
      "--------------------------------------------------\n",
      "hey Everyone! How are you Doing?\n",
      "--------------------------------------------------\n"
     ]
    }
   ],
   "source": [
    "new_foo()"
   ]
  },
  {
   "cell_type": "code",
   "execution_count": 110,
   "metadata": {
    "colab": {
     "base_uri": "https://localhost:8080/"
    },
    "id": "bL6W9N5ERn0I",
    "outputId": "631ae757-0852-48ce-e035-3b4f1ba020bf"
   },
   "outputs": [
    {
     "name": "stdout",
     "output_type": "stream",
     "text": [
      "--------------------------------------------------\n",
      "We are doing good, How about You?\n",
      "--------------------------------------------------\n"
     ]
    }
   ],
   "source": [
    "bar = pretty(bar)\n",
    "bar()"
   ]
  },
  {
   "cell_type": "code",
   "execution_count": null,
   "metadata": {
    "colab": {
     "base_uri": "https://localhost:8080/"
    },
    "id": "L_yMqzFgR26j",
    "outputId": "8ac284f1-e703-4d8e-e4b8-54bcd6fab6e5"
   },
   "outputs": [
    {
     "name": "stdout",
     "output_type": "stream",
     "text": [
      "--------------------------------------------------\n",
      "hey Everyone! How are you Doing?\n",
      "--------------------------------------------------\n"
     ]
    }
   ],
   "source": [
    "pretty(foo)()"
   ]
  },
  {
   "cell_type": "code",
   "execution_count": 118,
   "metadata": {},
   "outputs": [],
   "source": [
    "def pretty(func): # accepts function as argument\n",
    "    def inner():\n",
    "        print(\"-\"*50)\n",
    "        func() # -- > foo()\n",
    "        print(\"-\"*50)\n",
    "    return inner"
   ]
  },
  {
   "cell_type": "code",
   "execution_count": 115,
   "metadata": {
    "colab": {
     "base_uri": "https://localhost:8080/"
    },
    "id": "iC0Ys9rRSUoo",
    "outputId": "4667ecb3-59a2-417b-fa94-039ee668ca49"
   },
   "outputs": [],
   "source": [
    "@pretty # @decoratorname\n",
    "def surprise():\n",
    "    return 200"
   ]
  },
  {
   "cell_type": "code",
   "execution_count": 116,
   "metadata": {},
   "outputs": [
    {
     "name": "stdout",
     "output_type": "stream",
     "text": [
      "210\n"
     ]
    }
   ],
   "source": [
    "surprise()"
   ]
  },
  {
   "cell_type": "code",
   "execution_count": 119,
   "metadata": {
    "id": "22Eg05kiTDGe"
   },
   "outputs": [],
   "source": [
    "def pretty2(func): # accepts function as argument\n",
    "    def inner():\n",
    "        print(\"*\"*50)\n",
    "        func() # -- > foo()\n",
    "        print(\"*\"*50)\n",
    "    return inner"
   ]
  },
  {
   "cell_type": "code",
   "execution_count": 121,
   "metadata": {
    "colab": {
     "base_uri": "https://localhost:8080/"
    },
    "id": "xBN044CaTfha",
    "outputId": "bcdbc274-c0e5-45f6-c711-49b8bfe43056"
   },
   "outputs": [
    {
     "name": "stdout",
     "output_type": "stream",
     "text": [
      "**************************************************\n",
      "--------------------------------------------------\n",
      " Whaatttt!!!\n",
      "--------------------------------------------------\n",
      "**************************************************\n"
     ]
    }
   ],
   "source": [
    "@pretty2\n",
    "@pretty# ---> surprise = pretty(surprise)\n",
    "def surprise():\n",
    "    print(\" Whaatttt!!!\")\n",
    "surprise()"
   ]
  },
  {
   "cell_type": "markdown",
   "metadata": {
    "id": "j3KbGDFYTw1u"
   },
   "source": [
    "### creating API using flask in python"
   ]
  },
  {
   "cell_type": "code",
   "execution_count": null,
   "metadata": {
    "colab": {
     "base_uri": "https://localhost:8080/"
    },
    "id": "rDQf5Vr6TjbL",
    "outputId": "af1066d4-4178-4ccd-f817-e0596cbca39a"
   },
   "outputs": [
    {
     "data": {
      "text/plain": [
       "[(1, 2), ('A', 'B')]"
      ]
     },
     "execution_count": 125,
     "metadata": {},
     "output_type": "execute_result"
    }
   ],
   "source": [
    "out = [(1,\"A\"), (2,\"B\")]\n",
    "list(zip(*out))"
   ]
  },
  {
   "cell_type": "code",
   "execution_count": null,
   "metadata": {
    "colab": {
     "base_uri": "https://localhost:8080/"
    },
    "id": "ZPXo29vmU1tY",
    "outputId": "fdc6e00f-98bc-44f1-8583-7080aec92c23"
   },
   "outputs": [
    {
     "data": {
      "text/plain": [
       "(1, 'A')"
      ]
     },
     "execution_count": 126,
     "metadata": {},
     "output_type": "execute_result"
    }
   ],
   "source": []
  },
  {
   "cell_type": "code",
   "execution_count": null,
   "metadata": {
    "colab": {
     "base_uri": "https://localhost:8080/"
    },
    "id": "MVYZ3z1BVH_d",
    "outputId": "22eb67c8-8706-460a-b36a-14811f394d21"
   },
   "outputs": [
    {
     "data": {
      "text/plain": [
       "(1, 2)"
      ]
     },
     "execution_count": 134,
     "metadata": {},
     "output_type": "execute_result"
    }
   ],
   "source": [
    "out[0][0], out[1][0]"
   ]
  },
  {
   "cell_type": "code",
   "execution_count": null,
   "metadata": {
    "colab": {
     "base_uri": "https://localhost:8080/"
    },
    "id": "NcMJ5OpMVJDN",
    "outputId": "006d9785-77ce-4270-9a0f-bfab939e531e"
   },
   "outputs": [
    {
     "data": {
      "text/plain": [
       "('A', 'B')"
      ]
     },
     "execution_count": 133,
     "metadata": {},
     "output_type": "execute_result"
    }
   ],
   "source": [
    "out[0][1], out[1][1]"
   ]
  },
  {
   "cell_type": "code",
   "execution_count": null,
   "metadata": {
    "id": "4k3gmIBkVOA2"
   },
   "outputs": [],
   "source": []
  },
  {
   "cell_type": "markdown",
   "metadata": {
    "id": "lypCQVXWVsZ6"
   },
   "source": [
    "```\n",
    "S ROY\n",
    "4\n",
    "B BOSE\n",
    "3\n",
    "N KAR\n",
    "2\n",
    "C DUTTA\n",
    "5\n",
    "G GHOSH\n",
    "3\n",
    "ans for this : [['S ROY', 4.0], ['B BOSE', 3.0], ['N KAR', 2.0], ['C DUTTA', 5.0], ['G GHOSH', 3.0]]\n",
    "3.0\n",
    "B BOSE\n",
    "G GHOSH need to discuss\n",
    "\n",
    "```"
   ]
  },
  {
   "cell_type": "code",
   "execution_count": 123,
   "metadata": {
    "id": "5ySp8ZNaVsuR"
   },
   "outputs": [],
   "source": [
    "names = [\"S ROY\", \"B BOSE\", \"N KAR\", \"C DUTTA\", \"G GHOSH\"]\n",
    "scores = [4 , 3 ,2, 5, 3]\n",
    "\n",
    "\n",
    "#[('S ROY', 1.0], ['B BOSE', 3.0], ['N KAR', 2.0], ['C DUTTA', 1.0], ['G GHOSH', 1.0]]\n",
    "# [\"N KAR\"]"
   ]
  },
  {
   "cell_type": "code",
   "execution_count": 125,
   "metadata": {
    "colab": {
     "base_uri": "https://localhost:8080/"
    },
    "id": "QXQTo1pIW99C",
    "outputId": "9c938f17-933f-4df2-ad5f-8f20baeb39c9"
   },
   "outputs": [
    {
     "data": {
      "text/plain": [
       "[['S ROY', 4], ['B BOSE', 3], ['N KAR', 2], ['C DUTTA', 5], ['G GHOSH', 3]]"
      ]
     },
     "execution_count": 125,
     "metadata": {},
     "output_type": "execute_result"
    }
   ],
   "source": [
    "output1 = list(map(list,zip(names, scores)))\n",
    "output1"
   ]
  },
  {
   "cell_type": "code",
   "execution_count": 126,
   "metadata": {
    "colab": {
     "base_uri": "https://localhost:8080/"
    },
    "id": "b2n9pZ3RXA5F",
    "outputId": "79c530bc-722f-4bec-97f8-f1d77b65d1d2"
   },
   "outputs": [
    {
     "data": {
      "text/plain": [
       "[2, 3, 4, 5]"
      ]
     },
     "execution_count": 126,
     "metadata": {},
     "output_type": "execute_result"
    }
   ],
   "source": [
    "sorted(list(set(scores)))\n"
   ]
  },
  {
   "cell_type": "code",
   "execution_count": 127,
   "metadata": {
    "colab": {
     "base_uri": "https://localhost:8080/"
    },
    "id": "MrxtWsN0XNmQ",
    "outputId": "1d6dd5e3-6c51-4f9b-996c-9c92d5d8169f"
   },
   "outputs": [
    {
     "data": {
      "text/plain": [
       "3"
      ]
     },
     "execution_count": 127,
     "metadata": {},
     "output_type": "execute_result"
    }
   ],
   "source": [
    "second_lowest = sorted(list(set(scores)))[1]\n",
    "second_lowest"
   ]
  },
  {
   "cell_type": "code",
   "execution_count": 128,
   "metadata": {},
   "outputs": [
    {
     "data": {
      "text/plain": [
       "[['S ROY', 4], ['B BOSE', 3], ['N KAR', 2], ['C DUTTA', 5], ['G GHOSH', 3]]"
      ]
     },
     "execution_count": 128,
     "metadata": {},
     "output_type": "execute_result"
    }
   ],
   "source": [
    "output1"
   ]
  },
  {
   "cell_type": "code",
   "execution_count": 129,
   "metadata": {
    "colab": {
     "base_uri": "https://localhost:8080/"
    },
    "id": "3u-PpXasXPRw",
    "outputId": "556a1c40-298d-42a4-d297-a47863a84d53"
   },
   "outputs": [
    {
     "data": {
      "text/plain": [
       "[['B BOSE', 3], ['G GHOSH', 3]]"
      ]
     },
     "execution_count": 129,
     "metadata": {},
     "output_type": "execute_result"
    }
   ],
   "source": [
    "a = list(filter(lambda x:x[1]==second_lowest, output1))\n",
    "a# replace with for loop"
   ]
  },
  {
   "cell_type": "code",
   "execution_count": 131,
   "metadata": {
    "colab": {
     "base_uri": "https://localhost:8080/"
    },
    "id": "rtuC9Vv1XpJn",
    "outputId": "fa4e85b9-2acf-43d7-8b45-b5dc765da403"
   },
   "outputs": [
    {
     "data": {
      "text/plain": [
       "['B BOSE', 'G GHOSH']"
      ]
     },
     "execution_count": 131,
     "metadata": {},
     "output_type": "execute_result"
    }
   ],
   "source": [
    "names = list(map(lambda x: x[0], list(filter(lambda x:x[1]==second_lowest, output1))))\n",
    "names"
   ]
  },
  {
   "cell_type": "code",
   "execution_count": 97,
   "metadata": {
    "id": "QMLiXTLTXxT5"
   },
   "outputs": [],
   "source": [
    "a = [ i  if i%2==0  else \"odd\" for i in range(1,10)]"
   ]
  },
  {
   "cell_type": "code",
   "execution_count": 98,
   "metadata": {},
   "outputs": [
    {
     "data": {
      "text/plain": [
       "['odd', 2, 'odd', 4, 'odd', 6, 'odd', 8, 'odd']"
      ]
     },
     "execution_count": 98,
     "metadata": {},
     "output_type": "execute_result"
    }
   ],
   "source": [
    "a"
   ]
  },
  {
   "cell_type": "code",
   "execution_count": 101,
   "metadata": {},
   "outputs": [],
   "source": [
    "a = [ \"l\"  if i>=8  else \"m\" if i>=4 and i<8 else \"s\" for i in range(1,11)]"
   ]
  },
  {
   "cell_type": "code",
   "execution_count": 102,
   "metadata": {},
   "outputs": [
    {
     "data": {
      "text/plain": [
       "['s', 's', 's', 'm', 'm', 'm', 'm', 'l', 'l', 'l']"
      ]
     },
     "execution_count": 102,
     "metadata": {},
     "output_type": "execute_result"
    }
   ],
   "source": [
    "a"
   ]
  },
  {
   "cell_type": "code",
   "execution_count": 104,
   "metadata": {},
   "outputs": [
    {
     "data": {
      "text/plain": [
       "['s', 's', 's', 'm', 'm', 'm', 'm', 'l', 'l', 'l']"
      ]
     },
     "execution_count": 104,
     "metadata": {},
     "output_type": "execute_result"
    }
   ],
   "source": [
    "list(map(lambda i : \"l\"  if i>=8  else \"m\" if i>=4 and i<8 else \"s\",range(1,11)))"
   ]
  },
  {
   "cell_type": "code",
   "execution_count": 134,
   "metadata": {},
   "outputs": [],
   "source": [
    "a = [\"hello\",\"python\",\"py\",\"laptop\"]"
   ]
  },
  {
   "cell_type": "code",
   "execution_count": 135,
   "metadata": {},
   "outputs": [
    {
     "data": {
      "text/plain": [
       "['hello', 'python', 'laptop']"
      ]
     },
     "execution_count": 135,
     "metadata": {},
     "output_type": "execute_result"
    }
   ],
   "source": [
    "[i  for i in a if len(i)>3]"
   ]
  },
  {
   "cell_type": "code",
   "execution_count": 136,
   "metadata": {},
   "outputs": [
    {
     "data": {
      "text/plain": [
       "['hello', 'python', 'no', 'laptop']"
      ]
     },
     "execution_count": 136,
     "metadata": {},
     "output_type": "execute_result"
    }
   ],
   "source": [
    "list(map(lambda i :i if len(i)>3 else \"no\",a))"
   ]
  },
  {
   "cell_type": "code",
   "execution_count": 110,
   "metadata": {},
   "outputs": [
    {
     "data": {
      "text/plain": [
       "['hello', 'python', 'laptop']"
      ]
     },
     "execution_count": 110,
     "metadata": {},
     "output_type": "execute_result"
    }
   ],
   "source": [
    "list(filter(lambda i : len(i)>3,a))"
   ]
  },
  {
   "cell_type": "code",
   "execution_count": null,
   "metadata": {},
   "outputs": [],
   "source": []
  }
 ],
 "metadata": {
  "colab": {
   "authorship_tag": "ABX9TyP7Y73OyzE9dNfQ9HrjReNV",
   "include_colab_link": true,
   "provenance": []
  },
  "kernelspec": {
   "display_name": "Python 3 (ipykernel)",
   "language": "python",
   "name": "python3"
  },
  "language_info": {
   "codemirror_mode": {
    "name": "ipython",
    "version": 3
   },
   "file_extension": ".py",
   "mimetype": "text/x-python",
   "name": "python",
   "nbconvert_exporter": "python",
   "pygments_lexer": "ipython3",
   "version": "3.11.5"
  }
 },
 "nbformat": 4,
 "nbformat_minor": 1
}
