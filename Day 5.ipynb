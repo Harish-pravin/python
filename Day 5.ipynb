{
 "cells": [
  {
   "cell_type": "code",
   "execution_count": 4,
   "id": "8ce014f9",
   "metadata": {},
   "outputs": [],
   "source": [
    "x=2\n",
    "if (x==2):\n",
    "    x=3\n",
    "\n",
    "else:\n",
    "    x=5\n",
    "print(\"error submitted\")"
   ]
  },
  {
   "cell_type": "code",
   "execution_count": 11,
   "id": "3870dafe",
   "metadata": {},
   "outputs": [
    {
     "name": "stdout",
     "output_type": "stream",
     "text": [
      "30\n",
      "40\n",
      "50\n",
      "0\n"
     ]
    }
   ],
   "source": [
    "a=int(input())\n",
    "b=int(input())\n",
    "c=int(input())\n",
    "if(a==b==c):\n",
    "    print(1)\n",
    "else:\n",
    "    print(0)"
   ]
  },
  {
   "cell_type": "code",
   "execution_count": 17,
   "id": "b7e91f5c",
   "metadata": {},
   "outputs": [
    {
     "name": "stdout",
     "output_type": "stream",
     "text": [
      "4\n",
      "1\n",
      "-1\n",
      "3\n"
     ]
    }
   ],
   "source": [
    "c=int(input())\n",
    "s=int(input())\n",
    "if(c<s):\n",
    "    print(1)\n",
    "else:\n",
    "    print(-1)\n",
    "a=s-c\n",
    "if(a>=0):\n",
    "    print(a)\n",
    "else:\n",
    "    print(c-s)\n",
    "\n",
    "    "
   ]
  },
  {
   "cell_type": "code",
   "execution_count": 2,
   "id": "c4bed443",
   "metadata": {},
   "outputs": [
    {
     "name": "stdout",
     "output_type": "stream",
     "text": [
      "3\n"
     ]
    }
   ],
   "source": [
    "a=1\n",
    "b=2\n",
    "c=3\n",
    "if(a>b):\n",
    "    if (a>c):\n",
    "        print(a)\n",
    "    else:\n",
    "        print(c)\n",
    "else:\n",
    "    if(b>c):\n",
    "        print(b)\n",
    "    else:\n",
    "        print(c)"
   ]
  },
  {
   "cell_type": "code",
   "execution_count": 7,
   "id": "c52560f3",
   "metadata": {},
   "outputs": [
    {
     "name": "stdout",
     "output_type": "stream",
     "text": [
      "Enter the number:0\n",
      "0\n"
     ]
    }
   ],
   "source": [
    "a=int(input(\"Enter the number:\"))\n",
    "if(a>=1):\n",
    "    print(1)\n",
    "elif(a<0):\n",
    "    print(-1)\n",
    "else:\n",
    "    print(0)"
   ]
  },
  {
   "cell_type": "code",
   "execution_count": 14,
   "id": "4c178cd2",
   "metadata": {},
   "outputs": [
    {
     "name": "stdout",
     "output_type": "stream",
     "text": [
      "Enter your favorite programming language?:PYTHON\n",
      "nice choice!\n"
     ]
    }
   ],
   "source": [
    "user=input(\"Enter your favorite programming language?:\")\n",
    "lang=user.lower()\n",
    "if(lang==\"python\" or lang==\"java\"):\n",
    "    print(\"nice choice!\")\n",
    "elif(lang==\"golang\"):\n",
    "    print(\"You are a cool person\")\n",
    "elif(lang==\"javascript\" or lang==\"java script\"):\n",
    "    print(\"okay so you are our web developer\")\n",
    "elif(lang==\"c++\"):\n",
    "    print(\"Too old school\")\n",
    "else:\n",
    "    print(\"I dont know that language\")"
   ]
  },
  {
   "cell_type": "code",
   "execution_count": 24,
   "id": "90eb0fc6",
   "metadata": {},
   "outputs": [
    {
     "name": "stdout",
     "output_type": "stream",
     "text": [
      "Enter the number:15\n",
      "FizzBuzz\n"
     ]
    }
   ],
   "source": [
    "N=int(input(\"Enter the number:\"))\n",
    "if(N%3==0 and N%5==0):\n",
    "    print(\"FizzBuzz\")\n",
    "elif(N%3==0):\n",
    "    print(\"Fizz\")\n",
    "elif(N%5==0):\n",
    "    print(\"Buzz\")\n"
   ]
  },
  {
   "cell_type": "code",
   "execution_count": 3,
   "id": "7aa64eec",
   "metadata": {},
   "outputs": [
    {
     "name": "stdout",
     "output_type": "stream",
     "text": [
      "Enter the year:2020\n",
      "0\n"
     ]
    }
   ],
   "source": [
    "year=int(input(\"Enter the year:\"))\n",
    "if(year%4==0):\n",
    "    print(1)\n",
    "else:\n",
    "    print(0)"
   ]
  },
  {
   "cell_type": "code",
   "execution_count": 37,
   "id": "4a3e58de",
   "metadata": {},
   "outputs": [
    {
     "name": "stdout",
     "output_type": "stream",
     "text": [
      "Number of album sold?:85568547\n",
      "Diamond\n"
     ]
    }
   ],
   "source": [
    "n=int(input(\"Number of album sold?:\"))\n",
    "if(500000<=n<=999999):\n",
    "    print(\"Gold\")\n",
    "elif(1000000<=n<=9999999):\n",
    "    print(\"Platinum\")\n",
    "elif(n>+10000000):\n",
    "    print(\"Diamond\")\n",
    "else:\n",
    "    print(\"None\")"
   ]
  },
  {
   "cell_type": "code",
   "execution_count": 42,
   "id": "59c19c9d",
   "metadata": {},
   "outputs": [
    {
     "name": "stdout",
     "output_type": "stream",
     "text": [
      "Does pac-man have a power pellet active? Yes or No:no\n",
      "Is the pac-man touching a ghost? Yes or No:no\n",
      "0\n"
     ]
    }
   ],
   "source": [
    "a=input(\"Does pac-man have a power pellet active? Yes or No:\")\n",
    "b=input(\"Is the pac-man touching a ghost? Yes or No:\")\n",
    "a=a.lower()\n",
    "b=b.lower()\n",
    "if(a==\"yes\"):\n",
    "    x=1\n",
    "else:\n",
    "    x=0\n",
    "if(b==\"yes\"):\n",
    "    y=1\n",
    "else:\n",
    "    y=0\n",
    "print(x+y)"
   ]
  },
  {
   "cell_type": "code",
   "execution_count": 60,
   "id": "33e83749",
   "metadata": {},
   "outputs": [
    {
     "name": "stdout",
     "output_type": "stream",
     "text": [
      "Rating on a person?:25445\n",
      "grand master\n"
     ]
    }
   ],
   "source": [
    "n=int(input(\"Rating on a person?:\"))\n",
    "if(n>=2100):\n",
    "    if(n%2==1):\n",
    "        print(\"grand master\")\n",
    "    else:\n",
    "        print(\"GRAND MASTER\")\n",
    "elif(n>=1900):\n",
    "    if(n%2==1):\n",
    "        print(\"candidate master\")\n",
    "    else:\n",
    "        print(\"CANDIDATE MASTER\")\n",
    "elif(n>=1600):\n",
    "    if(n%2==1):\n",
    "        print(\"expert\")\n",
    "    else:\n",
    "        print(\"EXPERT\")\n",
    "elif(n>=1400):\n",
    "    if(n%2==1):\n",
    "        print(\"pupil\")\n",
    "    else:\n",
    "        print(\"PUPIL\")\n",
    "elif(n<1400):\n",
    "    if(n%2==1):\n",
    "        print(\"newbie\")\n",
    "    else:\n",
    "        print(\"NEWBIE\")"
   ]
  },
  {
   "cell_type": "code",
   "execution_count": 65,
   "id": "287d000d",
   "metadata": {},
   "outputs": [
    {
     "name": "stdout",
     "output_type": "stream",
     "text": [
      "month of the year:4\n",
      "April\n"
     ]
    }
   ],
   "source": [
    "A=int(input(\"month of the year:\"))\n",
    "if(A==1):\n",
    "    print(\"January\")\n",
    "elif(A==2):\n",
    "    print(\"February\")\n",
    "elif(A==3):\n",
    "    print(\"March\")\n",
    "elif(A==4):\n",
    "    print(\"April\")\n",
    "elif(A==5):\n",
    "    print(\"May\")\n",
    "elif(A==6):\n",
    "    print(\"June\")\n",
    "elif(A==7):\n",
    "    print(\"July\")\n",
    "elif(A==8):\n",
    "    print(\"August\")\n",
    "elif(A==9):\n",
    "    print(\"September\")\n",
    "elif(A==10):\n",
    "    print(\"October\")\n",
    "elif(A==11):\n",
    "    print(\"November\")\n",
    "elif(A==12):\n",
    "    print(\"December\")"
   ]
  },
  {
   "cell_type": "code",
   "execution_count": 67,
   "id": "a0c3761b",
   "metadata": {},
   "outputs": [
    {
     "name": "stdout",
     "output_type": "stream",
     "text": [
      "month:5\n",
      "31\n"
     ]
    }
   ],
   "source": [
    "A=int(input(\"month:\"))\n",
    "if(A==1):\n",
    "    print(31)\n",
    "elif(A==2):\n",
    "    print(28)\n",
    "elif(A==3):\n",
    "    print(31)\n",
    "elif(A==4):\n",
    "    print(30)\n",
    "elif(A==5):\n",
    "    print(31)\n",
    "elif(A==6):\n",
    "    print(30)\n",
    "elif(A==7):\n",
    "    print(31)\n",
    "elif(A==8):\n",
    "    print(31)\n",
    "elif(A==9):\n",
    "    print(30)\n",
    "elif(A==10):\n",
    "    print(31)\n",
    "elif(A==11):\n",
    "    print(30)\n",
    "elif(A==12):\n",
    "    print(31)"
   ]
  },
  {
   "cell_type": "code",
   "execution_count": null,
   "id": "4a88c02d",
   "metadata": {},
   "outputs": [],
   "source": []
  }
 ],
 "metadata": {
  "kernelspec": {
   "display_name": "Python 3 (ipykernel)",
   "language": "python",
   "name": "python3"
  },
  "language_info": {
   "codemirror_mode": {
    "name": "ipython",
    "version": 3
   },
   "file_extension": ".py",
   "mimetype": "text/x-python",
   "name": "python",
   "nbconvert_exporter": "python",
   "pygments_lexer": "ipython3",
   "version": "3.11.5"
  }
 },
 "nbformat": 4,
 "nbformat_minor": 5
}
