{
 "cells": [
  {
   "cell_type": "code",
   "execution_count": 17,
   "id": "0a5a4b42",
   "metadata": {},
   "outputs": [
    {
     "name": "stdout",
     "output_type": "stream",
     "text": [
      "enter the productiphone 15\n"
     ]
    },
    {
     "ename": "TypeError",
     "evalue": "'WebElement' object is not iterable",
     "output_type": "error",
     "traceback": [
      "\u001b[1;31m---------------------------------------------------------------------------\u001b[0m",
      "\u001b[1;31mTypeError\u001b[0m                                 Traceback (most recent call last)",
      "Cell \u001b[1;32mIn[17], line 25\u001b[0m\n\u001b[0;32m     23\u001b[0m         pname\u001b[38;5;241m.\u001b[39mappend(i\u001b[38;5;241m.\u001b[39mtext)\n\u001b[0;32m     24\u001b[0m     \u001b[38;5;28mprint\u001b[39m(pname)\n\u001b[1;32m---> 25\u001b[0m amazon()\n",
      "Cell \u001b[1;32mIn[17], line 22\u001b[0m, in \u001b[0;36mamazon\u001b[1;34m()\u001b[0m\n\u001b[0;32m     20\u001b[0m pprice\u001b[38;5;241m=\u001b[39m[]\n\u001b[0;32m     21\u001b[0m prating\u001b[38;5;241m=\u001b[39m[]\n\u001b[1;32m---> 22\u001b[0m \u001b[38;5;28;01mfor\u001b[39;00m i \u001b[38;5;129;01min\u001b[39;00m name:\n\u001b[0;32m     23\u001b[0m     pname\u001b[38;5;241m.\u001b[39mappend(i\u001b[38;5;241m.\u001b[39mtext)\n\u001b[0;32m     24\u001b[0m \u001b[38;5;28mprint\u001b[39m(pname)\n",
      "\u001b[1;31mTypeError\u001b[0m: 'WebElement' object is not iterable"
     ]
    }
   ],
   "source": [
    "import streamlit as st\n",
    "import pandas as pd\n",
    "from time import sleep\n",
    "from selenium import webdriver\n",
    "from selenium.webdriver.common.by import By\n",
    "from webdriver_manager.chrome import ChromeDriverManager\n",
    "from selenium.webdriver.support.ui import WebDriverWait\n",
    "from selenium.webdriver.support import expected_conditions as EC\n",
    "product=input(\"enter the product\")\n",
    "def amazon():\n",
    "    driver=webdriver.Chrome()\n",
    "    driver.get('https://www.amazon.in/')\n",
    "    sleep(3)\n",
    "    driver.find_element(By.XPATH,'//input[@id=\"twotabsearchtextbox\"]').send_keys(product)\n",
    "    driver.find_element(By.XPATH,'//input[@id=\"nav-search-submit-button\"]').click()\n",
    "    name=driver.find_element(By.XPATH,'//span[@class=\"a-size-medium a-color-base a-text-normal\"]')\n",
    "    price=driver.find_element(By.XPATH,'//span[@class=\"a-price-whole\"]')\n",
    "    rating=driver.find_element(By.XPATH,'//span[@class=\"a-size-base s-underline-text\"]')\n",
    "    pname=[]\n",
    "    pprice=[]\n",
    "    prating=[]\n",
    "    for i in name:\n",
    "        pname.append(i.text)\n",
    "    print(pname)\n",
    "amazon()"
   ]
  },
  {
   "cell_type": "code",
   "execution_count": null,
   "id": "94b2fc57",
   "metadata": {},
   "outputs": [],
   "source": []
  }
 ],
 "metadata": {
  "kernelspec": {
   "display_name": "Python 3 (ipykernel)",
   "language": "python",
   "name": "python3"
  },
  "language_info": {
   "codemirror_mode": {
    "name": "ipython",
    "version": 3
   },
   "file_extension": ".py",
   "mimetype": "text/x-python",
   "name": "python",
   "nbconvert_exporter": "python",
   "pygments_lexer": "ipython3",
   "version": "3.11.5"
  }
 },
 "nbformat": 4,
 "nbformat_minor": 5
}
