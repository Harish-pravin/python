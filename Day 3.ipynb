{
 "cells": [
  {
   "cell_type": "code",
   "execution_count": 10,
   "id": "c5fb7584",
   "metadata": {},
   "outputs": [
    {
     "name": "stdout",
     "output_type": "stream",
     "text": [
      "Hello\n",
      "World !\n"
     ]
    }
   ],
   "source": [
    "print(\"Hello\")\n",
    "print(\"World !\")"
   ]
  },
  {
   "cell_type": "code",
   "execution_count": 12,
   "id": "5dc9c93e",
   "metadata": {},
   "outputs": [
    {
     "name": "stdout",
     "output_type": "stream",
     "text": [
      "Hello\n",
      "\n",
      "World !\n"
     ]
    }
   ],
   "source": [
    "print(\"Hello\\n\\nWorld !\")"
   ]
  },
  {
   "cell_type": "code",
   "execution_count": 13,
   "id": "488c8a40",
   "metadata": {},
   "outputs": [
    {
     "name": "stdout",
     "output_type": "stream",
     "text": [
      "Hello 40\n",
      "50 World !\n"
     ]
    }
   ],
   "source": [
    "print(\"Hello 40\\n50 World !\")"
   ]
  },
  {
   "cell_type": "code",
   "execution_count": 14,
   "id": "c7967db6",
   "metadata": {},
   "outputs": [
    {
     "name": "stdout",
     "output_type": "stream",
     "text": [
      "Hello World !\n"
     ]
    }
   ],
   "source": [
    "print(\"Hello World !\")"
   ]
  },
  {
   "cell_type": "code",
   "execution_count": 15,
   "id": "f78a3606",
   "metadata": {},
   "outputs": [
    {
     "name": "stdout",
     "output_type": "stream",
     "text": [
      "1 3 5 7 9\n"
     ]
    }
   ],
   "source": [
    "print(1,3,5,7,9)"
   ]
  },
  {
   "cell_type": "code",
   "execution_count": 21,
   "id": "5598058e",
   "metadata": {},
   "outputs": [
    {
     "name": "stdout",
     "output_type": "stream",
     "text": [
      "9 3 18 2 0 216\n"
     ]
    }
   ],
   "source": [
    "a,b=6,3\n",
    "print(a+b,a-b,a*b,a//b,a%b,a**b)"
   ]
  },
  {
   "cell_type": "code",
   "execution_count": 26,
   "id": "55368579",
   "metadata": {},
   "outputs": [
    {
     "name": "stdout",
     "output_type": "stream",
     "text": [
      "9\n",
      "3\n",
      "18\n",
      "2\n"
     ]
    }
   ],
   "source": [
    "print(6+3)\n",
    "print(6-3)\n",
    "print(6*3)\n",
    "print(6//3)"
   ]
  },
  {
   "cell_type": "code",
   "execution_count": 27,
   "id": "618a28e8",
   "metadata": {},
   "outputs": [
    {
     "name": "stdout",
     "output_type": "stream",
     "text": [
      "0 2 4 6 8\n"
     ]
    }
   ],
   "source": [
    "print(0,2,4,6,8)"
   ]
  },
  {
   "cell_type": "code",
   "execution_count": 29,
   "id": "94ec9473",
   "metadata": {},
   "outputs": [
    {
     "name": "stdout",
     "output_type": "stream",
     "text": [
      "A\n",
      "B\n",
      "C\n",
      "D\n",
      "E\n"
     ]
    }
   ],
   "source": [
    "print(\"A\\nB\\nC\\nD\\nE\")"
   ]
  },
  {
   "cell_type": "code",
   "execution_count": 1,
   "id": "65844651",
   "metadata": {},
   "outputs": [
    {
     "name": "stdout",
     "output_type": "stream",
     "text": [
      "harish\n",
      "pravin\n",
      "harish says Hi to pravin\n"
     ]
    }
   ],
   "source": [
    "a=input()\n",
    "b=input()\n",
    "print(a,\"says Hi to\",b)"
   ]
  },
  {
   "cell_type": "code",
   "execution_count": 3,
   "id": "14589f04",
   "metadata": {},
   "outputs": [
    {
     "name": "stdout",
     "output_type": "stream",
     "text": [
      "How long has it been since you placed the order:25\n",
      "wait for 15 minutes\n"
     ]
    }
   ],
   "source": [
    "N=int(input(\"How long has it been since you placed the order:\"))\n",
    "if(N>=0 and N<=40):\n",
    "    print(\"wait for\",40-N,\"minutes\")\n",
    "else:\n",
    "    print(\"Baked\")"
   ]
  },
  {
   "cell_type": "code",
   "execution_count": 10,
   "id": "27819fa3",
   "metadata": {},
   "outputs": [
    {
     "name": "stdout",
     "output_type": "stream",
     "text": [
      "How many layers you want:?5\n",
      "making time: 10\n"
     ]
    }
   ],
   "source": [
    "N=int(input(\"How many layers you want:?\"))\n",
    "print(\"making time:\",N*2)\n",
    "\n"
   ]
  },
  {
   "cell_type": "code",
   "execution_count": 55,
   "id": "4fd2253d",
   "metadata": {},
   "outputs": [
    {
     "name": "stdout",
     "output_type": "stream",
     "text": [
      "How long has it been since you placed the order?29\n",
      "How many layers you want?:1\n",
      "Total cooking time: 13\n"
     ]
    }
   ],
   "source": [
    "N=int(input(\"How long has it been since you placed the order?\"))\n",
    "M=int(input(\"How many layers you want?:\"))\n",
    "if(0<=N and N<=40 and 0<=M<=20):\n",
    "    a=40-N\n",
    "    print(\"Total cooking time:\",(M*2)+a)\n",
    "else:\n",
    "    print(\"Wrong entry\")\n",
    "\n"
   ]
  },
  {
   "cell_type": "code",
   "execution_count": 47,
   "id": "73478142",
   "metadata": {},
   "outputs": [
    {
     "name": "stdout",
     "output_type": "stream",
     "text": [
      "Total savings?:505\n",
      "Exchange amount?:5\n",
      "Total money: 500\n"
     ]
    }
   ],
   "source": [
    "N=int(input(\"Total savings?:\"))\n",
    "M=int(input(\"Exchange amount?:\"))\n",
    "if (1<=N and N<=1000 and 1<=M and M<=N):\n",
    "    print(\"Total money:\",N-M)\n",
    "else:\n",
    "    print(\"Wrong Entry\")"
   ]
  },
  {
   "cell_type": "code",
   "execution_count": 31,
   "id": "f8e3f7a9",
   "metadata": {},
   "outputs": [
    {
     "name": "stdout",
     "output_type": "stream",
     "text": [
      "Single bill?:12\n",
      "Recieved bills?:10\n",
      "Total value of bills: 120\n"
     ]
    }
   ],
   "source": [
    "N=int(input(\"Single bill?:\"))\n",
    "M=int(input(\"Recieved bills?:\"))\n",
    "if(1<=N<=100 and 1<+M<=100):\n",
    "    print(\"Total value of bills:\",N*M)\n",
    "else:\n",
    "    print(\"Check your bills\")"
   ]
  },
  {
   "cell_type": "code",
   "execution_count": 32,
   "id": "fcab6835",
   "metadata": {},
   "outputs": [
    {
     "name": "stdout",
     "output_type": "stream",
     "text": [
      "9\n"
     ]
    }
   ],
   "source": [
    "print((3+4)//2+6)"
   ]
  },
  {
   "cell_type": "code",
   "execution_count": 57,
   "id": "25f0f61a",
   "metadata": {},
   "outputs": [
    {
     "name": "stdout",
     "output_type": "stream",
     "text": [
      "True\n"
     ]
    }
   ],
   "source": [
    "a=-1\n",
    "b=-1\n",
    "c=-1\n",
    "x=a<b+c\n",
    "print(not(x))"
   ]
  },
  {
   "cell_type": "code",
   "execution_count": 43,
   "id": "1078cdd7",
   "metadata": {},
   "outputs": [
    {
     "name": "stdout",
     "output_type": "stream",
     "text": [
      "Total amount?:500\n",
      "Amount of single bill?:5\n",
      "Single bill: 100\n"
     ]
    }
   ],
   "source": [
    "N=int(input(\"Total amount?:\"))\n",
    "M=int(input(\"Amount of single bill?:\"))\n",
    "if(1<=N<=10000 and 1<=M<=100):\n",
    "    print(\"Single bill:\",N//M)\n",
    "else:\n",
    "    print(\"Wrong entry\")"
   ]
  },
  {
   "cell_type": "code",
   "execution_count": 44,
   "id": "3c71bae5",
   "metadata": {},
   "outputs": [
    {
     "name": "stdout",
     "output_type": "stream",
     "text": [
      "110.0\n"
     ]
    }
   ],
   "source": [
    "x=50*2+(60-20)/4\n",
    "print(x)"
   ]
  },
  {
   "cell_type": "code",
   "execution_count": 5,
   "id": "e8097feb",
   "metadata": {},
   "outputs": [
    {
     "name": "stdout",
     "output_type": "stream",
     "text": [
      "mark of a1:100\n",
      "mark of a2:100\n",
      "mark of b1:50\n",
      "mark of b2:50\n",
      "True\n"
     ]
    }
   ],
   "source": [
    "a1=int(input(\"mark of a1:\"))\n",
    "a2=int(input(\"mark of a2:\"))\n",
    "b1=int(input(\"mark of b1:\"))\n",
    "b2=int(input(\"mark of b2:\"))\n",
    "A=a1+a2/2\n",
    "B=b1+b2/2\n",
    "if(A>B):\n",
    "    print(\"True\")\n",
    "else:\n",
    "    print(\"False\")\n"
   ]
  },
  {
   "cell_type": "code",
   "execution_count": 7,
   "id": "2e158a1b",
   "metadata": {},
   "outputs": [
    {
     "name": "stdout",
     "output_type": "stream",
     "text": [
      "Name:Harish\n",
      "Hello Harish\n"
     ]
    }
   ],
   "source": [
    "a=input(\"Name:\")\n",
    "print(\"Hello\",a)"
   ]
  },
  {
   "cell_type": "code",
   "execution_count": null,
   "id": "3b56f268",
   "metadata": {},
   "outputs": [],
   "source": []
  }
 ],
 "metadata": {
  "kernelspec": {
   "display_name": "Python 3 (ipykernel)",
   "language": "python",
   "name": "python3"
  },
  "language_info": {
   "codemirror_mode": {
    "name": "ipython",
    "version": 3
   },
   "file_extension": ".py",
   "mimetype": "text/x-python",
   "name": "python",
   "nbconvert_exporter": "python",
   "pygments_lexer": "ipython3",
   "version": "3.11.5"
  }
 },
 "nbformat": 4,
 "nbformat_minor": 5
}
