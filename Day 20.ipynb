{
 "cells": [
  {
   "cell_type": "code",
   "execution_count": 38,
   "id": "ec6736c3",
   "metadata": {},
   "outputs": [
    {
     "name": "stdout",
     "output_type": "stream",
     "text": [
      "11\n"
     ]
    }
   ],
   "source": [
    "n=[56,63,87,24,32,13,15,19,44,52]\n",
    "odd=[]\n",
    "even=[]\n",
    "for i in (n):\n",
    "    if(i%2==1):\n",
    "        odd.append(i)\n",
    "    else:\n",
    "        even.append(i)\n",
    "ma=max(sum(odd),sum(even))\n",
    "mi=min(sum(odd),sum(even))\n",
    "print(ma-mi)"
   ]
  },
  {
   "cell_type": "code",
   "execution_count": 31,
   "id": "66d164c2",
   "metadata": {},
   "outputs": [
    {
     "name": "stdout",
     "output_type": "stream",
     "text": [
      "[1, 2, 3, 4, 5]\n"
     ]
    },
    {
     "data": {
      "text/plain": [
       "15"
      ]
     },
     "execution_count": 31,
     "metadata": {},
     "output_type": "execute_result"
    }
   ],
   "source": [
    "a=[5,1,2,3,4,5]\n",
    "a.remove(5)\n",
    "print(a)\n",
    "sum(a)"
   ]
  },
  {
   "cell_type": "code",
   "execution_count": 84,
   "id": "ee3f6883",
   "metadata": {},
   "outputs": [
    {
     "name": "stdout",
     "output_type": "stream",
     "text": [
      "1\n",
      "true\n",
      "1\n",
      "true\n",
      "2\n",
      "true\n",
      "1\n",
      "true\n",
      "1\n",
      "true\n",
      "2\n",
      "true\n"
     ]
    }
   ],
   "source": [
    "a=[1,2,3,4,5,3]\n",
    "b=[]\n",
    "for i in (a):\n",
    "    c=a.count(i)\n",
    "    print(c)\n",
    "    if(c<=1):\n",
    "        b.append(i)\n",
    "    print(\"true\")"
   ]
  },
  {
   "cell_type": "code",
   "execution_count": 52,
   "id": "1e1bfbbe",
   "metadata": {},
   "outputs": [
    {
     "name": "stdout",
     "output_type": "stream",
     "text": [
      "enter the number:1\n",
      "enter the number:2\n",
      "enter the number:3\n",
      "enter the number:4\n",
      "enter the number:5\n",
      "multiple value6\n",
      "-1\n"
     ]
    }
   ],
   "source": [
    "a=[]\n",
    "for i in range(5):\n",
    "    b=int(input(\"enter the number:\"))\n",
    "    a.append(b)\n",
    "x=int(input(\"multiple value:\"))\n",
    "c=len(a)-1\n",
    "for i in range(c):\n",
    "    if(a[i]%x==0):\n",
    "        print(a[i])\n",
    "    elif(a[i]%x!=0):\n",
    "        print(\"-1\")\n",
    "        break"
   ]
  },
  {
   "cell_type": "code",
   "execution_count": 7,
   "id": "647c06cb",
   "metadata": {},
   "outputs": [
    {
     "name": "stdout",
     "output_type": "stream",
     "text": [
      "['python', 'was', 'conceived', 'in', 'the', \"python'dsh\", '1980s[40]', 'by', 'guido', 'van', 'rossum', 'at', 'wiskunde', '&', 'informatica', '(cwi)', 'in', 'the', 'netherlands', 'as', 'a', \"python's\", 'to', 'the', 'abc', 'programming', 'language,', 'which', 'was', 'inspired', 'by', 'setl,[41]', 'capable', 'of', 'exception', 'handling', 'and', 'interfacing', 'with', 'the', 'amoeba', 'operating', 'system.[10]', 'its', 'implementation', 'began', 'in', 'december', '1989.[42]', 'van', 'rossum', 'shouldered', 'sole', 'responsibility', 'for', 'the', 'project,', 'as', 'the', 'lead', 'developer,', 'until', '12', 'july', '2018,', 'when', 'he', 'announced', 'his', '\"permanent', 'vacation\"', 'from', 'his', 'responsibilities', 'as', \"python's\", '\"benevolent', 'dictator', 'for', 'life\",', 'a', 'title', 'the', 'python', 'community', 'bestowed', 'upon', 'him', 'to', 'reflect', 'his', 'long-term', 'commitment', 'as', 'the', \"project's\", 'chief', 'decision-maker.[43]', 'in', 'january', '2019,', 'active', 'python', 'core', 'developers', 'elected', 'a', 'five-member', 'steering', 'council', 'to', 'lead', 'the', 'project.']\n",
      "6\n"
     ]
    }
   ],
   "source": [
    "a=\"\"\"Python was conceived in the python'dsh 1980s[40] by Guido van Rossum at Wiskunde & Informatica (CWI) in the Netherlands as a python's to the ABC programming language, which was inspired by SETL,[41] capable of exception handling and interfacing with the Amoeba operating system.[10] Its implementation began in December 1989.[42] Van Rossum shouldered sole responsibility for the project, as the lead developer, until 12 July 2018, when he announced his \"permanent vacation\" from his responsibilities as Python's \"benevolent dictator for life\", a title the Python community bestowed upon him to reflect his long-term commitment as the project's chief decision-maker.[43] In January 2019, active Python core developers elected a five-member Steering Council to lead the project.\"\"\".lower()\n",
    "a=a.lower()\n",
    "b=a.split(\" \")\n",
    "print(b)\n",
    "count=0\n",
    "for i in (b):\n",
    "    if i.startswith(\"pyth\"):\n",
    "        count+=1\n",
    "print(count)"
   ]
  },
  {
   "cell_type": "code",
   "execution_count": 18,
   "id": "e543f7f7",
   "metadata": {},
   "outputs": [
    {
     "name": "stdout",
     "output_type": "stream",
     "text": [
      "153\n",
      "ams\n",
      "232\n",
      "not ams\n",
      "370\n",
      "ams\n",
      "273\n",
      "not ams\n"
     ]
    }
   ],
   "source": [
    "a=[153,232,370,273]\n",
    "l=len(a)\n",
    "for i in range(l):\n",
    "    e=0\n",
    "    con=a[i]\n",
    "    while(a[i]!=0):\n",
    "        b=a[i]%10\n",
    "        c=b**3\n",
    "        e+=c\n",
    "        a[i]=a[i]//10\n",
    "    print(con)\n",
    "    if(con==e):\n",
    "        print(\"ams\")\n",
    "    else:\n",
    "        print(\"not ams\")"
   ]
  },
  {
   "cell_type": "code",
   "execution_count": 10,
   "id": "636fa070",
   "metadata": {},
   "outputs": [
    {
     "name": "stdout",
     "output_type": "stream",
     "text": [
      "True\n"
     ]
    }
   ],
   "source": [
    "a=[1,2,3,3,5,6]\n",
    "for i in range(len(a)-1):\n",
    "    if(a[i]==a[i+1]):\n",
    "        print(\"True\")\n",
    "        break\n",
    "else:\n",
    "    print(\"false\")"
   ]
  },
  {
   "cell_type": "code",
   "execution_count": 64,
   "id": "d87a3a9b",
   "metadata": {},
   "outputs": [
    {
     "name": "stdout",
     "output_type": "stream",
     "text": [
      "[1, 2, 3, 5]\n"
     ]
    }
   ],
   "source": [
    "a=[1,2,2,3,5]\n",
    "a=sorted(a)\n",
    "c=[]\n",
    "for i in range(len(a)):\n",
    "    if(i==len(a)-1):\n",
    "        c.append(a[i])\n",
    "    elif(a[i]==a[i] and a[i]!=a[i+1]):\n",
    "        c.append(a[i])\n",
    "print(c)"
   ]
  },
  {
   "cell_type": "code",
   "execution_count": 1,
   "id": "bb98d62b",
   "metadata": {},
   "outputs": [
    {
     "name": "stdout",
     "output_type": "stream",
     "text": [
      "1 : 1\n",
      "2 : 2\n",
      "3 : 2\n",
      "4 : 1\n",
      "6 : 1\n"
     ]
    }
   ],
   "source": [
    "a=[1,2,2,3,4,6,3]\n",
    "a=sorted(a)\n",
    "c=[]\n",
    "for i in range(len(a)):\n",
    "    if(i==len(a)-1):\n",
    "        c.append(a[i])\n",
    "        print(a[i],\":\",a.count(a[i]))\n",
    "    elif(a[i]==a[i] and a[i]!=a[i+1]):\n",
    "        c.append(a[i])\n",
    "        print(a[i],\":\",a.count(a[i]))"
   ]
  },
  {
   "cell_type": "code",
   "execution_count": null,
   "id": "61e0b6b5",
   "metadata": {},
   "outputs": [],
   "source": []
  }
 ],
 "metadata": {
  "kernelspec": {
   "display_name": "Python 3 (ipykernel)",
   "language": "python",
   "name": "python3"
  },
  "language_info": {
   "codemirror_mode": {
    "name": "ipython",
    "version": 3
   },
   "file_extension": ".py",
   "mimetype": "text/x-python",
   "name": "python",
   "nbconvert_exporter": "python",
   "pygments_lexer": "ipython3",
   "version": "3.11.5"
  }
 },
 "nbformat": 4,
 "nbformat_minor": 5
}
