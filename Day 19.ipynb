{
 "cells": [
  {
   "cell_type": "code",
   "execution_count": 5,
   "id": "f337f9de",
   "metadata": {},
   "outputs": [
    {
     "name": "stdout",
     "output_type": "stream",
     "text": [
      "first nameHarish\n",
      "6\n",
      "surnamepravin\n",
      "6\n",
      "Harish pravin\n"
     ]
    },
    {
     "data": {
      "text/plain": [
       "13"
      ]
     },
     "execution_count": 5,
     "metadata": {},
     "output_type": "execute_result"
    }
   ],
   "source": [
    "a=input(\"first name\")\n",
    "print(len(a))\n",
    "b=input(\"surname\")\n",
    "print(len(b))\n",
    "c=a+\" \"+b\n",
    "print(c)\n",
    "len(c)"
   ]
  },
  {
   "cell_type": "code",
   "execution_count": 2,
   "id": "30fe4fb2",
   "metadata": {},
   "outputs": [
    {
     "name": "stdout",
     "output_type": "stream",
     "text": [
      "enter favourite subjectMaths\n",
      "M-a-t-h-s\n"
     ]
    }
   ],
   "source": [
    "a=input(\"enter favourite subject\")\n",
    "a=\"-\".join(a)\n",
    "print(a)\n",
    "    "
   ]
  },
  {
   "cell_type": "code",
   "execution_count": 20,
   "id": "10437ef0",
   "metadata": {},
   "outputs": [
    {
     "name": "stdout",
     "output_type": "stream",
     "text": [
      "book giveaways, and our coveted Joan Didion Lit Hub tote bag. Most importantly, you’ll keep independent book coverage alive and thriving on the internet.\n",
      "starting point1\n",
      "ending point9\n",
      "o\n",
      "o\n",
      "k\n",
      " \n",
      "g\n",
      "i\n",
      "v\n",
      "e\n",
      "a\n",
      "9\n"
     ]
    }
   ],
   "source": [
    "p=\"book giveaways, and our coveted Joan Didion Lit Hub tote bag. Most importantly, you’ll keep independent book coverage alive and thriving on the internet.\"\n",
    "print(p)\n",
    "a=int(input(\"starting point\"))\n",
    "b=int(input(\"ending point\"))\n",
    "count=0\n",
    "for i in range (a,b+1):\n",
    "        count+=1\n",
    "        print(p[i])\n",
    "print(count)"
   ]
  },
  {
   "cell_type": "code",
   "execution_count": 18,
   "id": "ef01ff20",
   "metadata": {},
   "outputs": [
    {
     "name": "stdout",
     "output_type": "stream",
     "text": [
      "enter the name in uppercaseHARISH\n",
      "HARISH\n"
     ]
    }
   ],
   "source": [
    "a=input(\"enter the name in uppercase\")\n",
    "b=a.lower()\n",
    "while(a==b):\n",
    "    print(\"try again\")\n",
    "    a=input(\"enter the name in uppercase\")\n",
    "if(a!=b):\n",
    "    print(a)"
   ]
  },
  {
   "cell_type": "code",
   "execution_count": 19,
   "id": "3234d8b7",
   "metadata": {},
   "outputs": [
    {
     "name": "stdout",
     "output_type": "stream",
     "text": [
      "enterTHIRUNELVELI\n",
      "THirunelveli\n"
     ]
    }
   ],
   "source": [
    "a=input(\"enter\")\n",
    "b=a[:2].upper()\n",
    "c=a[2:].lower()\n",
    "print(b+c)"
   ]
  },
  {
   "cell_type": "code",
   "execution_count": 18,
   "id": "86ea79b5",
   "metadata": {},
   "outputs": [
    {
     "name": "stdout",
     "output_type": "stream",
     "text": [
      "enter the name:harish\n",
      "2\n"
     ]
    }
   ],
   "source": [
    "a=input(\"enter the name:\").lower()\n",
    "temp=0\n",
    "for i in (a):\n",
    "    if(i==\"a\" or i==\"e\" or i==\"i\" or i==\"o\" or i==\"u\"):\n",
    "        temp+=1\n",
    "print(temp)"
   ]
  },
  {
   "cell_type": "code",
   "execution_count": 16,
   "id": "1c9e93d6",
   "metadata": {},
   "outputs": [
    {
     "name": "stdout",
     "output_type": "stream",
     "text": [
      "enter the new password:harish\n",
      "enter again:jhdfsje\n",
      "incorrect\n"
     ]
    }
   ],
   "source": [
    "a=input(\"enter the new password:\")\n",
    "b=input(\"enter again:\")\n",
    "d=len(a)\n",
    "if(a==b):\n",
    "    print(\"Thank you\")\n",
    "else:\n",
    "    for i in range(d):\n",
    "        if(a[i].lower()!=b[i].lower()):\n",
    "            print(\"incorrect\")\n",
    "            break\n",
    "        else:\n",
    "            print(\"change case type\")\n",
    "            break"
   ]
  },
  {
   "cell_type": "code",
   "execution_count": null,
   "id": "5e6af013",
   "metadata": {},
   "outputs": [],
   "source": []
  },
  {
   "cell_type": "code",
   "execution_count": 12,
   "id": "fa36f38b",
   "metadata": {},
   "outputs": [
    {
     "name": "stdout",
     "output_type": "stream",
     "text": [
      "enter the name:harish\n",
      "h\n",
      "s\n",
      "i\n",
      "r\n",
      "a\n",
      "h\n"
     ]
    }
   ],
   "source": [
    "n=input(\"enter the name:\")\n",
    "a=n[::-1]\n",
    "for i in (a):\n",
    "    print(i)"
   ]
  },
  {
   "cell_type": "code",
   "execution_count": 19,
   "id": "ba6ec1f5",
   "metadata": {},
   "outputs": [
    {
     "name": "stdout",
     "output_type": "stream",
     "text": [
      "enter the name:harish\n",
      "6\n"
     ]
    }
   ],
   "source": [
    "n=input(\"enter the name:\")\n",
    "b=len(n)\n",
    "print(b)"
   ]
  },
  {
   "cell_type": "code",
   "execution_count": 3,
   "id": "c8ef5dc3",
   "metadata": {},
   "outputs": [
    {
     "name": "stdout",
     "output_type": "stream",
     "text": [
      "nameharish\n",
      "surnamepravin\n",
      "HARISHPRAVIN\n"
     ]
    }
   ],
   "source": [
    "a=input(\"name\")\n",
    "b=input(\"surname\")\n",
    "print((a+b).upper())"
   ]
  },
  {
   "cell_type": "code",
   "execution_count": 6,
   "id": "9f89c521",
   "metadata": {},
   "outputs": [
    {
     "name": "stdout",
     "output_type": "stream",
     "text": [
      "enter the namesiva\n",
      "enter surnamejas\n",
      "SIVAJAS\n"
     ]
    }
   ],
   "source": [
    "a=input(\"enter the name\")\n",
    "b=len(a)\n",
    "if(b<5):\n",
    "    c=input(\"enter surname\")\n",
    "    print((a+c).upper())\n",
    "elif(b>5):\n",
    "    print(a.lower())"
   ]
  },
  {
   "cell_type": "code",
   "execution_count": 1,
   "id": "302b041b",
   "metadata": {},
   "outputs": [
    {
     "name": "stdout",
     "output_type": "stream",
     "text": [
      "enter the name:apple\n",
      "appleway\n"
     ]
    }
   ],
   "source": [
    "n=input(\"enter the name:\")\n",
    "for i in ('a','e','i','o','u'):\n",
    "    if(i==n[0]):\n",
    "        print(n+\"way\")\n",
    "        break\n",
    "    else:\n",
    "        print(n[1:]+n[0]+\"ay\")\n",
    "        break"
   ]
  },
  {
   "cell_type": "code",
   "execution_count": 9,
   "id": "5ea70880",
   "metadata": {},
   "outputs": [],
   "source": [
    "a = \"python\""
   ]
  },
  {
   "cell_type": "code",
   "execution_count": 10,
   "id": "1211aeac",
   "metadata": {},
   "outputs": [
    {
     "data": {
      "text/plain": [
       "'Python'"
      ]
     },
     "execution_count": 10,
     "metadata": {},
     "output_type": "execute_result"
    }
   ],
   "source": [
    "a.capitalize()"
   ]
  },
  {
   "cell_type": "code",
   "execution_count": 11,
   "id": "9ff012e2",
   "metadata": {},
   "outputs": [],
   "source": [
    "a = \"python is a programming language\" "
   ]
  },
  {
   "cell_type": "code",
   "execution_count": 12,
   "id": "88d77dfc",
   "metadata": {},
   "outputs": [
    {
     "data": {
      "text/plain": [
       "'Python Is A Programming Language'"
      ]
     },
     "execution_count": 12,
     "metadata": {},
     "output_type": "execute_result"
    }
   ],
   "source": [
    "a.title()"
   ]
  },
  {
   "cell_type": "code",
   "execution_count": 17,
   "id": "4bdc007c",
   "metadata": {},
   "outputs": [],
   "source": [
    "a = \"    python is a  \""
   ]
  },
  {
   "cell_type": "code",
   "execution_count": 18,
   "id": "79bb7c1b",
   "metadata": {},
   "outputs": [
    {
     "data": {
      "text/plain": [
       "'python is a'"
      ]
     },
     "execution_count": 18,
     "metadata": {},
     "output_type": "execute_result"
    }
   ],
   "source": [
    "a.strip()"
   ]
  },
  {
   "cell_type": "code",
   "execution_count": 15,
   "id": "f34d4598",
   "metadata": {},
   "outputs": [
    {
     "data": {
      "text/plain": [
       "'python    '"
      ]
     },
     "execution_count": 15,
     "metadata": {},
     "output_type": "execute_result"
    }
   ],
   "source": [
    "a.lstrip()"
   ]
  },
  {
   "cell_type": "code",
   "execution_count": 16,
   "id": "cdf5f799",
   "metadata": {},
   "outputs": [
    {
     "data": {
      "text/plain": [
       "'    python'"
      ]
     },
     "execution_count": 16,
     "metadata": {},
     "output_type": "execute_result"
    }
   ],
   "source": [
    "a.rstrip()"
   ]
  },
  {
   "cell_type": "code",
   "execution_count": 11,
   "id": "8d8a065e",
   "metadata": {},
   "outputs": [
    {
     "name": "stdout",
     "output_type": "stream",
     "text": [
      "Python Is A Programming Language "
     ]
    }
   ],
   "source": [
    "n=\"python is a programming language\"\n",
    "a=n.split(\" \")\n",
    "for i in (a):\n",
    "    print(i.capitalize(),end=\" \")"
   ]
  }
 ],
 "metadata": {
  "kernelspec": {
   "display_name": "Python 3 (ipykernel)",
   "language": "python",
   "name": "python3"
  },
  "language_info": {
   "codemirror_mode": {
    "name": "ipython",
    "version": 3
   },
   "file_extension": ".py",
   "mimetype": "text/x-python",
   "name": "python",
   "nbconvert_exporter": "python",
   "pygments_lexer": "ipython3",
   "version": "3.11.5"
  }
 },
 "nbformat": 4,
 "nbformat_minor": 5
}
